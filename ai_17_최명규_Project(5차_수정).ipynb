{
  "cells": [
    {
      "cell_type": "code",
      "source": [
        "import pandas as pd\n",
        "import numpy as np\n",
        "import matplotlib.pyplot as plt\n",
        "import seaborn as sns\n",
        "\n",
        "import sklearn\n",
        "from sklearn.preprocessing import StandardScaler\n",
        "from sklearn.cluster import KMeans"
      ],
      "metadata": {
        "id": "8LOMPy95UkI2"
      },
      "execution_count": 1,
      "outputs": []
    },
    {
      "cell_type": "markdown",
      "source": [
        "Name : 게임의 이름입니다.<br>\n",
        "Platform : 게임이 지원되는 플랫폼의 이름입니다.<br>\n",
        "Year : 게임이 출시된 연도입니다.<br>\n",
        "Genre : 게임의 장르입니다.<br>\n",
        "Publisher : 게임을 배급한 회사입니다.<br>\n",
        "NA_Sales : 북미지역에서의 수익입니다.<br>\n",
        "EU_Sales : 유럽지역에서의 수익입니다.<br>\n",
        "JP_Sales : 일본지역에서의 수익입니다.<br>\n",
        "Other_Sales : 기타지역에서의 수익입니다."
      ],
      "metadata": {
        "id": "ZBnLkZjRVaiC"
      }
    },
    {
      "cell_type": "code",
      "source": [
        "game = pd.read_csv('/content/vgames2.csv')\n",
        "game"
      ],
      "metadata": {
        "colab": {
          "base_uri": "https://localhost:8080/",
          "height": 849
        },
        "id": "CZC_sKfeU-wO",
        "outputId": "76f154b5-b198-49a9-e4f2-a8780ac477ad"
      },
      "execution_count": 2,
      "outputs": [
        {
          "output_type": "execute_result",
          "data": {
            "text/plain": [
              "       Unnamed: 0                                            Name Platform  \\\n",
              "0               1                    Candace Kane's Candy Factory       DS   \n",
              "1               2                                  The Munchables      Wii   \n",
              "2               3  Otome wa Oanesama Boku ni Koi Shiteru Portable      PSP   \n",
              "3               4                Deal or No Deal: Special Edition       DS   \n",
              "4               5       Ben 10 Ultimate Alien: Cosmic Destruction      PS3   \n",
              "...           ...                                             ...      ...   \n",
              "16593       16594                         Ice Age 2: The Meltdown       GC   \n",
              "16594       16595                     Rainbow Islands: Revolution      PSP   \n",
              "16595       16596                                        NBA 2K16      PS3   \n",
              "16596       16597                     Toukiden: The Age of Demons      PSV   \n",
              "16597       16598                        The King of Fighters '95       PS   \n",
              "\n",
              "         Year      Genre                    Publisher NA_Sales EU_Sales  \\\n",
              "0      2008.0     Action                    Destineer     0.04        0   \n",
              "1      2009.0     Action           Namco Bandai Games     0.17        0   \n",
              "2      2010.0  Adventure                    Alchemist        0        0   \n",
              "3      2010.0       Misc                    Zoo Games     0.04        0   \n",
              "4      2010.0   Platform                  D3Publisher     0.12     0.09   \n",
              "...       ...        ...                          ...      ...      ...   \n",
              "16593  2006.0   Platform                Vivendi Games     0.15     0.04   \n",
              "16594  2005.0     Action            Rising Star Games     0.01        0   \n",
              "16595  2015.0     Sports         Take-Two Interactive     0.44     0.19   \n",
              "16596  2013.0     Action                   Tecmo Koei     0.05     0.05   \n",
              "16597  1996.0   Fighting  Sony Computer Entertainment        0        0   \n",
              "\n",
              "      JP_Sales Other_Sales  \n",
              "0            0           0  \n",
              "1            0        0.01  \n",
              "2         0.02           0  \n",
              "3            0           0  \n",
              "4            0        0.04  \n",
              "...        ...         ...  \n",
              "16593        0        0.01  \n",
              "16594        0           0  \n",
              "16595     0.03        0.13  \n",
              "16596     0.25        0.03  \n",
              "16597     0.16        0.01  \n",
              "\n",
              "[16598 rows x 10 columns]"
            ],
            "text/html": [
              "\n",
              "  <div id=\"df-52658a3a-467b-4490-8be8-88e895d9503a\">\n",
              "    <div class=\"colab-df-container\">\n",
              "      <div>\n",
              "<style scoped>\n",
              "    .dataframe tbody tr th:only-of-type {\n",
              "        vertical-align: middle;\n",
              "    }\n",
              "\n",
              "    .dataframe tbody tr th {\n",
              "        vertical-align: top;\n",
              "    }\n",
              "\n",
              "    .dataframe thead th {\n",
              "        text-align: right;\n",
              "    }\n",
              "</style>\n",
              "<table border=\"1\" class=\"dataframe\">\n",
              "  <thead>\n",
              "    <tr style=\"text-align: right;\">\n",
              "      <th></th>\n",
              "      <th>Unnamed: 0</th>\n",
              "      <th>Name</th>\n",
              "      <th>Platform</th>\n",
              "      <th>Year</th>\n",
              "      <th>Genre</th>\n",
              "      <th>Publisher</th>\n",
              "      <th>NA_Sales</th>\n",
              "      <th>EU_Sales</th>\n",
              "      <th>JP_Sales</th>\n",
              "      <th>Other_Sales</th>\n",
              "    </tr>\n",
              "  </thead>\n",
              "  <tbody>\n",
              "    <tr>\n",
              "      <th>0</th>\n",
              "      <td>1</td>\n",
              "      <td>Candace Kane's Candy Factory</td>\n",
              "      <td>DS</td>\n",
              "      <td>2008.0</td>\n",
              "      <td>Action</td>\n",
              "      <td>Destineer</td>\n",
              "      <td>0.04</td>\n",
              "      <td>0</td>\n",
              "      <td>0</td>\n",
              "      <td>0</td>\n",
              "    </tr>\n",
              "    <tr>\n",
              "      <th>1</th>\n",
              "      <td>2</td>\n",
              "      <td>The Munchables</td>\n",
              "      <td>Wii</td>\n",
              "      <td>2009.0</td>\n",
              "      <td>Action</td>\n",
              "      <td>Namco Bandai Games</td>\n",
              "      <td>0.17</td>\n",
              "      <td>0</td>\n",
              "      <td>0</td>\n",
              "      <td>0.01</td>\n",
              "    </tr>\n",
              "    <tr>\n",
              "      <th>2</th>\n",
              "      <td>3</td>\n",
              "      <td>Otome wa Oanesama Boku ni Koi Shiteru Portable</td>\n",
              "      <td>PSP</td>\n",
              "      <td>2010.0</td>\n",
              "      <td>Adventure</td>\n",
              "      <td>Alchemist</td>\n",
              "      <td>0</td>\n",
              "      <td>0</td>\n",
              "      <td>0.02</td>\n",
              "      <td>0</td>\n",
              "    </tr>\n",
              "    <tr>\n",
              "      <th>3</th>\n",
              "      <td>4</td>\n",
              "      <td>Deal or No Deal: Special Edition</td>\n",
              "      <td>DS</td>\n",
              "      <td>2010.0</td>\n",
              "      <td>Misc</td>\n",
              "      <td>Zoo Games</td>\n",
              "      <td>0.04</td>\n",
              "      <td>0</td>\n",
              "      <td>0</td>\n",
              "      <td>0</td>\n",
              "    </tr>\n",
              "    <tr>\n",
              "      <th>4</th>\n",
              "      <td>5</td>\n",
              "      <td>Ben 10 Ultimate Alien: Cosmic Destruction</td>\n",
              "      <td>PS3</td>\n",
              "      <td>2010.0</td>\n",
              "      <td>Platform</td>\n",
              "      <td>D3Publisher</td>\n",
              "      <td>0.12</td>\n",
              "      <td>0.09</td>\n",
              "      <td>0</td>\n",
              "      <td>0.04</td>\n",
              "    </tr>\n",
              "    <tr>\n",
              "      <th>...</th>\n",
              "      <td>...</td>\n",
              "      <td>...</td>\n",
              "      <td>...</td>\n",
              "      <td>...</td>\n",
              "      <td>...</td>\n",
              "      <td>...</td>\n",
              "      <td>...</td>\n",
              "      <td>...</td>\n",
              "      <td>...</td>\n",
              "      <td>...</td>\n",
              "    </tr>\n",
              "    <tr>\n",
              "      <th>16593</th>\n",
              "      <td>16594</td>\n",
              "      <td>Ice Age 2: The Meltdown</td>\n",
              "      <td>GC</td>\n",
              "      <td>2006.0</td>\n",
              "      <td>Platform</td>\n",
              "      <td>Vivendi Games</td>\n",
              "      <td>0.15</td>\n",
              "      <td>0.04</td>\n",
              "      <td>0</td>\n",
              "      <td>0.01</td>\n",
              "    </tr>\n",
              "    <tr>\n",
              "      <th>16594</th>\n",
              "      <td>16595</td>\n",
              "      <td>Rainbow Islands: Revolution</td>\n",
              "      <td>PSP</td>\n",
              "      <td>2005.0</td>\n",
              "      <td>Action</td>\n",
              "      <td>Rising Star Games</td>\n",
              "      <td>0.01</td>\n",
              "      <td>0</td>\n",
              "      <td>0</td>\n",
              "      <td>0</td>\n",
              "    </tr>\n",
              "    <tr>\n",
              "      <th>16595</th>\n",
              "      <td>16596</td>\n",
              "      <td>NBA 2K16</td>\n",
              "      <td>PS3</td>\n",
              "      <td>2015.0</td>\n",
              "      <td>Sports</td>\n",
              "      <td>Take-Two Interactive</td>\n",
              "      <td>0.44</td>\n",
              "      <td>0.19</td>\n",
              "      <td>0.03</td>\n",
              "      <td>0.13</td>\n",
              "    </tr>\n",
              "    <tr>\n",
              "      <th>16596</th>\n",
              "      <td>16597</td>\n",
              "      <td>Toukiden: The Age of Demons</td>\n",
              "      <td>PSV</td>\n",
              "      <td>2013.0</td>\n",
              "      <td>Action</td>\n",
              "      <td>Tecmo Koei</td>\n",
              "      <td>0.05</td>\n",
              "      <td>0.05</td>\n",
              "      <td>0.25</td>\n",
              "      <td>0.03</td>\n",
              "    </tr>\n",
              "    <tr>\n",
              "      <th>16597</th>\n",
              "      <td>16598</td>\n",
              "      <td>The King of Fighters '95</td>\n",
              "      <td>PS</td>\n",
              "      <td>1996.0</td>\n",
              "      <td>Fighting</td>\n",
              "      <td>Sony Computer Entertainment</td>\n",
              "      <td>0</td>\n",
              "      <td>0</td>\n",
              "      <td>0.16</td>\n",
              "      <td>0.01</td>\n",
              "    </tr>\n",
              "  </tbody>\n",
              "</table>\n",
              "<p>16598 rows × 10 columns</p>\n",
              "</div>\n",
              "      <button class=\"colab-df-convert\" onclick=\"convertToInteractive('df-52658a3a-467b-4490-8be8-88e895d9503a')\"\n",
              "              title=\"Convert this dataframe to an interactive table.\"\n",
              "              style=\"display:none;\">\n",
              "        \n",
              "  <svg xmlns=\"http://www.w3.org/2000/svg\" height=\"24px\"viewBox=\"0 0 24 24\"\n",
              "       width=\"24px\">\n",
              "    <path d=\"M0 0h24v24H0V0z\" fill=\"none\"/>\n",
              "    <path d=\"M18.56 5.44l.94 2.06.94-2.06 2.06-.94-2.06-.94-.94-2.06-.94 2.06-2.06.94zm-11 1L8.5 8.5l.94-2.06 2.06-.94-2.06-.94L8.5 2.5l-.94 2.06-2.06.94zm10 10l.94 2.06.94-2.06 2.06-.94-2.06-.94-.94-2.06-.94 2.06-2.06.94z\"/><path d=\"M17.41 7.96l-1.37-1.37c-.4-.4-.92-.59-1.43-.59-.52 0-1.04.2-1.43.59L10.3 9.45l-7.72 7.72c-.78.78-.78 2.05 0 2.83L4 21.41c.39.39.9.59 1.41.59.51 0 1.02-.2 1.41-.59l7.78-7.78 2.81-2.81c.8-.78.8-2.07 0-2.86zM5.41 20L4 18.59l7.72-7.72 1.47 1.35L5.41 20z\"/>\n",
              "  </svg>\n",
              "      </button>\n",
              "      \n",
              "  <style>\n",
              "    .colab-df-container {\n",
              "      display:flex;\n",
              "      flex-wrap:wrap;\n",
              "      gap: 12px;\n",
              "    }\n",
              "\n",
              "    .colab-df-convert {\n",
              "      background-color: #E8F0FE;\n",
              "      border: none;\n",
              "      border-radius: 50%;\n",
              "      cursor: pointer;\n",
              "      display: none;\n",
              "      fill: #1967D2;\n",
              "      height: 32px;\n",
              "      padding: 0 0 0 0;\n",
              "      width: 32px;\n",
              "    }\n",
              "\n",
              "    .colab-df-convert:hover {\n",
              "      background-color: #E2EBFA;\n",
              "      box-shadow: 0px 1px 2px rgba(60, 64, 67, 0.3), 0px 1px 3px 1px rgba(60, 64, 67, 0.15);\n",
              "      fill: #174EA6;\n",
              "    }\n",
              "\n",
              "    [theme=dark] .colab-df-convert {\n",
              "      background-color: #3B4455;\n",
              "      fill: #D2E3FC;\n",
              "    }\n",
              "\n",
              "    [theme=dark] .colab-df-convert:hover {\n",
              "      background-color: #434B5C;\n",
              "      box-shadow: 0px 1px 3px 1px rgba(0, 0, 0, 0.15);\n",
              "      filter: drop-shadow(0px 1px 2px rgba(0, 0, 0, 0.3));\n",
              "      fill: #FFFFFF;\n",
              "    }\n",
              "  </style>\n",
              "\n",
              "      <script>\n",
              "        const buttonEl =\n",
              "          document.querySelector('#df-52658a3a-467b-4490-8be8-88e895d9503a button.colab-df-convert');\n",
              "        buttonEl.style.display =\n",
              "          google.colab.kernel.accessAllowed ? 'block' : 'none';\n",
              "\n",
              "        async function convertToInteractive(key) {\n",
              "          const element = document.querySelector('#df-52658a3a-467b-4490-8be8-88e895d9503a');\n",
              "          const dataTable =\n",
              "            await google.colab.kernel.invokeFunction('convertToInteractive',\n",
              "                                                     [key], {});\n",
              "          if (!dataTable) return;\n",
              "\n",
              "          const docLinkHtml = 'Like what you see? Visit the ' +\n",
              "            '<a target=\"_blank\" href=https://colab.research.google.com/notebooks/data_table.ipynb>data table notebook</a>'\n",
              "            + ' to learn more about interactive tables.';\n",
              "          element.innerHTML = '';\n",
              "          dataTable['output_type'] = 'display_data';\n",
              "          await google.colab.output.renderOutput(dataTable, element);\n",
              "          const docLink = document.createElement('div');\n",
              "          docLink.innerHTML = docLinkHtml;\n",
              "          element.appendChild(docLink);\n",
              "        }\n",
              "      </script>\n",
              "    </div>\n",
              "  </div>\n",
              "  "
            ]
          },
          "metadata": {},
          "execution_count": 2
        }
      ]
    },
    {
      "cell_type": "code",
      "source": [
        "# 필요 없는 Columns(열) 삭제\n",
        "\n",
        "game.drop('Unnamed: 0', axis = 1, inplace = True)"
      ],
      "metadata": {
        "id": "2hKkWSMbZDM2"
      },
      "execution_count": 3,
      "outputs": []
    },
    {
      "cell_type": "code",
      "source": [
        "game"
      ],
      "metadata": {
        "colab": {
          "base_uri": "https://localhost:8080/",
          "height": 658
        },
        "id": "uFb7AJrgZPOA",
        "outputId": "0dcd325b-02f1-4374-df4e-3b13fd3a8e89"
      },
      "execution_count": 4,
      "outputs": [
        {
          "output_type": "execute_result",
          "data": {
            "text/plain": [
              "                                                 Name Platform    Year  \\\n",
              "0                        Candace Kane's Candy Factory       DS  2008.0   \n",
              "1                                      The Munchables      Wii  2009.0   \n",
              "2      Otome wa Oanesama Boku ni Koi Shiteru Portable      PSP  2010.0   \n",
              "3                    Deal or No Deal: Special Edition       DS  2010.0   \n",
              "4           Ben 10 Ultimate Alien: Cosmic Destruction      PS3  2010.0   \n",
              "...                                               ...      ...     ...   \n",
              "16593                         Ice Age 2: The Meltdown       GC  2006.0   \n",
              "16594                     Rainbow Islands: Revolution      PSP  2005.0   \n",
              "16595                                        NBA 2K16      PS3  2015.0   \n",
              "16596                     Toukiden: The Age of Demons      PSV  2013.0   \n",
              "16597                        The King of Fighters '95       PS  1996.0   \n",
              "\n",
              "           Genre                    Publisher NA_Sales EU_Sales JP_Sales  \\\n",
              "0         Action                    Destineer     0.04        0        0   \n",
              "1         Action           Namco Bandai Games     0.17        0        0   \n",
              "2      Adventure                    Alchemist        0        0     0.02   \n",
              "3           Misc                    Zoo Games     0.04        0        0   \n",
              "4       Platform                  D3Publisher     0.12     0.09        0   \n",
              "...          ...                          ...      ...      ...      ...   \n",
              "16593   Platform                Vivendi Games     0.15     0.04        0   \n",
              "16594     Action            Rising Star Games     0.01        0        0   \n",
              "16595     Sports         Take-Two Interactive     0.44     0.19     0.03   \n",
              "16596     Action                   Tecmo Koei     0.05     0.05     0.25   \n",
              "16597   Fighting  Sony Computer Entertainment        0        0     0.16   \n",
              "\n",
              "      Other_Sales  \n",
              "0               0  \n",
              "1            0.01  \n",
              "2               0  \n",
              "3               0  \n",
              "4            0.04  \n",
              "...           ...  \n",
              "16593        0.01  \n",
              "16594           0  \n",
              "16595        0.13  \n",
              "16596        0.03  \n",
              "16597        0.01  \n",
              "\n",
              "[16598 rows x 9 columns]"
            ],
            "text/html": [
              "\n",
              "  <div id=\"df-108de5ab-43ad-47eb-98bc-c230d7bb6d81\">\n",
              "    <div class=\"colab-df-container\">\n",
              "      <div>\n",
              "<style scoped>\n",
              "    .dataframe tbody tr th:only-of-type {\n",
              "        vertical-align: middle;\n",
              "    }\n",
              "\n",
              "    .dataframe tbody tr th {\n",
              "        vertical-align: top;\n",
              "    }\n",
              "\n",
              "    .dataframe thead th {\n",
              "        text-align: right;\n",
              "    }\n",
              "</style>\n",
              "<table border=\"1\" class=\"dataframe\">\n",
              "  <thead>\n",
              "    <tr style=\"text-align: right;\">\n",
              "      <th></th>\n",
              "      <th>Name</th>\n",
              "      <th>Platform</th>\n",
              "      <th>Year</th>\n",
              "      <th>Genre</th>\n",
              "      <th>Publisher</th>\n",
              "      <th>NA_Sales</th>\n",
              "      <th>EU_Sales</th>\n",
              "      <th>JP_Sales</th>\n",
              "      <th>Other_Sales</th>\n",
              "    </tr>\n",
              "  </thead>\n",
              "  <tbody>\n",
              "    <tr>\n",
              "      <th>0</th>\n",
              "      <td>Candace Kane's Candy Factory</td>\n",
              "      <td>DS</td>\n",
              "      <td>2008.0</td>\n",
              "      <td>Action</td>\n",
              "      <td>Destineer</td>\n",
              "      <td>0.04</td>\n",
              "      <td>0</td>\n",
              "      <td>0</td>\n",
              "      <td>0</td>\n",
              "    </tr>\n",
              "    <tr>\n",
              "      <th>1</th>\n",
              "      <td>The Munchables</td>\n",
              "      <td>Wii</td>\n",
              "      <td>2009.0</td>\n",
              "      <td>Action</td>\n",
              "      <td>Namco Bandai Games</td>\n",
              "      <td>0.17</td>\n",
              "      <td>0</td>\n",
              "      <td>0</td>\n",
              "      <td>0.01</td>\n",
              "    </tr>\n",
              "    <tr>\n",
              "      <th>2</th>\n",
              "      <td>Otome wa Oanesama Boku ni Koi Shiteru Portable</td>\n",
              "      <td>PSP</td>\n",
              "      <td>2010.0</td>\n",
              "      <td>Adventure</td>\n",
              "      <td>Alchemist</td>\n",
              "      <td>0</td>\n",
              "      <td>0</td>\n",
              "      <td>0.02</td>\n",
              "      <td>0</td>\n",
              "    </tr>\n",
              "    <tr>\n",
              "      <th>3</th>\n",
              "      <td>Deal or No Deal: Special Edition</td>\n",
              "      <td>DS</td>\n",
              "      <td>2010.0</td>\n",
              "      <td>Misc</td>\n",
              "      <td>Zoo Games</td>\n",
              "      <td>0.04</td>\n",
              "      <td>0</td>\n",
              "      <td>0</td>\n",
              "      <td>0</td>\n",
              "    </tr>\n",
              "    <tr>\n",
              "      <th>4</th>\n",
              "      <td>Ben 10 Ultimate Alien: Cosmic Destruction</td>\n",
              "      <td>PS3</td>\n",
              "      <td>2010.0</td>\n",
              "      <td>Platform</td>\n",
              "      <td>D3Publisher</td>\n",
              "      <td>0.12</td>\n",
              "      <td>0.09</td>\n",
              "      <td>0</td>\n",
              "      <td>0.04</td>\n",
              "    </tr>\n",
              "    <tr>\n",
              "      <th>...</th>\n",
              "      <td>...</td>\n",
              "      <td>...</td>\n",
              "      <td>...</td>\n",
              "      <td>...</td>\n",
              "      <td>...</td>\n",
              "      <td>...</td>\n",
              "      <td>...</td>\n",
              "      <td>...</td>\n",
              "      <td>...</td>\n",
              "    </tr>\n",
              "    <tr>\n",
              "      <th>16593</th>\n",
              "      <td>Ice Age 2: The Meltdown</td>\n",
              "      <td>GC</td>\n",
              "      <td>2006.0</td>\n",
              "      <td>Platform</td>\n",
              "      <td>Vivendi Games</td>\n",
              "      <td>0.15</td>\n",
              "      <td>0.04</td>\n",
              "      <td>0</td>\n",
              "      <td>0.01</td>\n",
              "    </tr>\n",
              "    <tr>\n",
              "      <th>16594</th>\n",
              "      <td>Rainbow Islands: Revolution</td>\n",
              "      <td>PSP</td>\n",
              "      <td>2005.0</td>\n",
              "      <td>Action</td>\n",
              "      <td>Rising Star Games</td>\n",
              "      <td>0.01</td>\n",
              "      <td>0</td>\n",
              "      <td>0</td>\n",
              "      <td>0</td>\n",
              "    </tr>\n",
              "    <tr>\n",
              "      <th>16595</th>\n",
              "      <td>NBA 2K16</td>\n",
              "      <td>PS3</td>\n",
              "      <td>2015.0</td>\n",
              "      <td>Sports</td>\n",
              "      <td>Take-Two Interactive</td>\n",
              "      <td>0.44</td>\n",
              "      <td>0.19</td>\n",
              "      <td>0.03</td>\n",
              "      <td>0.13</td>\n",
              "    </tr>\n",
              "    <tr>\n",
              "      <th>16596</th>\n",
              "      <td>Toukiden: The Age of Demons</td>\n",
              "      <td>PSV</td>\n",
              "      <td>2013.0</td>\n",
              "      <td>Action</td>\n",
              "      <td>Tecmo Koei</td>\n",
              "      <td>0.05</td>\n",
              "      <td>0.05</td>\n",
              "      <td>0.25</td>\n",
              "      <td>0.03</td>\n",
              "    </tr>\n",
              "    <tr>\n",
              "      <th>16597</th>\n",
              "      <td>The King of Fighters '95</td>\n",
              "      <td>PS</td>\n",
              "      <td>1996.0</td>\n",
              "      <td>Fighting</td>\n",
              "      <td>Sony Computer Entertainment</td>\n",
              "      <td>0</td>\n",
              "      <td>0</td>\n",
              "      <td>0.16</td>\n",
              "      <td>0.01</td>\n",
              "    </tr>\n",
              "  </tbody>\n",
              "</table>\n",
              "<p>16598 rows × 9 columns</p>\n",
              "</div>\n",
              "      <button class=\"colab-df-convert\" onclick=\"convertToInteractive('df-108de5ab-43ad-47eb-98bc-c230d7bb6d81')\"\n",
              "              title=\"Convert this dataframe to an interactive table.\"\n",
              "              style=\"display:none;\">\n",
              "        \n",
              "  <svg xmlns=\"http://www.w3.org/2000/svg\" height=\"24px\"viewBox=\"0 0 24 24\"\n",
              "       width=\"24px\">\n",
              "    <path d=\"M0 0h24v24H0V0z\" fill=\"none\"/>\n",
              "    <path d=\"M18.56 5.44l.94 2.06.94-2.06 2.06-.94-2.06-.94-.94-2.06-.94 2.06-2.06.94zm-11 1L8.5 8.5l.94-2.06 2.06-.94-2.06-.94L8.5 2.5l-.94 2.06-2.06.94zm10 10l.94 2.06.94-2.06 2.06-.94-2.06-.94-.94-2.06-.94 2.06-2.06.94z\"/><path d=\"M17.41 7.96l-1.37-1.37c-.4-.4-.92-.59-1.43-.59-.52 0-1.04.2-1.43.59L10.3 9.45l-7.72 7.72c-.78.78-.78 2.05 0 2.83L4 21.41c.39.39.9.59 1.41.59.51 0 1.02-.2 1.41-.59l7.78-7.78 2.81-2.81c.8-.78.8-2.07 0-2.86zM5.41 20L4 18.59l7.72-7.72 1.47 1.35L5.41 20z\"/>\n",
              "  </svg>\n",
              "      </button>\n",
              "      \n",
              "  <style>\n",
              "    .colab-df-container {\n",
              "      display:flex;\n",
              "      flex-wrap:wrap;\n",
              "      gap: 12px;\n",
              "    }\n",
              "\n",
              "    .colab-df-convert {\n",
              "      background-color: #E8F0FE;\n",
              "      border: none;\n",
              "      border-radius: 50%;\n",
              "      cursor: pointer;\n",
              "      display: none;\n",
              "      fill: #1967D2;\n",
              "      height: 32px;\n",
              "      padding: 0 0 0 0;\n",
              "      width: 32px;\n",
              "    }\n",
              "\n",
              "    .colab-df-convert:hover {\n",
              "      background-color: #E2EBFA;\n",
              "      box-shadow: 0px 1px 2px rgba(60, 64, 67, 0.3), 0px 1px 3px 1px rgba(60, 64, 67, 0.15);\n",
              "      fill: #174EA6;\n",
              "    }\n",
              "\n",
              "    [theme=dark] .colab-df-convert {\n",
              "      background-color: #3B4455;\n",
              "      fill: #D2E3FC;\n",
              "    }\n",
              "\n",
              "    [theme=dark] .colab-df-convert:hover {\n",
              "      background-color: #434B5C;\n",
              "      box-shadow: 0px 1px 3px 1px rgba(0, 0, 0, 0.15);\n",
              "      filter: drop-shadow(0px 1px 2px rgba(0, 0, 0, 0.3));\n",
              "      fill: #FFFFFF;\n",
              "    }\n",
              "  </style>\n",
              "\n",
              "      <script>\n",
              "        const buttonEl =\n",
              "          document.querySelector('#df-108de5ab-43ad-47eb-98bc-c230d7bb6d81 button.colab-df-convert');\n",
              "        buttonEl.style.display =\n",
              "          google.colab.kernel.accessAllowed ? 'block' : 'none';\n",
              "\n",
              "        async function convertToInteractive(key) {\n",
              "          const element = document.querySelector('#df-108de5ab-43ad-47eb-98bc-c230d7bb6d81');\n",
              "          const dataTable =\n",
              "            await google.colab.kernel.invokeFunction('convertToInteractive',\n",
              "                                                     [key], {});\n",
              "          if (!dataTable) return;\n",
              "\n",
              "          const docLinkHtml = 'Like what you see? Visit the ' +\n",
              "            '<a target=\"_blank\" href=https://colab.research.google.com/notebooks/data_table.ipynb>data table notebook</a>'\n",
              "            + ' to learn more about interactive tables.';\n",
              "          element.innerHTML = '';\n",
              "          dataTable['output_type'] = 'display_data';\n",
              "          await google.colab.output.renderOutput(dataTable, element);\n",
              "          const docLink = document.createElement('div');\n",
              "          docLink.innerHTML = docLinkHtml;\n",
              "          element.appendChild(docLink);\n",
              "        }\n",
              "      </script>\n",
              "    </div>\n",
              "  </div>\n",
              "  "
            ]
          },
          "metadata": {},
          "execution_count": 4
        }
      ]
    },
    {
      "cell_type": "code",
      "source": [
        "# 연도의 데이터가 정수가 아닌 실수형으로 지정되어 있는 것을 확인.\n",
        "\n",
        "game.info()"
      ],
      "metadata": {
        "colab": {
          "base_uri": "https://localhost:8080/"
        },
        "id": "bvmGh7AiVRwq",
        "outputId": "9b80e999-ef33-461a-ed4d-bfa3385863ff"
      },
      "execution_count": 5,
      "outputs": [
        {
          "output_type": "stream",
          "name": "stdout",
          "text": [
            "<class 'pandas.core.frame.DataFrame'>\n",
            "RangeIndex: 16598 entries, 0 to 16597\n",
            "Data columns (total 9 columns):\n",
            " #   Column       Non-Null Count  Dtype  \n",
            "---  ------       --------------  -----  \n",
            " 0   Name         16598 non-null  object \n",
            " 1   Platform     16598 non-null  object \n",
            " 2   Year         16327 non-null  float64\n",
            " 3   Genre        16548 non-null  object \n",
            " 4   Publisher    16540 non-null  object \n",
            " 5   NA_Sales     16598 non-null  object \n",
            " 6   EU_Sales     16598 non-null  object \n",
            " 7   JP_Sales     16598 non-null  object \n",
            " 8   Other_Sales  16598 non-null  object \n",
            "dtypes: float64(1), object(8)\n",
            "memory usage: 1.1+ MB\n"
          ]
        }
      ]
    },
    {
      "cell_type": "code",
      "source": [
        "# 입력하지 않는 빈 데이터의 개수 확인.\n",
        "\n",
        "game.isnull().sum()"
      ],
      "metadata": {
        "colab": {
          "base_uri": "https://localhost:8080/"
        },
        "id": "64dpOuV0VFsI",
        "outputId": "5c9d5667-1dc3-4fe6-bd29-7bbc6825803c"
      },
      "execution_count": 6,
      "outputs": [
        {
          "output_type": "execute_result",
          "data": {
            "text/plain": [
              "Name             0\n",
              "Platform         0\n",
              "Year           271\n",
              "Genre           50\n",
              "Publisher       58\n",
              "NA_Sales         0\n",
              "EU_Sales         0\n",
              "JP_Sales         0\n",
              "Other_Sales      0\n",
              "dtype: int64"
            ]
          },
          "metadata": {},
          "execution_count": 6
        }
      ]
    },
    {
      "cell_type": "code",
      "source": [
        "# 작업 공간을 game_new 로 옮긴다.\n",
        "\n",
        "game_new = game.copy()"
      ],
      "metadata": {
        "id": "uP41cc6EaTUm"
      },
      "execution_count": 7,
      "outputs": []
    },
    {
      "cell_type": "code",
      "source": [
        "# 년도, 장르, 베포사가 없는 columns 삭제\n",
        "# 베포사도 마지막에 데이터 분석 시 사용할 것이기 때문에 빈 값 삭제 하지.\n",
        "\n",
        "game_new = game_new.dropna()\n",
        "game_new.info()"
      ],
      "metadata": {
        "colab": {
          "base_uri": "https://localhost:8080/"
        },
        "id": "0W1uCqdvZkGu",
        "outputId": "12391f87-1db2-4c85-afdb-87973b449341"
      },
      "execution_count": 8,
      "outputs": [
        {
          "output_type": "stream",
          "name": "stdout",
          "text": [
            "<class 'pandas.core.frame.DataFrame'>\n",
            "Int64Index: 16241 entries, 0 to 16597\n",
            "Data columns (total 9 columns):\n",
            " #   Column       Non-Null Count  Dtype  \n",
            "---  ------       --------------  -----  \n",
            " 0   Name         16241 non-null  object \n",
            " 1   Platform     16241 non-null  object \n",
            " 2   Year         16241 non-null  float64\n",
            " 3   Genre        16241 non-null  object \n",
            " 4   Publisher    16241 non-null  object \n",
            " 5   NA_Sales     16241 non-null  object \n",
            " 6   EU_Sales     16241 non-null  object \n",
            " 7   JP_Sales     16241 non-null  object \n",
            " 8   Other_Sales  16241 non-null  object \n",
            "dtypes: float64(1), object(8)\n",
            "memory usage: 1.2+ MB\n"
          ]
        }
      ]
    },
    {
      "cell_type": "code",
      "source": [
        "# 년도를 float에서 int로 변경\n",
        "\n",
        "game_new['Year'] = game_new['Year'].astype(int)\n",
        "game_new.info()"
      ],
      "metadata": {
        "colab": {
          "base_uri": "https://localhost:8080/"
        },
        "id": "Zl5FanvhcYHt",
        "outputId": "6781abd0-6874-479b-a6fb-91915895e483"
      },
      "execution_count": 18,
      "outputs": [
        {
          "output_type": "stream",
          "name": "stdout",
          "text": [
            "<class 'pandas.core.frame.DataFrame'>\n",
            "Int64Index: 16241 entries, 0 to 16597\n",
            "Data columns (total 9 columns):\n",
            " #   Column       Non-Null Count  Dtype \n",
            "---  ------       --------------  ----- \n",
            " 0   Name         16241 non-null  object\n",
            " 1   Platform     16241 non-null  object\n",
            " 2   Year         16241 non-null  int64 \n",
            " 3   Genre        16241 non-null  object\n",
            " 4   Publisher    16241 non-null  object\n",
            " 5   NA_Sales     16241 non-null  object\n",
            " 6   EU_Sales     16241 non-null  object\n",
            " 7   JP_Sales     16241 non-null  object\n",
            " 8   Other_Sales  16241 non-null  object\n",
            "dtypes: int64(1), object(8)\n",
            "memory usage: 1.2+ MB\n"
          ]
        }
      ]
    },
    {
      "cell_type": "code",
      "source": [
        "game_new.sample(10)"
      ],
      "metadata": {
        "colab": {
          "base_uri": "https://localhost:8080/",
          "height": 563
        },
        "id": "B5nEZnG696sN",
        "outputId": "69e50542-9976-4e63-bdae-d70c909be6b9"
      },
      "execution_count": 34,
      "outputs": [
        {
          "output_type": "execute_result",
          "data": {
            "text/plain": [
              "                                             Name Platform  Year  \\\n",
              "8497                    Power Pro Success Legends      PSP  2010   \n",
              "13870  Wedding Planner: Dream Weddings Guaranteed       DS  2010   \n",
              "4234                                      NHL 2K8     X360  2007   \n",
              "3537                      San Francisco Rush 2049      N64  2000   \n",
              "9905     Etrian Odyssey IV: Legends of the Titans      3DS  2012   \n",
              "11907                               Madden NFL 25      PS3  2013   \n",
              "13956                     Backyard NBA Basketball       DS  2007   \n",
              "3704     Naruto Shippuden: Ultimate Ninja Storm 3      PS3  2013   \n",
              "7415                   Spider-Man: Web of Shadows      Wii  2008   \n",
              "8408                                Instant Brain     X360  2011   \n",
              "\n",
              "              Genre                     Publisher NA_Sales EU_Sales JP_Sales  \\\n",
              "8497         Sports  Konami Digital Entertainment        0        0     0.06   \n",
              "13870    Simulation             DTP Entertainment       0M     0.01        0   \n",
              "4234         Sports          Take-Two Interactive     0.11     0.01        0   \n",
              "3537         Racing                  Midway Games     0.16     0.04        0   \n",
              "9905   Role-Playing                         Atlus     0.12     0.05      0.2   \n",
              "11907        Sports               Electronic Arts     1.59     0.03        0   \n",
              "13956        Sports                         Atari     0.07        0        0   \n",
              "3704       Fighting            Namco Bandai Games     0.32     0.33     0.15   \n",
              "7415         Action                    Activision     0.22     0.01        0   \n",
              "8408      Adventure                          Cave        0        0     0.01   \n",
              "\n",
              "      Other_Sales  \n",
              "8497            0  \n",
              "13870           0  \n",
              "4234         0.01  \n",
              "3537            0  \n",
              "9905          10K  \n",
              "11907        0.15  \n",
              "13956        0.01  \n",
              "3704         0.15  \n",
              "7415         0.02  \n",
              "8408            0  "
            ],
            "text/html": [
              "\n",
              "  <div id=\"df-df0983d4-4565-4c52-97ec-d9c0670f9062\">\n",
              "    <div class=\"colab-df-container\">\n",
              "      <div>\n",
              "<style scoped>\n",
              "    .dataframe tbody tr th:only-of-type {\n",
              "        vertical-align: middle;\n",
              "    }\n",
              "\n",
              "    .dataframe tbody tr th {\n",
              "        vertical-align: top;\n",
              "    }\n",
              "\n",
              "    .dataframe thead th {\n",
              "        text-align: right;\n",
              "    }\n",
              "</style>\n",
              "<table border=\"1\" class=\"dataframe\">\n",
              "  <thead>\n",
              "    <tr style=\"text-align: right;\">\n",
              "      <th></th>\n",
              "      <th>Name</th>\n",
              "      <th>Platform</th>\n",
              "      <th>Year</th>\n",
              "      <th>Genre</th>\n",
              "      <th>Publisher</th>\n",
              "      <th>NA_Sales</th>\n",
              "      <th>EU_Sales</th>\n",
              "      <th>JP_Sales</th>\n",
              "      <th>Other_Sales</th>\n",
              "    </tr>\n",
              "  </thead>\n",
              "  <tbody>\n",
              "    <tr>\n",
              "      <th>8497</th>\n",
              "      <td>Power Pro Success Legends</td>\n",
              "      <td>PSP</td>\n",
              "      <td>2010</td>\n",
              "      <td>Sports</td>\n",
              "      <td>Konami Digital Entertainment</td>\n",
              "      <td>0</td>\n",
              "      <td>0</td>\n",
              "      <td>0.06</td>\n",
              "      <td>0</td>\n",
              "    </tr>\n",
              "    <tr>\n",
              "      <th>13870</th>\n",
              "      <td>Wedding Planner: Dream Weddings Guaranteed</td>\n",
              "      <td>DS</td>\n",
              "      <td>2010</td>\n",
              "      <td>Simulation</td>\n",
              "      <td>DTP Entertainment</td>\n",
              "      <td>0M</td>\n",
              "      <td>0.01</td>\n",
              "      <td>0</td>\n",
              "      <td>0</td>\n",
              "    </tr>\n",
              "    <tr>\n",
              "      <th>4234</th>\n",
              "      <td>NHL 2K8</td>\n",
              "      <td>X360</td>\n",
              "      <td>2007</td>\n",
              "      <td>Sports</td>\n",
              "      <td>Take-Two Interactive</td>\n",
              "      <td>0.11</td>\n",
              "      <td>0.01</td>\n",
              "      <td>0</td>\n",
              "      <td>0.01</td>\n",
              "    </tr>\n",
              "    <tr>\n",
              "      <th>3537</th>\n",
              "      <td>San Francisco Rush 2049</td>\n",
              "      <td>N64</td>\n",
              "      <td>2000</td>\n",
              "      <td>Racing</td>\n",
              "      <td>Midway Games</td>\n",
              "      <td>0.16</td>\n",
              "      <td>0.04</td>\n",
              "      <td>0</td>\n",
              "      <td>0</td>\n",
              "    </tr>\n",
              "    <tr>\n",
              "      <th>9905</th>\n",
              "      <td>Etrian Odyssey IV: Legends of the Titans</td>\n",
              "      <td>3DS</td>\n",
              "      <td>2012</td>\n",
              "      <td>Role-Playing</td>\n",
              "      <td>Atlus</td>\n",
              "      <td>0.12</td>\n",
              "      <td>0.05</td>\n",
              "      <td>0.2</td>\n",
              "      <td>10K</td>\n",
              "    </tr>\n",
              "    <tr>\n",
              "      <th>11907</th>\n",
              "      <td>Madden NFL 25</td>\n",
              "      <td>PS3</td>\n",
              "      <td>2013</td>\n",
              "      <td>Sports</td>\n",
              "      <td>Electronic Arts</td>\n",
              "      <td>1.59</td>\n",
              "      <td>0.03</td>\n",
              "      <td>0</td>\n",
              "      <td>0.15</td>\n",
              "    </tr>\n",
              "    <tr>\n",
              "      <th>13956</th>\n",
              "      <td>Backyard NBA Basketball</td>\n",
              "      <td>DS</td>\n",
              "      <td>2007</td>\n",
              "      <td>Sports</td>\n",
              "      <td>Atari</td>\n",
              "      <td>0.07</td>\n",
              "      <td>0</td>\n",
              "      <td>0</td>\n",
              "      <td>0.01</td>\n",
              "    </tr>\n",
              "    <tr>\n",
              "      <th>3704</th>\n",
              "      <td>Naruto Shippuden: Ultimate Ninja Storm 3</td>\n",
              "      <td>PS3</td>\n",
              "      <td>2013</td>\n",
              "      <td>Fighting</td>\n",
              "      <td>Namco Bandai Games</td>\n",
              "      <td>0.32</td>\n",
              "      <td>0.33</td>\n",
              "      <td>0.15</td>\n",
              "      <td>0.15</td>\n",
              "    </tr>\n",
              "    <tr>\n",
              "      <th>7415</th>\n",
              "      <td>Spider-Man: Web of Shadows</td>\n",
              "      <td>Wii</td>\n",
              "      <td>2008</td>\n",
              "      <td>Action</td>\n",
              "      <td>Activision</td>\n",
              "      <td>0.22</td>\n",
              "      <td>0.01</td>\n",
              "      <td>0</td>\n",
              "      <td>0.02</td>\n",
              "    </tr>\n",
              "    <tr>\n",
              "      <th>8408</th>\n",
              "      <td>Instant Brain</td>\n",
              "      <td>X360</td>\n",
              "      <td>2011</td>\n",
              "      <td>Adventure</td>\n",
              "      <td>Cave</td>\n",
              "      <td>0</td>\n",
              "      <td>0</td>\n",
              "      <td>0.01</td>\n",
              "      <td>0</td>\n",
              "    </tr>\n",
              "  </tbody>\n",
              "</table>\n",
              "</div>\n",
              "      <button class=\"colab-df-convert\" onclick=\"convertToInteractive('df-df0983d4-4565-4c52-97ec-d9c0670f9062')\"\n",
              "              title=\"Convert this dataframe to an interactive table.\"\n",
              "              style=\"display:none;\">\n",
              "        \n",
              "  <svg xmlns=\"http://www.w3.org/2000/svg\" height=\"24px\"viewBox=\"0 0 24 24\"\n",
              "       width=\"24px\">\n",
              "    <path d=\"M0 0h24v24H0V0z\" fill=\"none\"/>\n",
              "    <path d=\"M18.56 5.44l.94 2.06.94-2.06 2.06-.94-2.06-.94-.94-2.06-.94 2.06-2.06.94zm-11 1L8.5 8.5l.94-2.06 2.06-.94-2.06-.94L8.5 2.5l-.94 2.06-2.06.94zm10 10l.94 2.06.94-2.06 2.06-.94-2.06-.94-.94-2.06-.94 2.06-2.06.94z\"/><path d=\"M17.41 7.96l-1.37-1.37c-.4-.4-.92-.59-1.43-.59-.52 0-1.04.2-1.43.59L10.3 9.45l-7.72 7.72c-.78.78-.78 2.05 0 2.83L4 21.41c.39.39.9.59 1.41.59.51 0 1.02-.2 1.41-.59l7.78-7.78 2.81-2.81c.8-.78.8-2.07 0-2.86zM5.41 20L4 18.59l7.72-7.72 1.47 1.35L5.41 20z\"/>\n",
              "  </svg>\n",
              "      </button>\n",
              "      \n",
              "  <style>\n",
              "    .colab-df-container {\n",
              "      display:flex;\n",
              "      flex-wrap:wrap;\n",
              "      gap: 12px;\n",
              "    }\n",
              "\n",
              "    .colab-df-convert {\n",
              "      background-color: #E8F0FE;\n",
              "      border: none;\n",
              "      border-radius: 50%;\n",
              "      cursor: pointer;\n",
              "      display: none;\n",
              "      fill: #1967D2;\n",
              "      height: 32px;\n",
              "      padding: 0 0 0 0;\n",
              "      width: 32px;\n",
              "    }\n",
              "\n",
              "    .colab-df-convert:hover {\n",
              "      background-color: #E2EBFA;\n",
              "      box-shadow: 0px 1px 2px rgba(60, 64, 67, 0.3), 0px 1px 3px 1px rgba(60, 64, 67, 0.15);\n",
              "      fill: #174EA6;\n",
              "    }\n",
              "\n",
              "    [theme=dark] .colab-df-convert {\n",
              "      background-color: #3B4455;\n",
              "      fill: #D2E3FC;\n",
              "    }\n",
              "\n",
              "    [theme=dark] .colab-df-convert:hover {\n",
              "      background-color: #434B5C;\n",
              "      box-shadow: 0px 1px 3px 1px rgba(0, 0, 0, 0.15);\n",
              "      filter: drop-shadow(0px 1px 2px rgba(0, 0, 0, 0.3));\n",
              "      fill: #FFFFFF;\n",
              "    }\n",
              "  </style>\n",
              "\n",
              "      <script>\n",
              "        const buttonEl =\n",
              "          document.querySelector('#df-df0983d4-4565-4c52-97ec-d9c0670f9062 button.colab-df-convert');\n",
              "        buttonEl.style.display =\n",
              "          google.colab.kernel.accessAllowed ? 'block' : 'none';\n",
              "\n",
              "        async function convertToInteractive(key) {\n",
              "          const element = document.querySelector('#df-df0983d4-4565-4c52-97ec-d9c0670f9062');\n",
              "          const dataTable =\n",
              "            await google.colab.kernel.invokeFunction('convertToInteractive',\n",
              "                                                     [key], {});\n",
              "          if (!dataTable) return;\n",
              "\n",
              "          const docLinkHtml = 'Like what you see? Visit the ' +\n",
              "            '<a target=\"_blank\" href=https://colab.research.google.com/notebooks/data_table.ipynb>data table notebook</a>'\n",
              "            + ' to learn more about interactive tables.';\n",
              "          element.innerHTML = '';\n",
              "          dataTable['output_type'] = 'display_data';\n",
              "          await google.colab.output.renderOutput(dataTable, element);\n",
              "          const docLink = document.createElement('div');\n",
              "          docLink.innerHTML = docLinkHtml;\n",
              "          element.appendChild(docLink);\n",
              "        }\n",
              "      </script>\n",
              "    </div>\n",
              "  </div>\n",
              "  "
            ]
          },
          "metadata": {},
          "execution_count": 34
        }
      ]
    },
    {
      "cell_type": "code",
      "source": [
        "# 기준을 K(킬로)가 아닌 M(메가)으로 잡음\n",
        "\n",
        "def transf(data):\n",
        "  trnas_word = data\n",
        "  if 'K' in trnas_word:\n",
        "    trnas_word.replace('K', '')\n",
        "    trnas_word = float(trnas_word.replace('K', ''))\n",
        "    return trnas_word / 1000\n",
        "  elif 'M' in trnas_word:\n",
        "    trnas_word = trnas_word.replace('M', '')\n",
        "    return float(trnas_word)\n",
        "  else:\n",
        "    return float(trnas_word)"
      ],
      "metadata": {
        "id": "UBB6euMu1MVU"
      },
      "execution_count": 35,
      "outputs": []
    },
    {
      "cell_type": "code",
      "source": [
        "game_new['NA_Sales'] = game_new.NA_Sales.apply(transf)\n",
        "game_new['EU_Sales'] = game_new.EU_Sales.apply(transf)\n",
        "game_new['JP_Sales'] = game_new.JP_Sales.apply(transf)\n",
        "game_new['Other_Sales'] = game_new.Other_Sales.apply(transf)"
      ],
      "metadata": {
        "id": "IRkUXeiG1OzY"
      },
      "execution_count": 36,
      "outputs": []
    },
    {
      "cell_type": "code",
      "source": [
        "game_new.info()"
      ],
      "metadata": {
        "colab": {
          "base_uri": "https://localhost:8080/"
        },
        "id": "dbHXFfK71Xk0",
        "outputId": "d5520016-9907-4e60-cb96-49ae0c0156d9"
      },
      "execution_count": 37,
      "outputs": [
        {
          "output_type": "stream",
          "name": "stdout",
          "text": [
            "<class 'pandas.core.frame.DataFrame'>\n",
            "Int64Index: 16241 entries, 0 to 16597\n",
            "Data columns (total 9 columns):\n",
            " #   Column       Non-Null Count  Dtype  \n",
            "---  ------       --------------  -----  \n",
            " 0   Name         16241 non-null  object \n",
            " 1   Platform     16241 non-null  object \n",
            " 2   Year         16241 non-null  int64  \n",
            " 3   Genre        16241 non-null  object \n",
            " 4   Publisher    16241 non-null  object \n",
            " 5   NA_Sales     16241 non-null  float64\n",
            " 6   EU_Sales     16241 non-null  float64\n",
            " 7   JP_Sales     16241 non-null  float64\n",
            " 8   Other_Sales  16241 non-null  float64\n",
            "dtypes: float64(4), int64(1), object(4)\n",
            "memory usage: 1.2+ MB\n"
          ]
        }
      ]
    },
    {
      "cell_type": "code",
      "source": [
        "game_new.sample(5)"
      ],
      "metadata": {
        "colab": {
          "base_uri": "https://localhost:8080/",
          "height": 285
        },
        "id": "Xbsldq5J2SKv",
        "outputId": "96420b37-d8d9-4ae7-ac8a-e9c05fb1b7bd"
      },
      "execution_count": 38,
      "outputs": [
        {
          "output_type": "execute_result",
          "data": {
            "text/plain": [
              "                                              Name Platform  Year      Genre  \\\n",
              "14756  Super Robot Taisen OG: Original Generations      PS2  2007   Strategy   \n",
              "15997                              Wrestle Kingdom      PS2  2006   Fighting   \n",
              "7971                          Grand Ages: Medieval      PS4  2015   Strategy   \n",
              "7648                       Trick x Logic: Season 2      PSP  2010  Adventure   \n",
              "8624                                    Spy Hunter      PS2  2001     Racing   \n",
              "\n",
              "                         Publisher  NA_Sales  EU_Sales  JP_Sales  Other_Sales  \n",
              "14756                    Banpresto      0.00      0.00      0.44         0.00  \n",
              "15997                       Yuke's      0.00      0.00      0.03         0.00  \n",
              "7971                 Kalypso Media      0.00      0.05      0.01         0.01  \n",
              "7648   Sony Computer Entertainment      0.00      0.00      0.04         0.00  \n",
              "8624                  Midway Games      1.13      0.32      0.00         0.22  "
            ],
            "text/html": [
              "\n",
              "  <div id=\"df-94fc4d95-50a8-4a8d-8db0-a7739286ae3c\">\n",
              "    <div class=\"colab-df-container\">\n",
              "      <div>\n",
              "<style scoped>\n",
              "    .dataframe tbody tr th:only-of-type {\n",
              "        vertical-align: middle;\n",
              "    }\n",
              "\n",
              "    .dataframe tbody tr th {\n",
              "        vertical-align: top;\n",
              "    }\n",
              "\n",
              "    .dataframe thead th {\n",
              "        text-align: right;\n",
              "    }\n",
              "</style>\n",
              "<table border=\"1\" class=\"dataframe\">\n",
              "  <thead>\n",
              "    <tr style=\"text-align: right;\">\n",
              "      <th></th>\n",
              "      <th>Name</th>\n",
              "      <th>Platform</th>\n",
              "      <th>Year</th>\n",
              "      <th>Genre</th>\n",
              "      <th>Publisher</th>\n",
              "      <th>NA_Sales</th>\n",
              "      <th>EU_Sales</th>\n",
              "      <th>JP_Sales</th>\n",
              "      <th>Other_Sales</th>\n",
              "    </tr>\n",
              "  </thead>\n",
              "  <tbody>\n",
              "    <tr>\n",
              "      <th>14756</th>\n",
              "      <td>Super Robot Taisen OG: Original Generations</td>\n",
              "      <td>PS2</td>\n",
              "      <td>2007</td>\n",
              "      <td>Strategy</td>\n",
              "      <td>Banpresto</td>\n",
              "      <td>0.00</td>\n",
              "      <td>0.00</td>\n",
              "      <td>0.44</td>\n",
              "      <td>0.00</td>\n",
              "    </tr>\n",
              "    <tr>\n",
              "      <th>15997</th>\n",
              "      <td>Wrestle Kingdom</td>\n",
              "      <td>PS2</td>\n",
              "      <td>2006</td>\n",
              "      <td>Fighting</td>\n",
              "      <td>Yuke's</td>\n",
              "      <td>0.00</td>\n",
              "      <td>0.00</td>\n",
              "      <td>0.03</td>\n",
              "      <td>0.00</td>\n",
              "    </tr>\n",
              "    <tr>\n",
              "      <th>7971</th>\n",
              "      <td>Grand Ages: Medieval</td>\n",
              "      <td>PS4</td>\n",
              "      <td>2015</td>\n",
              "      <td>Strategy</td>\n",
              "      <td>Kalypso Media</td>\n",
              "      <td>0.00</td>\n",
              "      <td>0.05</td>\n",
              "      <td>0.01</td>\n",
              "      <td>0.01</td>\n",
              "    </tr>\n",
              "    <tr>\n",
              "      <th>7648</th>\n",
              "      <td>Trick x Logic: Season 2</td>\n",
              "      <td>PSP</td>\n",
              "      <td>2010</td>\n",
              "      <td>Adventure</td>\n",
              "      <td>Sony Computer Entertainment</td>\n",
              "      <td>0.00</td>\n",
              "      <td>0.00</td>\n",
              "      <td>0.04</td>\n",
              "      <td>0.00</td>\n",
              "    </tr>\n",
              "    <tr>\n",
              "      <th>8624</th>\n",
              "      <td>Spy Hunter</td>\n",
              "      <td>PS2</td>\n",
              "      <td>2001</td>\n",
              "      <td>Racing</td>\n",
              "      <td>Midway Games</td>\n",
              "      <td>1.13</td>\n",
              "      <td>0.32</td>\n",
              "      <td>0.00</td>\n",
              "      <td>0.22</td>\n",
              "    </tr>\n",
              "  </tbody>\n",
              "</table>\n",
              "</div>\n",
              "      <button class=\"colab-df-convert\" onclick=\"convertToInteractive('df-94fc4d95-50a8-4a8d-8db0-a7739286ae3c')\"\n",
              "              title=\"Convert this dataframe to an interactive table.\"\n",
              "              style=\"display:none;\">\n",
              "        \n",
              "  <svg xmlns=\"http://www.w3.org/2000/svg\" height=\"24px\"viewBox=\"0 0 24 24\"\n",
              "       width=\"24px\">\n",
              "    <path d=\"M0 0h24v24H0V0z\" fill=\"none\"/>\n",
              "    <path d=\"M18.56 5.44l.94 2.06.94-2.06 2.06-.94-2.06-.94-.94-2.06-.94 2.06-2.06.94zm-11 1L8.5 8.5l.94-2.06 2.06-.94-2.06-.94L8.5 2.5l-.94 2.06-2.06.94zm10 10l.94 2.06.94-2.06 2.06-.94-2.06-.94-.94-2.06-.94 2.06-2.06.94z\"/><path d=\"M17.41 7.96l-1.37-1.37c-.4-.4-.92-.59-1.43-.59-.52 0-1.04.2-1.43.59L10.3 9.45l-7.72 7.72c-.78.78-.78 2.05 0 2.83L4 21.41c.39.39.9.59 1.41.59.51 0 1.02-.2 1.41-.59l7.78-7.78 2.81-2.81c.8-.78.8-2.07 0-2.86zM5.41 20L4 18.59l7.72-7.72 1.47 1.35L5.41 20z\"/>\n",
              "  </svg>\n",
              "      </button>\n",
              "      \n",
              "  <style>\n",
              "    .colab-df-container {\n",
              "      display:flex;\n",
              "      flex-wrap:wrap;\n",
              "      gap: 12px;\n",
              "    }\n",
              "\n",
              "    .colab-df-convert {\n",
              "      background-color: #E8F0FE;\n",
              "      border: none;\n",
              "      border-radius: 50%;\n",
              "      cursor: pointer;\n",
              "      display: none;\n",
              "      fill: #1967D2;\n",
              "      height: 32px;\n",
              "      padding: 0 0 0 0;\n",
              "      width: 32px;\n",
              "    }\n",
              "\n",
              "    .colab-df-convert:hover {\n",
              "      background-color: #E2EBFA;\n",
              "      box-shadow: 0px 1px 2px rgba(60, 64, 67, 0.3), 0px 1px 3px 1px rgba(60, 64, 67, 0.15);\n",
              "      fill: #174EA6;\n",
              "    }\n",
              "\n",
              "    [theme=dark] .colab-df-convert {\n",
              "      background-color: #3B4455;\n",
              "      fill: #D2E3FC;\n",
              "    }\n",
              "\n",
              "    [theme=dark] .colab-df-convert:hover {\n",
              "      background-color: #434B5C;\n",
              "      box-shadow: 0px 1px 3px 1px rgba(0, 0, 0, 0.15);\n",
              "      filter: drop-shadow(0px 1px 2px rgba(0, 0, 0, 0.3));\n",
              "      fill: #FFFFFF;\n",
              "    }\n",
              "  </style>\n",
              "\n",
              "      <script>\n",
              "        const buttonEl =\n",
              "          document.querySelector('#df-94fc4d95-50a8-4a8d-8db0-a7739286ae3c button.colab-df-convert');\n",
              "        buttonEl.style.display =\n",
              "          google.colab.kernel.accessAllowed ? 'block' : 'none';\n",
              "\n",
              "        async function convertToInteractive(key) {\n",
              "          const element = document.querySelector('#df-94fc4d95-50a8-4a8d-8db0-a7739286ae3c');\n",
              "          const dataTable =\n",
              "            await google.colab.kernel.invokeFunction('convertToInteractive',\n",
              "                                                     [key], {});\n",
              "          if (!dataTable) return;\n",
              "\n",
              "          const docLinkHtml = 'Like what you see? Visit the ' +\n",
              "            '<a target=\"_blank\" href=https://colab.research.google.com/notebooks/data_table.ipynb>data table notebook</a>'\n",
              "            + ' to learn more about interactive tables.';\n",
              "          element.innerHTML = '';\n",
              "          dataTable['output_type'] = 'display_data';\n",
              "          await google.colab.output.renderOutput(dataTable, element);\n",
              "          const docLink = document.createElement('div');\n",
              "          docLink.innerHTML = docLinkHtml;\n",
              "          element.appendChild(docLink);\n",
              "        }\n",
              "      </script>\n",
              "    </div>\n",
              "  </div>\n",
              "  "
            ]
          },
          "metadata": {},
          "execution_count": 38
        }
      ]
    },
    {
      "cell_type": "code",
      "source": [
        "# 북미지역 플렛폼별 판매량의 합계\n",
        "# 판매량을 지역별로 비교하기 위해 y축을 600으로 모두 고정\n",
        "\n",
        "NA_Platform = game_new.groupby(\"Platform\")['NA_Sales'].sum()\n",
        "\n",
        "\n",
        "NA_Platform.plot.bar(x='NA_Paltform', y='value')\n",
        "plt.ylim(0,600)\n",
        "plt.figure(figsize=(20,15))\n",
        "\n",
        "plt.show()"
      ],
      "metadata": {
        "colab": {
          "base_uri": "https://localhost:8080/",
          "height": 318
        },
        "id": "gKO4EQrNNQFk",
        "outputId": "3690e925-2126-4809-cbca-58219fd065ff"
      },
      "execution_count": 39,
      "outputs": [
        {
          "output_type": "display_data",
          "data": {
            "text/plain": [
              "<Figure size 432x288 with 1 Axes>"
            ],
            "image/png": "[encoded data removed]"
          },
          "metadata": {
            "needs_background": "light"
          }
        },
        {
          "output_type": "display_data",
          "data": {
            "text/plain": [
              "<Figure size 1440x1080 with 0 Axes>"
            ]
          },
          "metadata": {}
        }
      ]
    },
    {
      "cell_type": "markdown",
      "source": [
        "# 결과\n",
        "\n",
        "북미지역에서는 PS~PS4(Play Station), X360(Xbox), wii등 콘솔게임이 주를 이루고 있다."
      ],
      "metadata": {
        "id": "zoXU-7KkmLlC"
      }
    },
    {
      "cell_type": "code",
      "source": [
        "# 유럽지역 플렛폼별 판매량의 합계\n",
        "\n",
        "EU_Platform = game_new.groupby(\"Platform\")['EU_Sales'].sum()\n",
        "\n",
        "\n",
        "EU_Platform.plot.bar(x='EU_Paltform', y='value')\n",
        "plt.ylim(0,600)\n",
        "plt.figure(figsize=(20,15))\n",
        "\n",
        "plt.show()"
      ],
      "metadata": {
        "colab": {
          "base_uri": "https://localhost:8080/",
          "height": 318
        },
        "id": "Pd3m754tOHdz",
        "outputId": "c1acafe2-6a6f-4a9e-f90f-6afe823bf242"
      },
      "execution_count": 40,
      "outputs": [
        {
          "output_type": "display_data",
          "data": {
            "text/plain": [
              "<Figure size 432x288 with 1 Axes>"
            ],
            "image/png": "[encoded data removed]"
          },
          "metadata": {
            "needs_background": "light"
          }
        },
        {
          "output_type": "display_data",
          "data": {
            "text/plain": [
              "<Figure size 1440x1080 with 0 Axes>"
            ]
          },
          "metadata": {}
        }
      ]
    },
    {
      "cell_type": "markdown",
      "source": [
        "# 결과\n",
        "\n",
        "유럽지역에서도 북미지역과 비슷하게 PS(Play Station), X360(Xbox360), wii를 플렛폼으로 사용하는 게임들이 높은 판매량을 보여준다."
      ],
      "metadata": {
        "id": "LQfuxqZHmiNT"
      }
    },
    {
      "cell_type": "code",
      "source": [
        "# 일본지역 플렛폼별 판매량의 합계\n",
        "\n",
        "JP_Platform = game_new.groupby(\"Platform\")['JP_Sales'].sum()\n",
        "\n",
        "\n",
        "JP_Platform.plot.bar(x='JP_Paltform', y='value')\n",
        "plt.ylim(0,600)\n",
        "plt.figure(figsize=(20,15))\n",
        "\n",
        "plt.show()"
      ],
      "metadata": {
        "colab": {
          "base_uri": "https://localhost:8080/",
          "height": 318
        },
        "id": "_UcjXamSOHU7",
        "outputId": "cdd9c739-1d83-4e76-e85d-598759fdf9e9"
      },
      "execution_count": 41,
      "outputs": [
        {
          "output_type": "display_data",
          "data": {
            "text/plain": [
              "<Figure size 432x288 with 1 Axes>"
            ],
            "image/png": "[encoded data removed]"
          },
          "metadata": {
            "needs_background": "light"
          }
        },
        {
          "output_type": "display_data",
          "data": {
            "text/plain": [
              "<Figure size 1440x1080 with 0 Axes>"
            ]
          },
          "metadata": {}
        }
      ]
    },
    {
      "cell_type": "markdown",
      "source": [
        "# 결과\n",
        "\n",
        "일본은 조금 다르다. 닌텐도DS가 1등을 차지하고 그 다음이 PS 시리즈이다. 북미와 유럽에서 강세를 보였던 Xbox 플렛폼은 일본에서는 수익이 낮다는 것을 확인했다."
      ],
      "metadata": {
        "id": "3HN5dvs5pEN9"
      }
    },
    {
      "cell_type": "code",
      "source": [
        "# 그 외 지역 플렛폼별 판매량의 합계\n",
        "\n",
        "Other_Platform = game_new.groupby(\"Platform\")['Other_Sales'].sum()\n",
        "\n",
        "\n",
        "Other_Platform.plot.bar(x='Other_Paltform', y='value')\n",
        "plt.ylim(0,600)\n",
        "plt.figure(figsize=(30,20))\n",
        "\n",
        "plt.show()"
      ],
      "metadata": {
        "colab": {
          "base_uri": "https://localhost:8080/",
          "height": 318
        },
        "id": "PvBw7gnoOHIj",
        "outputId": "3b983915-542c-42cf-a16d-df4003f5d3e5"
      },
      "execution_count": 42,
      "outputs": [
        {
          "output_type": "display_data",
          "data": {
            "text/plain": [
              "<Figure size 432x288 with 1 Axes>"
            ],
            "image/png": "[encoded data removed]"
          },
          "metadata": {
            "needs_background": "light"
          }
        },
        {
          "output_type": "display_data",
          "data": {
            "text/plain": [
              "<Figure size 2160x1440 with 0 Axes>"
            ]
          },
          "metadata": {}
        }
      ]
    },
    {
      "cell_type": "markdown",
      "source": [
        "# 결과\n",
        "\n",
        "그 외의 지역에서는 PS 시리즈가 1등이다. Xbox와 wii 플렛폼도 판매량이 좋긴하지만 플레이스테이션 플렛폼이 압도적이다."
      ],
      "metadata": {
        "id": "segfgW7epji8"
      }
    },
    {
      "cell_type": "markdown",
      "source": [
        "# 플렛폼에 대한 결과분석\n",
        "\n",
        "1. JP지역 제외, 북미, 유럽, 그외 지역에서 모두 플레이스테이션과 엑스박스가 시장을 쥐고 있다.\n",
        "2. JP 지역에서는만 닌텐도DS가 1등을 차지하고 있다.\n",
        "3. 결론적으로 플레이스테이션과 엑스박스 양자구도"
      ],
      "metadata": {
        "id": "CLfsf8mZxtq-"
      }
    },
    {
      "cell_type": "markdown",
      "source": [
        "# 플렛폼에 대한 추가자료\n",
        "# (넓고 얕은 플렛폼 Play Station VS 좁고 깊은 플렛폼 Xbox) 서로 반대로 가는 중?\n",
        "\n",
        "게이머들 사이에서도 엑스박스와 플레이스테이션은 당연코 큰 고민이자 화제거리이다. 둘 다 산다면 고민할 필요도 없겠지만 우리 지갑 형편은 허락하지 않는다. 스펙적으로는 두 제품 모두 비슷하다. 과거엔 다양한 게임을 즐기려면 플레이스테이션, 특정 게임을 즐기려면 엑스박스란 말이 있었다. 하지만 요즘은 서로 반대로 가고 있다. 오히려 엑스박스에선 구독형 서비스를 접목시켜 매월 만 원이 조금 넘는 금액으로 100여 개의 게임을 자유롭게 즐길 수 있도록 하였고 플레이스테이션에서는 독점형 게임(마블, 갓오브워 등)을 더 견고히 다지는 방향으로 가고 있다. 서로의 약점을 서로의 강점에서 찾으려는 노력을 하고있는 듯 하다."
      ],
      "metadata": {
        "id": "jdd8Txt6yy8L"
      }
    },
    {
      "cell_type": "code",
      "source": [
        "# 북미지역 장르별 판매량의 합계\n",
        "# 얼마나 판매되었는지 지역별로 비교하기위해 y축을 1000으로 모두 고정.\n",
        "\n",
        "NA_game = game_new.groupby(\"Genre\")['NA_Sales'].sum()\n",
        "\n",
        "\n",
        "NA_game.plot.bar(x='NA_Genre', y='value')\n",
        "plt.ylim(0,1000)\n",
        "plt.figure(figsize=(20,15))\n",
        "plt.show()"
      ],
      "metadata": {
        "colab": {
          "base_uri": "https://localhost:8080/",
          "height": 353
        },
        "id": "wB2gVFGO3PPG",
        "outputId": "2e2cb551-db07-446a-a558-e530733eb81b"
      },
      "execution_count": 43,
      "outputs": [
        {
          "output_type": "display_data",
          "data": {
            "text/plain": [
              "<Figure size 432x288 with 1 Axes>"
            ],
            "image/png": "[encoded data removed]"
          },
          "metadata": {
            "needs_background": "light"
          }
        },
        {
          "output_type": "display_data",
          "data": {
            "text/plain": [
              "<Figure size 1440x1080 with 0 Axes>"
            ]
          },
          "metadata": {}
        }
      ]
    },
    {
      "cell_type": "markdown",
      "source": [
        "#결과\n",
        "\n",
        "북미 지역에서는 Action이 1등, Sports가 2등, Shooter가 3등이다."
      ],
      "metadata": {
        "id": "JAY6RP5r9hxX"
      }
    },
    {
      "cell_type": "code",
      "source": [
        "# 유럽지역 장르별 판매량의 합계\n",
        "\n",
        "EU_game = game_new.groupby(\"Genre\")['EU_Sales'].sum()\n",
        "\n",
        "\n",
        "EU_game.plot.bar(x='EU_Genre', y='value')\n",
        "plt.ylim(0,1000)\n",
        "plt.figure(figsize=(20,15))\n",
        "plt.show()"
      ],
      "metadata": {
        "colab": {
          "base_uri": "https://localhost:8080/",
          "height": 353
        },
        "id": "MRVmTda05kIr",
        "outputId": "e1fe5cbf-6f1c-4bb5-f8b3-109e9858ab21"
      },
      "execution_count": 44,
      "outputs": [
        {
          "output_type": "display_data",
          "data": {
            "text/plain": [
              "<Figure size 432x288 with 1 Axes>"
            ],
            "image/png": "[encoded data removed]"
          },
          "metadata": {
            "needs_background": "light"
          }
        },
        {
          "output_type": "display_data",
          "data": {
            "text/plain": [
              "<Figure size 1440x1080 with 0 Axes>"
            ]
          },
          "metadata": {}
        }
      ]
    },
    {
      "cell_type": "markdown",
      "source": [
        "#결과\n",
        "\n",
        "유럽 지역에서는 Action이 1등, Sports가 2등, Shooter이 3등이다."
      ],
      "metadata": {
        "id": "iIA-86PH98LS"
      }
    },
    {
      "cell_type": "code",
      "source": [
        "# 일본지역 장르별 판매량의 합계\n",
        "\n",
        "JP_game = game_new.groupby(\"Genre\")['JP_Sales'].sum()\n",
        "\n",
        "\n",
        "JP_game.plot.bar(x='JP_Genre', y='value')\n",
        "plt.ylim(0,1000)\n",
        "plt.figure(figsize=(20,15))\n",
        "plt.show()"
      ],
      "metadata": {
        "colab": {
          "base_uri": "https://localhost:8080/",
          "height": 353
        },
        "id": "57NjDVeG5qjx",
        "outputId": "cc21a544-9140-42d1-f2db-7183d4793f8c"
      },
      "execution_count": 45,
      "outputs": [
        {
          "output_type": "display_data",
          "data": {
            "text/plain": [
              "<Figure size 432x288 with 1 Axes>"
            ],
            "image/png": "[encoded data removed]"
          },
          "metadata": {
            "needs_background": "light"
          }
        },
        {
          "output_type": "display_data",
          "data": {
            "text/plain": [
              "<Figure size 1440x1080 with 0 Axes>"
            ]
          },
          "metadata": {}
        }
      ]
    },
    {
      "cell_type": "markdown",
      "source": [
        "#결과\n",
        "\n",
        "일본 지역에서만 특이하게 Role-Playing이 1등, Action이 2등, Sports가 3등이다."
      ],
      "metadata": {
        "id": "DEjOCtMH-EfL"
      }
    },
    {
      "cell_type": "code",
      "source": [
        "# 그 외 지역 장르별 판매량의 합계\n",
        "\n",
        "Other_game = game_new.groupby(\"Genre\")['Other_Sales'].sum()\n",
        "\n",
        "\n",
        "Other_game.plot.bar(x='Other_Genre', y='value')\n",
        "plt.ylim(0,1000)\n",
        "plt.figure(figsize=(20,15))\n",
        "plt.show()"
      ],
      "metadata": {
        "colab": {
          "base_uri": "https://localhost:8080/",
          "height": 353
        },
        "id": "69YGD7H75wWz",
        "outputId": "28c1fa6b-9f64-43ec-df58-b0e279c6e29c"
      },
      "execution_count": 48,
      "outputs": [
        {
          "output_type": "display_data",
          "data": {
            "text/plain": [
              "<Figure size 432x288 with 1 Axes>"
            ],
            "image/png": "[encoded data removed]"
          },
          "metadata": {
            "needs_background": "light"
          }
        },
        {
          "output_type": "display_data",
          "data": {
            "text/plain": [
              "<Figure size 1440x1080 with 0 Axes>"
            ]
          },
          "metadata": {}
        }
      ]
    },
    {
      "cell_type": "markdown",
      "source": [
        "#결과\n",
        "\n",
        "그 외 지역에서는 Action이 1등, Sports가 2등, Shooter가 3등이다."
      ],
      "metadata": {
        "id": "W7ZtoU8X-WRa"
      }
    },
    {
      "cell_type": "code",
      "source": [
        "# 장르별 지역의 판매량 총합을 보여주는 표\n",
        "\n",
        "Sales_game = pd.DataFrame(NA_game)\n",
        "Sales_game = pd.concat([Sales_game, EU_game, JP_game, Other_game], axis = 1)\n",
        "Sales_game"
      ],
      "metadata": {
        "id": "c7iF8y5FI62e",
        "colab": {
          "base_uri": "https://localhost:8080/",
          "height": 457
        },
        "outputId": "a6fe7d83-7157-471d-9df3-9dcec344be34"
      },
      "execution_count": 47,
      "outputs": [
        {
          "output_type": "execute_result",
          "data": {
            "text/plain": [
              "              NA_Sales  EU_Sales  JP_Sales  Other_Sales\n",
              "Genre                                                  \n",
              "Action          858.75    513.64    156.60       183.99\n",
              "Adventure       101.79     63.66     51.87        16.70\n",
              "Fighting        220.35     99.90     87.14        36.15\n",
              "Misc            394.73    208.15    104.18        72.64\n",
              "Platform        445.38    200.63    130.53        51.45\n",
              "Puzzle          121.58     50.47     56.24        12.44\n",
              "Racing          354.70    235.02     56.32        76.51\n",
              "Role-Playing    318.76    183.09    342.93        56.73\n",
              "Shooter         574.48    310.23     38.18       101.86\n",
              "Simulation      181.43    112.99     63.54        31.32\n",
              "Sports          667.26    370.97    134.76       132.35\n",
              "Strategy         67.83     44.82     49.10        11.23"
            ],
            "text/html": [
              "\n",
              "  <div id=\"df-d4e95b35-2cf6-42e4-9af0-9b8417f855af\">\n",
              "    <div class=\"colab-df-container\">\n",
              "      <div>\n",
              "<style scoped>\n",
              "    .dataframe tbody tr th:only-of-type {\n",
              "        vertical-align: middle;\n",
              "    }\n",
              "\n",
              "    .dataframe tbody tr th {\n",
              "        vertical-align: top;\n",
              "    }\n",
              "\n",
              "    .dataframe thead th {\n",
              "        text-align: right;\n",
              "    }\n",
              "</style>\n",
              "<table border=\"1\" class=\"dataframe\">\n",
              "  <thead>\n",
              "    <tr style=\"text-align: right;\">\n",
              "      <th></th>\n",
              "      <th>NA_Sales</th>\n",
              "      <th>EU_Sales</th>\n",
              "      <th>JP_Sales</th>\n",
              "      <th>Other_Sales</th>\n",
              "    </tr>\n",
              "    <tr>\n",
              "      <th>Genre</th>\n",
              "      <th></th>\n",
              "      <th></th>\n",
              "      <th></th>\n",
              "      <th></th>\n",
              "    </tr>\n",
              "  </thead>\n",
              "  <tbody>\n",
              "    <tr>\n",
              "      <th>Action</th>\n",
              "      <td>858.75</td>\n",
              "      <td>513.64</td>\n",
              "      <td>156.60</td>\n",
              "      <td>183.99</td>\n",
              "    </tr>\n",
              "    <tr>\n",
              "      <th>Adventure</th>\n",
              "      <td>101.79</td>\n",
              "      <td>63.66</td>\n",
              "      <td>51.87</td>\n",
              "      <td>16.70</td>\n",
              "    </tr>\n",
              "    <tr>\n",
              "      <th>Fighting</th>\n",
              "      <td>220.35</td>\n",
              "      <td>99.90</td>\n",
              "      <td>87.14</td>\n",
              "      <td>36.15</td>\n",
              "    </tr>\n",
              "    <tr>\n",
              "      <th>Misc</th>\n",
              "      <td>394.73</td>\n",
              "      <td>208.15</td>\n",
              "      <td>104.18</td>\n",
              "      <td>72.64</td>\n",
              "    </tr>\n",
              "    <tr>\n",
              "      <th>Platform</th>\n",
              "      <td>445.38</td>\n",
              "      <td>200.63</td>\n",
              "      <td>130.53</td>\n",
              "      <td>51.45</td>\n",
              "    </tr>\n",
              "    <tr>\n",
              "      <th>Puzzle</th>\n",
              "      <td>121.58</td>\n",
              "      <td>50.47</td>\n",
              "      <td>56.24</td>\n",
              "      <td>12.44</td>\n",
              "    </tr>\n",
              "    <tr>\n",
              "      <th>Racing</th>\n",
              "      <td>354.70</td>\n",
              "      <td>235.02</td>\n",
              "      <td>56.32</td>\n",
              "      <td>76.51</td>\n",
              "    </tr>\n",
              "    <tr>\n",
              "      <th>Role-Playing</th>\n",
              "      <td>318.76</td>\n",
              "      <td>183.09</td>\n",
              "      <td>342.93</td>\n",
              "      <td>56.73</td>\n",
              "    </tr>\n",
              "    <tr>\n",
              "      <th>Shooter</th>\n",
              "      <td>574.48</td>\n",
              "      <td>310.23</td>\n",
              "      <td>38.18</td>\n",
              "      <td>101.86</td>\n",
              "    </tr>\n",
              "    <tr>\n",
              "      <th>Simulation</th>\n",
              "      <td>181.43</td>\n",
              "      <td>112.99</td>\n",
              "      <td>63.54</td>\n",
              "      <td>31.32</td>\n",
              "    </tr>\n",
              "    <tr>\n",
              "      <th>Sports</th>\n",
              "      <td>667.26</td>\n",
              "      <td>370.97</td>\n",
              "      <td>134.76</td>\n",
              "      <td>132.35</td>\n",
              "    </tr>\n",
              "    <tr>\n",
              "      <th>Strategy</th>\n",
              "      <td>67.83</td>\n",
              "      <td>44.82</td>\n",
              "      <td>49.10</td>\n",
              "      <td>11.23</td>\n",
              "    </tr>\n",
              "  </tbody>\n",
              "</table>\n",
              "</div>\n",
              "      <button class=\"colab-df-convert\" onclick=\"convertToInteractive('df-d4e95b35-2cf6-42e4-9af0-9b8417f855af')\"\n",
              "              title=\"Convert this dataframe to an interactive table.\"\n",
              "              style=\"display:none;\">\n",
              "        \n",
              "  <svg xmlns=\"http://www.w3.org/2000/svg\" height=\"24px\"viewBox=\"0 0 24 24\"\n",
              "       width=\"24px\">\n",
              "    <path d=\"M0 0h24v24H0V0z\" fill=\"none\"/>\n",
              "    <path d=\"M18.56 5.44l.94 2.06.94-2.06 2.06-.94-2.06-.94-.94-2.06-.94 2.06-2.06.94zm-11 1L8.5 8.5l.94-2.06 2.06-.94-2.06-.94L8.5 2.5l-.94 2.06-2.06.94zm10 10l.94 2.06.94-2.06 2.06-.94-2.06-.94-.94-2.06-.94 2.06-2.06.94z\"/><path d=\"M17.41 7.96l-1.37-1.37c-.4-.4-.92-.59-1.43-.59-.52 0-1.04.2-1.43.59L10.3 9.45l-7.72 7.72c-.78.78-.78 2.05 0 2.83L4 21.41c.39.39.9.59 1.41.59.51 0 1.02-.2 1.41-.59l7.78-7.78 2.81-2.81c.8-.78.8-2.07 0-2.86zM5.41 20L4 18.59l7.72-7.72 1.47 1.35L5.41 20z\"/>\n",
              "  </svg>\n",
              "      </button>\n",
              "      \n",
              "  <style>\n",
              "    .colab-df-container {\n",
              "      display:flex;\n",
              "      flex-wrap:wrap;\n",
              "      gap: 12px;\n",
              "    }\n",
              "\n",
              "    .colab-df-convert {\n",
              "      background-color: #E8F0FE;\n",
              "      border: none;\n",
              "      border-radius: 50%;\n",
              "      cursor: pointer;\n",
              "      display: none;\n",
              "      fill: #1967D2;\n",
              "      height: 32px;\n",
              "      padding: 0 0 0 0;\n",
              "      width: 32px;\n",
              "    }\n",
              "\n",
              "    .colab-df-convert:hover {\n",
              "      background-color: #E2EBFA;\n",
              "      box-shadow: 0px 1px 2px rgba(60, 64, 67, 0.3), 0px 1px 3px 1px rgba(60, 64, 67, 0.15);\n",
              "      fill: #174EA6;\n",
              "    }\n",
              "\n",
              "    [theme=dark] .colab-df-convert {\n",
              "      background-color: #3B4455;\n",
              "      fill: #D2E3FC;\n",
              "    }\n",
              "\n",
              "    [theme=dark] .colab-df-convert:hover {\n",
              "      background-color: #434B5C;\n",
              "      box-shadow: 0px 1px 3px 1px rgba(0, 0, 0, 0.15);\n",
              "      filter: drop-shadow(0px 1px 2px rgba(0, 0, 0, 0.3));\n",
              "      fill: #FFFFFF;\n",
              "    }\n",
              "  </style>\n",
              "\n",
              "      <script>\n",
              "        const buttonEl =\n",
              "          document.querySelector('#df-d4e95b35-2cf6-42e4-9af0-9b8417f855af button.colab-df-convert');\n",
              "        buttonEl.style.display =\n",
              "          google.colab.kernel.accessAllowed ? 'block' : 'none';\n",
              "\n",
              "        async function convertToInteractive(key) {\n",
              "          const element = document.querySelector('#df-d4e95b35-2cf6-42e4-9af0-9b8417f855af');\n",
              "          const dataTable =\n",
              "            await google.colab.kernel.invokeFunction('convertToInteractive',\n",
              "                                                     [key], {});\n",
              "          if (!dataTable) return;\n",
              "\n",
              "          const docLinkHtml = 'Like what you see? Visit the ' +\n",
              "            '<a target=\"_blank\" href=https://colab.research.google.com/notebooks/data_table.ipynb>data table notebook</a>'\n",
              "            + ' to learn more about interactive tables.';\n",
              "          element.innerHTML = '';\n",
              "          dataTable['output_type'] = 'display_data';\n",
              "          await google.colab.output.renderOutput(dataTable, element);\n",
              "          const docLink = document.createElement('div');\n",
              "          docLink.innerHTML = docLinkHtml;\n",
              "          element.appendChild(docLink);\n",
              "        }\n",
              "      </script>\n",
              "    </div>\n",
              "  </div>\n",
              "  "
            ]
          },
          "metadata": {},
          "execution_count": 47
        }
      ]
    },
    {
      "cell_type": "markdown",
      "source": [
        "지역별로 선호하는 게임이 왜 다를까?\n",
        "\n",
        "  - 실제로 페이스북의 Games Marketing Insights for 2022에서 조사한 미국에서 가장 많은 다운로드 수를 보이는 장르도 액션장르 게임이다. 하지만 일본만이 RPG에 흥미를 보인다. 그 이유를 Research한 결과, JRPG가 일본 내에선 매우 강점을 가진 장르인 것을 파악했고 우리가 잘 알고 있는 게임 중 파이널 판타지 시리즈, 포켓몬스터, 용과 같이, 마리오시리즈 등 플레이스테이션 쪽 콘솔에서도 강점을 보인다. PC의 환경과는 다르게 콘솔로 게임을 즐길 때 느끼는 몰입감과 조작감이 다르기 때문에 콘솔환경에 맞는 Action이나 Shooter, Racing 게임의 장르들이 더 판매량이 높다고 파악했다."
      ],
      "metadata": {
        "id": "SiA4cGoHrl02"
      }
    },
    {
      "cell_type": "markdown",
      "source": [
        "# 최신 트렌드에 따른 분석\n",
        "\n",
        "트렌드를 찾기 위한 연도의 기준은 2007년으로 잡았다. 그 이유는 통계량을 보았을 때 50% 값이 2007이기 때문이다.<br>\n",
        "가장 높은 수익을 보이는 Action과 Sports, Shooter, RPG를 기준으로 진행함."
      ],
      "metadata": {
        "id": "C1EIwvLh-g1e"
      }
    },
    {
      "cell_type": "code",
      "source": [
        "# 연도의 통계 확인\n",
        "\n",
        "game_new['Year'].describe()"
      ],
      "metadata": {
        "colab": {
          "base_uri": "https://localhost:8080/"
        },
        "id": "_teln3nt-jYd",
        "outputId": "2a8e2ccd-a771-467a-c4e2-7804f88d3b41"
      },
      "execution_count": 49,
      "outputs": [
        {
          "output_type": "execute_result",
          "data": {
            "text/plain": [
              "count    16241.000000\n",
              "mean      1994.178437\n",
              "std        155.484265\n",
              "min          0.000000\n",
              "25%       2003.000000\n",
              "50%       2007.000000\n",
              "75%       2010.000000\n",
              "max       2020.000000\n",
              "Name: Year, dtype: float64"
            ]
          },
          "metadata": {},
          "execution_count": 49
        }
      ]
    },
    {
      "cell_type": "markdown",
      "source": [
        "출시연도가 0년인 경우는 없으므로 데이터를 정제해야한다."
      ],
      "metadata": {
        "id": "N9Z7vMIhJxlu"
      }
    },
    {
      "cell_type": "code",
      "source": [
        "game_new['Year'].unique()"
      ],
      "metadata": {
        "colab": {
          "base_uri": "https://localhost:8080/"
        },
        "id": "R1vmoFUYIpOW",
        "outputId": "25476367-8f17-4f99-feed-068bdb650625"
      },
      "execution_count": 50,
      "outputs": [
        {
          "output_type": "execute_result",
          "data": {
            "text/plain": [
              "array([2008, 2009, 2010, 2005, 2011, 2007, 2001, 2003, 2006, 2014, 2015,\n",
              "       2002, 1997, 2013, 1996, 2004, 2000, 1984, 1998, 2016, 1985, 1999,\n",
              "          9,   97, 1995, 1993, 2012, 1987, 1982,   11, 1994, 1990,   15,\n",
              "       1992, 1991, 1983, 1988, 1981,    3, 1989,   96,    6,    8, 1986,\n",
              "          1,    5,    4,   10,   98,    7,   16,   86,   14,   95, 2017,\n",
              "       1980, 2020,    2,   13,    0,   12,   94])"
            ]
          },
          "metadata": {},
          "execution_count": 50
        }
      ]
    },
    {
      "cell_type": "markdown",
      "source": [
        "값들 중 10의 자리수, 1의 자리수인 값들이 존재해 20을 안 넘는다면 2000을<br>20이 넘는 10의 자리수라면 1900을 더해줘 연도데이터를 정제해주고 다시 통계를 확인했다."
      ],
      "metadata": {
        "id": "bqNjIV1FJ1jg"
      }
    },
    {
      "cell_type": "code",
      "source": [
        "game_new.loc[game_new['Year'] <= 20, 'Year'] += 2000"
      ],
      "metadata": {
        "id": "-UbQIAhaIsDw"
      },
      "execution_count": 51,
      "outputs": []
    },
    {
      "cell_type": "code",
      "source": [
        "game_new['Year'].unique()"
      ],
      "metadata": {
        "colab": {
          "base_uri": "https://localhost:8080/"
        },
        "id": "O-yA0QwXJnrL",
        "outputId": "7b99c992-9d08-4500-db67-5159888af6c1"
      },
      "execution_count": 52,
      "outputs": [
        {
          "output_type": "execute_result",
          "data": {
            "text/plain": [
              "array([2008, 2009, 2010, 2005, 2011, 2007, 2001, 2003, 2006, 2014, 2015,\n",
              "       2002, 1997, 2013, 1996, 2004, 2000, 1984, 1998, 2016, 1985, 1999,\n",
              "         97, 1995, 1993, 2012, 1987, 1982, 1994, 1990, 1992, 1991, 1983,\n",
              "       1988, 1981, 1989,   96, 1986,   98,   86,   95, 2017, 1980, 2020,\n",
              "         94])"
            ]
          },
          "metadata": {},
          "execution_count": 52
        }
      ]
    },
    {
      "cell_type": "code",
      "source": [
        "game_new.loc[game_new['Year'] <=100, 'Year'] += 1900"
      ],
      "metadata": {
        "id": "o4_htOF1Jpve"
      },
      "execution_count": 53,
      "outputs": []
    },
    {
      "cell_type": "code",
      "source": [
        "game_new['Year'].unique()"
      ],
      "metadata": {
        "colab": {
          "base_uri": "https://localhost:8080/"
        },
        "id": "CDDUU629JuB0",
        "outputId": "1eecf120-3800-4429-ed09-8af49a012dc4"
      },
      "execution_count": 54,
      "outputs": [
        {
          "output_type": "execute_result",
          "data": {
            "text/plain": [
              "array([2008, 2009, 2010, 2005, 2011, 2007, 2001, 2003, 2006, 2014, 2015,\n",
              "       2002, 1997, 2013, 1996, 2004, 2000, 1984, 1998, 2016, 1985, 1999,\n",
              "       1995, 1993, 2012, 1987, 1982, 1994, 1990, 1992, 1991, 1983, 1988,\n",
              "       1981, 1989, 1986, 2017, 1980, 2020])"
            ]
          },
          "metadata": {},
          "execution_count": 54
        }
      ]
    },
    {
      "cell_type": "code",
      "source": [
        "game_new['Year'].describe()"
      ],
      "metadata": {
        "colab": {
          "base_uri": "https://localhost:8080/"
        },
        "id": "hM80ja8qKMyu",
        "outputId": "88552f2b-1e80-42f9-9754-fa2cdb2baa90"
      },
      "execution_count": 55,
      "outputs": [
        {
          "output_type": "execute_result",
          "data": {
            "text/plain": [
              "count    16241.000000\n",
              "mean      2006.406748\n",
              "std          5.832087\n",
              "min       1980.000000\n",
              "25%       2003.000000\n",
              "50%       2007.000000\n",
              "75%       2010.000000\n",
              "max       2020.000000\n",
              "Name: Year, dtype: float64"
            ]
          },
          "metadata": {},
          "execution_count": 55
        }
      ]
    },
    {
      "cell_type": "code",
      "source": [
        "# 지역별 Action장르에 대한 판매량\n",
        "\n",
        "F = game_new[game_new['Genre'] == 'Action']\n",
        "F_NA = F.groupby('Year')['NA_Sales'].sum()\n",
        "F_EU = F.groupby('Year')['EU_Sales'].sum()\n",
        "F_JP = F.groupby('Year')['JP_Sales'].sum()\n",
        "F_Other = F.groupby('Year')['Other_Sales'].sum()\n",
        "\n",
        "plt.figure(figsize=(15,10))\n",
        "\n",
        "plt.plot(F_NA, marker = 's', color = 'r')\n",
        "plt.plot(F_EU, marker = 'o', color = 'g')\n",
        "plt.plot(F_JP, marker = '*', color = 'b')\n",
        "plt.plot(F_Other, marker = '+', color = 'y')\n",
        "\n",
        "plt.xlabel('Year', fontsize = 14)\n",
        "plt.ylabel('Action Sales', fontsize = 14)\n",
        "plt.legend(['NA','EU','JP','Other'])\n",
        "plt.xlim(2007, 2015)\n",
        "plt.ylim(0, 100)\n",
        "plt.show()"
      ],
      "metadata": {
        "id": "optKIbs7Ug8V",
        "colab": {
          "base_uri": "https://localhost:8080/",
          "height": 614
        },
        "outputId": "1f4fc174-16ec-480c-bc49-5082c77ba531"
      },
      "execution_count": 56,
      "outputs": [
        {
          "output_type": "display_data",
          "data": {
            "text/plain": [
              "<Figure size 1080x720 with 1 Axes>"
            ],
            "image/png": "[encoded data removed]"
          },
          "metadata": {
            "needs_background": "light"
          }
        }
      ]
    },
    {
      "cell_type": "code",
      "source": [
        "# 지역별 Sports장르에 대한 판매량\n",
        "\n",
        "F = game_new[game_new['Genre'] == 'Sports']\n",
        "F_NA = F.groupby('Year')['NA_Sales'].sum()\n",
        "F_EU = F.groupby('Year')['EU_Sales'].sum()\n",
        "F_JP = F.groupby('Year')['JP_Sales'].sum()\n",
        "F_Other = F.groupby('Year')['Other_Sales'].sum()\n",
        "\n",
        "plt.figure(figsize=(15,10))\n",
        "\n",
        "plt.plot(F_NA, marker = 's', color = 'r')\n",
        "plt.plot(F_EU, marker = 'o', color = 'g')\n",
        "plt.plot(F_JP, marker = '*', color = 'b')\n",
        "plt.plot(F_Other, marker = '+', color = 'y')\n",
        "\n",
        "plt.xlabel('Year', fontsize = 14)\n",
        "plt.ylabel('Sports Sales', fontsize = 14)\n",
        "plt.legend(['NA','EU','JP','Other'])\n",
        "plt.xlim(2007, 2015)\n",
        "plt.ylim(0, 100)\n",
        "plt.show()"
      ],
      "metadata": {
        "colab": {
          "base_uri": "https://localhost:8080/",
          "height": 614
        },
        "id": "m_diAem-UqhQ",
        "outputId": "23b4c0a1-9697-4e6a-b67a-725089212796"
      },
      "execution_count": 57,
      "outputs": [
        {
          "output_type": "display_data",
          "data": {
            "text/plain": [
              "<Figure size 1080x720 with 1 Axes>"
            ],
            "image/png": "[encoded data removed]"
          },
          "metadata": {
            "needs_background": "light"
          }
        }
      ]
    },
    {
      "cell_type": "code",
      "source": [
        "# 지역별 Role-Playing장르에 대한 판매량\n",
        "\n",
        "F = game_new[game_new['Genre'] == 'Role-Playing']\n",
        "F_NA = F.groupby('Year')['NA_Sales'].sum()\n",
        "F_EU = F.groupby('Year')['EU_Sales'].sum()\n",
        "F_JP = F.groupby('Year')['JP_Sales'].sum()\n",
        "F_Other = F.groupby('Year')['Other_Sales'].sum()\n",
        "\n",
        "plt.figure(figsize=(15,10))\n",
        "\n",
        "plt.plot(F_NA, marker = 's', color = 'r')\n",
        "plt.plot(F_EU, marker = 'o', color = 'g')\n",
        "plt.plot(F_JP, marker = '*', color = 'b')\n",
        "plt.plot(F_Other, marker = '+', color = 'y')\n",
        "\n",
        "plt.xlabel('Year', fontsize = 14)\n",
        "plt.ylabel('RPG Sales', fontsize = 14)\n",
        "plt.legend(['NA','EU','JP','Other'])\n",
        "plt.xlim(2007, 2015)\n",
        "plt.ylim(0, 100)\n",
        "plt.show()"
      ],
      "metadata": {
        "colab": {
          "base_uri": "https://localhost:8080/",
          "height": 614
        },
        "id": "kMCn-obbY6ZY",
        "outputId": "b6db4935-b514-45f0-991f-2f576bafa190"
      },
      "execution_count": 59,
      "outputs": [
        {
          "output_type": "display_data",
          "data": {
            "text/plain": [
              "<Figure size 1080x720 with 1 Axes>"
            ],
            "image/png": "[encoded data removed]"
          },
          "metadata": {
            "needs_background": "light"
          }
        }
      ]
    },
    {
      "cell_type": "code",
      "source": [
        "# 지역별 Shooter장르에 대한 판매량\n",
        "\n",
        "F = game_new[game_new['Genre'] == 'Shooter']\n",
        "F_NA = F.groupby('Year')['NA_Sales'].sum()\n",
        "F_EU = F.groupby('Year')['EU_Sales'].sum()\n",
        "F_JP = F.groupby('Year')['JP_Sales'].sum()\n",
        "F_Other = F.groupby('Year')['Other_Sales'].sum()\n",
        "\n",
        "plt.figure(figsize=(15,10))\n",
        "\n",
        "plt.plot(F_NA, marker = 's', color = 'r')\n",
        "plt.plot(F_EU, marker = 'o', color = 'g')\n",
        "plt.plot(F_JP, marker = '*', color = 'b')\n",
        "plt.plot(F_Other, marker = '+', color = 'y')\n",
        "\n",
        "plt.xlabel('Year', fontsize = 14)\n",
        "plt.ylabel('Shooter Sales', fontsize = 14)\n",
        "plt.legend(['NA','EU','JP','Other'])\n",
        "plt.xlim(2007, 2015)\n",
        "plt.ylim(0, 100)\n",
        "plt.show()"
      ],
      "metadata": {
        "colab": {
          "base_uri": "https://localhost:8080/",
          "height": 614
        },
        "id": "cZuZHR8uY70u",
        "outputId": "9bbd7874-3dc2-490b-f357-94210f67b5b5"
      },
      "execution_count": 60,
      "outputs": [
        {
          "output_type": "display_data",
          "data": {
            "text/plain": [
              "<Figure size 1080x720 with 1 Axes>"
            ],
            "image/png": "[encoded data removed]"
          },
          "metadata": {
            "needs_background": "light"
          }
        }
      ]
    },
    {
      "cell_type": "code",
      "source": [
        "# 장르별 지역의 판매량 총합을 보여주는 표\n",
        "\n",
        "Sales_game['Total_Sales'] = Sales_game['NA_Sales'] + Sales_game['EU_Sales'] + Sales_game['JP_Sales'] + Sales_game['Other_Sales']\n",
        "Sales_game"
      ],
      "metadata": {
        "colab": {
          "base_uri": "https://localhost:8080/",
          "height": 457
        },
        "id": "kul2OGgoZOCY",
        "outputId": "b64c18e6-5c4d-401e-e4db-8b90ad4a1674"
      },
      "execution_count": 61,
      "outputs": [
        {
          "output_type": "execute_result",
          "data": {
            "text/plain": [
              "              NA_Sales  EU_Sales  JP_Sales  Other_Sales  Total_Sales\n",
              "Genre                                                               \n",
              "Action          858.75    513.64    156.60       183.99      1712.98\n",
              "Adventure       101.79     63.66     51.87        16.70       234.02\n",
              "Fighting        220.35     99.90     87.14        36.15       443.54\n",
              "Misc            394.73    208.15    104.18        72.64       779.70\n",
              "Platform        445.38    200.63    130.53        51.45       827.99\n",
              "Puzzle          121.58     50.47     56.24        12.44       240.73\n",
              "Racing          354.70    235.02     56.32        76.51       722.55\n",
              "Role-Playing    318.76    183.09    342.93        56.73       901.51\n",
              "Shooter         574.48    310.23     38.18       101.86      1024.75\n",
              "Simulation      181.43    112.99     63.54        31.32       389.28\n",
              "Sports          667.26    370.97    134.76       132.35      1305.34\n",
              "Strategy         67.83     44.82     49.10        11.23       172.98"
            ],
            "text/html": [
              "\n",
              "  <div id=\"df-ec58c8fd-2448-443d-bde7-d2561253b3a4\">\n",
              "    <div class=\"colab-df-container\">\n",
              "      <div>\n",
              "<style scoped>\n",
              "    .dataframe tbody tr th:only-of-type {\n",
              "        vertical-align: middle;\n",
              "    }\n",
              "\n",
              "    .dataframe tbody tr th {\n",
              "        vertical-align: top;\n",
              "    }\n",
              "\n",
              "    .dataframe thead th {\n",
              "        text-align: right;\n",
              "    }\n",
              "</style>\n",
              "<table border=\"1\" class=\"dataframe\">\n",
              "  <thead>\n",
              "    <tr style=\"text-align: right;\">\n",
              "      <th></th>\n",
              "      <th>NA_Sales</th>\n",
              "      <th>EU_Sales</th>\n",
              "      <th>JP_Sales</th>\n",
              "      <th>Other_Sales</th>\n",
              "      <th>Total_Sales</th>\n",
              "    </tr>\n",
              "    <tr>\n",
              "      <th>Genre</th>\n",
              "      <th></th>\n",
              "      <th></th>\n",
              "      <th></th>\n",
              "      <th></th>\n",
              "      <th></th>\n",
              "    </tr>\n",
              "  </thead>\n",
              "  <tbody>\n",
              "    <tr>\n",
              "      <th>Action</th>\n",
              "      <td>858.75</td>\n",
              "      <td>513.64</td>\n",
              "      <td>156.60</td>\n",
              "      <td>183.99</td>\n",
              "      <td>1712.98</td>\n",
              "    </tr>\n",
              "    <tr>\n",
              "      <th>Adventure</th>\n",
              "      <td>101.79</td>\n",
              "      <td>63.66</td>\n",
              "      <td>51.87</td>\n",
              "      <td>16.70</td>\n",
              "      <td>234.02</td>\n",
              "    </tr>\n",
              "    <tr>\n",
              "      <th>Fighting</th>\n",
              "      <td>220.35</td>\n",
              "      <td>99.90</td>\n",
              "      <td>87.14</td>\n",
              "      <td>36.15</td>\n",
              "      <td>443.54</td>\n",
              "    </tr>\n",
              "    <tr>\n",
              "      <th>Misc</th>\n",
              "      <td>394.73</td>\n",
              "      <td>208.15</td>\n",
              "      <td>104.18</td>\n",
              "      <td>72.64</td>\n",
              "      <td>779.70</td>\n",
              "    </tr>\n",
              "    <tr>\n",
              "      <th>Platform</th>\n",
              "      <td>445.38</td>\n",
              "      <td>200.63</td>\n",
              "      <td>130.53</td>\n",
              "      <td>51.45</td>\n",
              "      <td>827.99</td>\n",
              "    </tr>\n",
              "    <tr>\n",
              "      <th>Puzzle</th>\n",
              "      <td>121.58</td>\n",
              "      <td>50.47</td>\n",
              "      <td>56.24</td>\n",
              "      <td>12.44</td>\n",
              "      <td>240.73</td>\n",
              "    </tr>\n",
              "    <tr>\n",
              "      <th>Racing</th>\n",
              "      <td>354.70</td>\n",
              "      <td>235.02</td>\n",
              "      <td>56.32</td>\n",
              "      <td>76.51</td>\n",
              "      <td>722.55</td>\n",
              "    </tr>\n",
              "    <tr>\n",
              "      <th>Role-Playing</th>\n",
              "      <td>318.76</td>\n",
              "      <td>183.09</td>\n",
              "      <td>342.93</td>\n",
              "      <td>56.73</td>\n",
              "      <td>901.51</td>\n",
              "    </tr>\n",
              "    <tr>\n",
              "      <th>Shooter</th>\n",
              "      <td>574.48</td>\n",
              "      <td>310.23</td>\n",
              "      <td>38.18</td>\n",
              "      <td>101.86</td>\n",
              "      <td>1024.75</td>\n",
              "    </tr>\n",
              "    <tr>\n",
              "      <th>Simulation</th>\n",
              "      <td>181.43</td>\n",
              "      <td>112.99</td>\n",
              "      <td>63.54</td>\n",
              "      <td>31.32</td>\n",
              "      <td>389.28</td>\n",
              "    </tr>\n",
              "    <tr>\n",
              "      <th>Sports</th>\n",
              "      <td>667.26</td>\n",
              "      <td>370.97</td>\n",
              "      <td>134.76</td>\n",
              "      <td>132.35</td>\n",
              "      <td>1305.34</td>\n",
              "    </tr>\n",
              "    <tr>\n",
              "      <th>Strategy</th>\n",
              "      <td>67.83</td>\n",
              "      <td>44.82</td>\n",
              "      <td>49.10</td>\n",
              "      <td>11.23</td>\n",
              "      <td>172.98</td>\n",
              "    </tr>\n",
              "  </tbody>\n",
              "</table>\n",
              "</div>\n",
              "      <button class=\"colab-df-convert\" onclick=\"convertToInteractive('df-ec58c8fd-2448-443d-bde7-d2561253b3a4')\"\n",
              "              title=\"Convert this dataframe to an interactive table.\"\n",
              "              style=\"display:none;\">\n",
              "        \n",
              "  <svg xmlns=\"http://www.w3.org/2000/svg\" height=\"24px\"viewBox=\"0 0 24 24\"\n",
              "       width=\"24px\">\n",
              "    <path d=\"M0 0h24v24H0V0z\" fill=\"none\"/>\n",
              "    <path d=\"M18.56 5.44l.94 2.06.94-2.06 2.06-.94-2.06-.94-.94-2.06-.94 2.06-2.06.94zm-11 1L8.5 8.5l.94-2.06 2.06-.94-2.06-.94L8.5 2.5l-.94 2.06-2.06.94zm10 10l.94 2.06.94-2.06 2.06-.94-2.06-.94-.94-2.06-.94 2.06-2.06.94z\"/><path d=\"M17.41 7.96l-1.37-1.37c-.4-.4-.92-.59-1.43-.59-.52 0-1.04.2-1.43.59L10.3 9.45l-7.72 7.72c-.78.78-.78 2.05 0 2.83L4 21.41c.39.39.9.59 1.41.59.51 0 1.02-.2 1.41-.59l7.78-7.78 2.81-2.81c.8-.78.8-2.07 0-2.86zM5.41 20L4 18.59l7.72-7.72 1.47 1.35L5.41 20z\"/>\n",
              "  </svg>\n",
              "      </button>\n",
              "      \n",
              "  <style>\n",
              "    .colab-df-container {\n",
              "      display:flex;\n",
              "      flex-wrap:wrap;\n",
              "      gap: 12px;\n",
              "    }\n",
              "\n",
              "    .colab-df-convert {\n",
              "      background-color: #E8F0FE;\n",
              "      border: none;\n",
              "      border-radius: 50%;\n",
              "      cursor: pointer;\n",
              "      display: none;\n",
              "      fill: #1967D2;\n",
              "      height: 32px;\n",
              "      padding: 0 0 0 0;\n",
              "      width: 32px;\n",
              "    }\n",
              "\n",
              "    .colab-df-convert:hover {\n",
              "      background-color: #E2EBFA;\n",
              "      box-shadow: 0px 1px 2px rgba(60, 64, 67, 0.3), 0px 1px 3px 1px rgba(60, 64, 67, 0.15);\n",
              "      fill: #174EA6;\n",
              "    }\n",
              "\n",
              "    [theme=dark] .colab-df-convert {\n",
              "      background-color: #3B4455;\n",
              "      fill: #D2E3FC;\n",
              "    }\n",
              "\n",
              "    [theme=dark] .colab-df-convert:hover {\n",
              "      background-color: #434B5C;\n",
              "      box-shadow: 0px 1px 3px 1px rgba(0, 0, 0, 0.15);\n",
              "      filter: drop-shadow(0px 1px 2px rgba(0, 0, 0, 0.3));\n",
              "      fill: #FFFFFF;\n",
              "    }\n",
              "  </style>\n",
              "\n",
              "      <script>\n",
              "        const buttonEl =\n",
              "          document.querySelector('#df-ec58c8fd-2448-443d-bde7-d2561253b3a4 button.colab-df-convert');\n",
              "        buttonEl.style.display =\n",
              "          google.colab.kernel.accessAllowed ? 'block' : 'none';\n",
              "\n",
              "        async function convertToInteractive(key) {\n",
              "          const element = document.querySelector('#df-ec58c8fd-2448-443d-bde7-d2561253b3a4');\n",
              "          const dataTable =\n",
              "            await google.colab.kernel.invokeFunction('convertToInteractive',\n",
              "                                                     [key], {});\n",
              "          if (!dataTable) return;\n",
              "\n",
              "          const docLinkHtml = 'Like what you see? Visit the ' +\n",
              "            '<a target=\"_blank\" href=https://colab.research.google.com/notebooks/data_table.ipynb>data table notebook</a>'\n",
              "            + ' to learn more about interactive tables.';\n",
              "          element.innerHTML = '';\n",
              "          dataTable['output_type'] = 'display_data';\n",
              "          await google.colab.output.renderOutput(dataTable, element);\n",
              "          const docLink = document.createElement('div');\n",
              "          docLink.innerHTML = docLinkHtml;\n",
              "          element.appendChild(docLink);\n",
              "        }\n",
              "      </script>\n",
              "    </div>\n",
              "  </div>\n",
              "  "
            ]
          },
          "metadata": {},
          "execution_count": 61
        }
      ]
    },
    {
      "cell_type": "markdown",
      "source": [
        "  - 기본적으로 인기의 척도는 Sales(출고량, 판매량)의 양이라고 잡았다. 왜냐하면 부분유료화(Free to Play)가 대부분인 대한민국의 경우는 단지 Sales(출고량). 즉, 얼마나 팔았냐 만으로는 인기의 척도가 될 수 없지만 플레이스테이션이나 엑스박스와 같은 콘솔게임인 경우 게임을 처음부터 구매해서 유료로 게임을 즐기기 때문에 게임의 판매량, 출고량(Sales)이 그 게임에 대한 기대치를 반영하고 그것은 인기의 척도라고 볼 수 있다.\n",
        "  - Action 장르의 판매량 합이 압도적으로 많지만 다른 시각에서 본다면<br> Action 장르의 출시된 게임의 수량이 단지 많아서 판매량가 높아보일 수 있다고 생각.<br> \n",
        "모든 지역의 총 판매량 / 출시된 게임 수로 출시된 게임을 장르당 평균 판매량으로 계산해보았다.<br><br>\n",
        "결과<br>\n",
        "Action  -> 0.52<br>\n",
        "Sports  -> 0.56<br>\n",
        "Shooter -> 0.80<br>\n",
        "RPG     -> 0.61<br>\n",
        "Racing  -> 0.60<br>\n",
        "즉, 출시된 게임을 장르 별로 나누어보았을때 Shooter 장르가 가장 평균 수익률이 좋다고 할 수 있음."
      ],
      "metadata": {
        "id": "oS1eC7B1dEf6"
      }
    },
    {
      "cell_type": "markdown",
      "source": [
        "도출된 결과로 Shooter 장르를 출시했을 때 가장 호응이 좋은 곳은 북미 지역이므로 북미 지역을 기반으로 Shooter 장르로 출시할 것을 결정.<br>\n",
        "하지만 유럽 지역의 게이머들 또한 Shooter장르에 대한 흥미가 높기 때문에 부가적인 수익 또한 예상할 수 있다."
      ],
      "metadata": {
        "id": "t3tJ5RX-d0rh"
      }
    },
    {
      "cell_type": "markdown",
      "source": [
        "그렇다면 어느 플렛폼을 기반으로 출시하는 것이 가장 최근 판매율이 높고 최신 트렌드일까?"
      ],
      "metadata": {
        "id": "CGeOa16ya-gu"
      }
    },
    {
      "cell_type": "code",
      "source": [
        "year_platform_DS = \"(Year >= 2007) and (Platform == 'DS')\"\n",
        "year_platform_PS2 = \"(Year >= 2007) and (Platform == 'PS2')\"\n",
        "year_platform_PS3 = \"(Year >= 2007) and (Platform == 'PS3')\"\n",
        "year_platform_PS4 = \"(Year >= 2007) and (Platform == 'PS4')\"\n",
        "year_platform_wii = \"(Year >= 2007) and (Platform == 'Wii')\"\n",
        "year_platform_x360 = \"(Year >= 2007) and (Platform == 'X360')\"\n",
        "year_platform_PC = \"(Year >= 2007) and (Platform == 'PC')\"\n",
        "\n",
        "year_plat_DS = game_new.query(year_platform_DS)\n",
        "year_plat_PS2 = game_new.query(year_platform_PS2)\n",
        "year_plat_PS3 = game_new.query(year_platform_PS3)\n",
        "year_plat_PS4 = game_new.query(year_platform_PS4)\n",
        "year_plat_wii = game_new.query(year_platform_wii)\n",
        "year_plat_x360 = game_new.query(year_platform_x360)\n",
        "year_plat_PC = game_new.query(year_platform_PC)\n",
        "\n",
        "year_plat_DS.groupby(\"Platform\")['Name'].count()\n",
        "year_plat_PS2.groupby(\"Platform\")['Name'].count()\n",
        "year_plat_PS3.groupby(\"Platform\")['Name'].count()\n",
        "year_plat_PS4.groupby(\"Platform\")['Name'].count()\n",
        "year_plat_wii.groupby(\"Platform\")['Name'].count()\n",
        "year_plat_x360.groupby(\"Platform\")['Name'].count()\n",
        "year_plat_PC.groupby(\"Platform\")['Name'].count()\n",
        "\n",
        "\n",
        "platform_1_DS = year_plat_DS.groupby('Year')['Platform'].count()\n",
        "platform_1_PS2 = year_plat_PS2.groupby('Year')['Platform'].count()\n",
        "platform_1_PS3 = year_plat_PS3.groupby('Year')['Platform'].count()\n",
        "platform_1_PS4 = year_plat_PS4.groupby('Year')['Platform'].count()\n",
        "platform_1_wii = year_plat_wii.groupby('Year')['Platform'].count()\n",
        "platform_1_x360 = year_plat_x360.groupby('Year')['Platform'].count()\n",
        "platform_1_PC = year_plat_PC.groupby('Year')['Platform'].count()"
      ],
      "metadata": {
        "id": "al7PczSagxJI"
      },
      "execution_count": 62,
      "outputs": []
    },
    {
      "cell_type": "code",
      "source": [
        "legend = ['DS', 'PS2', 'PS3', 'PS4', 'Wii', 'X360', 'PC']\n",
        "plt.figure(figsize=(15,10))\n",
        "\n",
        "plt.plot(platform_1_DS, color = 'c')\n",
        "plt.plot(platform_1_PS2, color = 'g')\n",
        "plt.plot(platform_1_PS3, color = 'b')\n",
        "plt.plot(platform_1_PS4, color = 'r')\n",
        "plt.plot(platform_1_wii, color = 'm')\n",
        "plt.plot(platform_1_x360, color = 'y')\n",
        "plt.plot(platform_1_PC, color = 'k')\n",
        "\n",
        "\n",
        "plt.xlim(2007,2015)\n",
        "plt.xlabel('Year')\n",
        "plt.ylabel('Sales Count')\n",
        "plt.legend(legend)\n",
        "plt.show()"
      ],
      "metadata": {
        "colab": {
          "base_uri": "https://localhost:8080/",
          "height": 606
        },
        "id": "PF43ykSrkYpn",
        "outputId": "81eaf323-110c-4dfa-d4e6-ef13aee867d8"
      },
      "execution_count": 64,
      "outputs": [
        {
          "output_type": "display_data",
          "data": {
            "text/plain": [
              "<Figure size 1080x720 with 1 Axes>"
            ],
            "image/png": "[encoded data removed]"
          },
          "metadata": {
            "needs_background": "light"
          }
        }
      ]
    },
    {
      "cell_type": "markdown",
      "source": [
        "닌텐도DS 플렛폼은 2010년을 기준으로 그래프가 급격하게 꺾여 내려가는 것을 볼 수 있다. PS3 또한 PS4 최신 기종이 나오면서 PS3을 기반으로 하는 게임들이 줄었다. PS4와 PC는 계속해서 상승그래프를 그리고 있기 때문에 PS4와 PC가 최신 트렌드라고 할 수 있다.<br>\n",
        "즉, 우리는 PS4와 PC가 크로스플렛폼이 가능하게 제작해야 한다."
      ],
      "metadata": {
        "id": "LrVEzTtCcSVF"
      }
    },
    {
      "cell_type": "markdown",
      "source": [
        "# $Clustering$"
      ],
      "metadata": {
        "id": "BfWWhd8LAcm-"
      }
    },
    {
      "cell_type": "markdown",
      "source": [
        "군집화를 통해 기준을 북미, 유럽의 판매량으로 설정하고 총 판매량과의 상관관계를 파악해 성공한 게임들의 공통점을 살펴봄."
      ],
      "metadata": {
        "id": "Yocm2uQbdZn9"
      }
    },
    {
      "cell_type": "code",
      "source": [
        "# 군집화를 진행하기 위한 새로운 작업 공간을 만듦.\n",
        "\n",
        "game_old = game_new.copy()"
      ],
      "metadata": {
        "id": "SzwAnEH5m6Jj"
      },
      "execution_count": 69,
      "outputs": []
    },
    {
      "cell_type": "code",
      "source": [
        "game_old"
      ],
      "metadata": {
        "colab": {
          "base_uri": "https://localhost:8080/",
          "height": 658
        },
        "id": "isELYDuWGyCx",
        "outputId": "23b9e57e-a1d3-495a-ffa3-1fc8e6ea29b4"
      },
      "execution_count": 70,
      "outputs": [
        {
          "output_type": "execute_result",
          "data": {
            "text/plain": [
              "                                                 Name Platform  Year  \\\n",
              "0                        Candace Kane's Candy Factory       DS  2008   \n",
              "1                                      The Munchables      Wii  2009   \n",
              "2      Otome wa Oanesama Boku ni Koi Shiteru Portable      PSP  2010   \n",
              "3                    Deal or No Deal: Special Edition       DS  2010   \n",
              "4           Ben 10 Ultimate Alien: Cosmic Destruction      PS3  2010   \n",
              "...                                               ...      ...   ...   \n",
              "16593                         Ice Age 2: The Meltdown       GC  2006   \n",
              "16594                     Rainbow Islands: Revolution      PSP  2005   \n",
              "16595                                        NBA 2K16      PS3  2015   \n",
              "16596                     Toukiden: The Age of Demons      PSV  2013   \n",
              "16597                        The King of Fighters '95       PS  1996   \n",
              "\n",
              "           Genre                    Publisher  NA_Sales  EU_Sales  JP_Sales  \\\n",
              "0         Action                    Destineer      0.04      0.00      0.00   \n",
              "1         Action           Namco Bandai Games      0.17      0.00      0.00   \n",
              "2      Adventure                    Alchemist      0.00      0.00      0.02   \n",
              "3           Misc                    Zoo Games      0.04      0.00      0.00   \n",
              "4       Platform                  D3Publisher      0.12      0.09      0.00   \n",
              "...          ...                          ...       ...       ...       ...   \n",
              "16593   Platform                Vivendi Games      0.15      0.04      0.00   \n",
              "16594     Action            Rising Star Games      0.01      0.00      0.00   \n",
              "16595     Sports         Take-Two Interactive      0.44      0.19      0.03   \n",
              "16596     Action                   Tecmo Koei      0.05      0.05      0.25   \n",
              "16597   Fighting  Sony Computer Entertainment      0.00      0.00      0.16   \n",
              "\n",
              "       Other_Sales  \n",
              "0             0.00  \n",
              "1             0.01  \n",
              "2             0.00  \n",
              "3             0.00  \n",
              "4             0.04  \n",
              "...            ...  \n",
              "16593         0.01  \n",
              "16594         0.00  \n",
              "16595         0.13  \n",
              "16596         0.03  \n",
              "16597         0.01  \n",
              "\n",
              "[16241 rows x 9 columns]"
            ],
            "text/html": [
              "\n",
              "  <div id=\"df-032a34ff-f8f9-416e-ae01-375c4cfdaf81\">\n",
              "    <div class=\"colab-df-container\">\n",
              "      <div>\n",
              "<style scoped>\n",
              "    .dataframe tbody tr th:only-of-type {\n",
              "        vertical-align: middle;\n",
              "    }\n",
              "\n",
              "    .dataframe tbody tr th {\n",
              "        vertical-align: top;\n",
              "    }\n",
              "\n",
              "    .dataframe thead th {\n",
              "        text-align: right;\n",
              "    }\n",
              "</style>\n",
              "<table border=\"1\" class=\"dataframe\">\n",
              "  <thead>\n",
              "    <tr style=\"text-align: right;\">\n",
              "      <th></th>\n",
              "      <th>Name</th>\n",
              "      <th>Platform</th>\n",
              "      <th>Year</th>\n",
              "      <th>Genre</th>\n",
              "      <th>Publisher</th>\n",
              "      <th>NA_Sales</th>\n",
              "      <th>EU_Sales</th>\n",
              "      <th>JP_Sales</th>\n",
              "      <th>Other_Sales</th>\n",
              "    </tr>\n",
              "  </thead>\n",
              "  <tbody>\n",
              "    <tr>\n",
              "      <th>0</th>\n",
              "      <td>Candace Kane's Candy Factory</td>\n",
              "      <td>DS</td>\n",
              "      <td>2008</td>\n",
              "      <td>Action</td>\n",
              "      <td>Destineer</td>\n",
              "      <td>0.04</td>\n",
              "      <td>0.00</td>\n",
              "      <td>0.00</td>\n",
              "      <td>0.00</td>\n",
              "    </tr>\n",
              "    <tr>\n",
              "      <th>1</th>\n",
              "      <td>The Munchables</td>\n",
              "      <td>Wii</td>\n",
              "      <td>2009</td>\n",
              "      <td>Action</td>\n",
              "      <td>Namco Bandai Games</td>\n",
              "      <td>0.17</td>\n",
              "      <td>0.00</td>\n",
              "      <td>0.00</td>\n",
              "      <td>0.01</td>\n",
              "    </tr>\n",
              "    <tr>\n",
              "      <th>2</th>\n",
              "      <td>Otome wa Oanesama Boku ni Koi Shiteru Portable</td>\n",
              "      <td>PSP</td>\n",
              "      <td>2010</td>\n",
              "      <td>Adventure</td>\n",
              "      <td>Alchemist</td>\n",
              "      <td>0.00</td>\n",
              "      <td>0.00</td>\n",
              "      <td>0.02</td>\n",
              "      <td>0.00</td>\n",
              "    </tr>\n",
              "    <tr>\n",
              "      <th>3</th>\n",
              "      <td>Deal or No Deal: Special Edition</td>\n",
              "      <td>DS</td>\n",
              "      <td>2010</td>\n",
              "      <td>Misc</td>\n",
              "      <td>Zoo Games</td>\n",
              "      <td>0.04</td>\n",
              "      <td>0.00</td>\n",
              "      <td>0.00</td>\n",
              "      <td>0.00</td>\n",
              "    </tr>\n",
              "    <tr>\n",
              "      <th>4</th>\n",
              "      <td>Ben 10 Ultimate Alien: Cosmic Destruction</td>\n",
              "      <td>PS3</td>\n",
              "      <td>2010</td>\n",
              "      <td>Platform</td>\n",
              "      <td>D3Publisher</td>\n",
              "      <td>0.12</td>\n",
              "      <td>0.09</td>\n",
              "      <td>0.00</td>\n",
              "      <td>0.04</td>\n",
              "    </tr>\n",
              "    <tr>\n",
              "      <th>...</th>\n",
              "      <td>...</td>\n",
              "      <td>...</td>\n",
              "      <td>...</td>\n",
              "      <td>...</td>\n",
              "      <td>...</td>\n",
              "      <td>...</td>\n",
              "      <td>...</td>\n",
              "      <td>...</td>\n",
              "      <td>...</td>\n",
              "    </tr>\n",
              "    <tr>\n",
              "      <th>16593</th>\n",
              "      <td>Ice Age 2: The Meltdown</td>\n",
              "      <td>GC</td>\n",
              "      <td>2006</td>\n",
              "      <td>Platform</td>\n",
              "      <td>Vivendi Games</td>\n",
              "      <td>0.15</td>\n",
              "      <td>0.04</td>\n",
              "      <td>0.00</td>\n",
              "      <td>0.01</td>\n",
              "    </tr>\n",
              "    <tr>\n",
              "      <th>16594</th>\n",
              "      <td>Rainbow Islands: Revolution</td>\n",
              "      <td>PSP</td>\n",
              "      <td>2005</td>\n",
              "      <td>Action</td>\n",
              "      <td>Rising Star Games</td>\n",
              "      <td>0.01</td>\n",
              "      <td>0.00</td>\n",
              "      <td>0.00</td>\n",
              "      <td>0.00</td>\n",
              "    </tr>\n",
              "    <tr>\n",
              "      <th>16595</th>\n",
              "      <td>NBA 2K16</td>\n",
              "      <td>PS3</td>\n",
              "      <td>2015</td>\n",
              "      <td>Sports</td>\n",
              "      <td>Take-Two Interactive</td>\n",
              "      <td>0.44</td>\n",
              "      <td>0.19</td>\n",
              "      <td>0.03</td>\n",
              "      <td>0.13</td>\n",
              "    </tr>\n",
              "    <tr>\n",
              "      <th>16596</th>\n",
              "      <td>Toukiden: The Age of Demons</td>\n",
              "      <td>PSV</td>\n",
              "      <td>2013</td>\n",
              "      <td>Action</td>\n",
              "      <td>Tecmo Koei</td>\n",
              "      <td>0.05</td>\n",
              "      <td>0.05</td>\n",
              "      <td>0.25</td>\n",
              "      <td>0.03</td>\n",
              "    </tr>\n",
              "    <tr>\n",
              "      <th>16597</th>\n",
              "      <td>The King of Fighters '95</td>\n",
              "      <td>PS</td>\n",
              "      <td>1996</td>\n",
              "      <td>Fighting</td>\n",
              "      <td>Sony Computer Entertainment</td>\n",
              "      <td>0.00</td>\n",
              "      <td>0.00</td>\n",
              "      <td>0.16</td>\n",
              "      <td>0.01</td>\n",
              "    </tr>\n",
              "  </tbody>\n",
              "</table>\n",
              "<p>16241 rows × 9 columns</p>\n",
              "</div>\n",
              "      <button class=\"colab-df-convert\" onclick=\"convertToInteractive('df-032a34ff-f8f9-416e-ae01-375c4cfdaf81')\"\n",
              "              title=\"Convert this dataframe to an interactive table.\"\n",
              "              style=\"display:none;\">\n",
              "        \n",
              "  <svg xmlns=\"http://www.w3.org/2000/svg\" height=\"24px\"viewBox=\"0 0 24 24\"\n",
              "       width=\"24px\">\n",
              "    <path d=\"M0 0h24v24H0V0z\" fill=\"none\"/>\n",
              "    <path d=\"M18.56 5.44l.94 2.06.94-2.06 2.06-.94-2.06-.94-.94-2.06-.94 2.06-2.06.94zm-11 1L8.5 8.5l.94-2.06 2.06-.94-2.06-.94L8.5 2.5l-.94 2.06-2.06.94zm10 10l.94 2.06.94-2.06 2.06-.94-2.06-.94-.94-2.06-.94 2.06-2.06.94z\"/><path d=\"M17.41 7.96l-1.37-1.37c-.4-.4-.92-.59-1.43-.59-.52 0-1.04.2-1.43.59L10.3 9.45l-7.72 7.72c-.78.78-.78 2.05 0 2.83L4 21.41c.39.39.9.59 1.41.59.51 0 1.02-.2 1.41-.59l7.78-7.78 2.81-2.81c.8-.78.8-2.07 0-2.86zM5.41 20L4 18.59l7.72-7.72 1.47 1.35L5.41 20z\"/>\n",
              "  </svg>\n",
              "      </button>\n",
              "      \n",
              "  <style>\n",
              "    .colab-df-container {\n",
              "      display:flex;\n",
              "      flex-wrap:wrap;\n",
              "      gap: 12px;\n",
              "    }\n",
              "\n",
              "    .colab-df-convert {\n",
              "      background-color: #E8F0FE;\n",
              "      border: none;\n",
              "      border-radius: 50%;\n",
              "      cursor: pointer;\n",
              "      display: none;\n",
              "      fill: #1967D2;\n",
              "      height: 32px;\n",
              "      padding: 0 0 0 0;\n",
              "      width: 32px;\n",
              "    }\n",
              "\n",
              "    .colab-df-convert:hover {\n",
              "      background-color: #E2EBFA;\n",
              "      box-shadow: 0px 1px 2px rgba(60, 64, 67, 0.3), 0px 1px 3px 1px rgba(60, 64, 67, 0.15);\n",
              "      fill: #174EA6;\n",
              "    }\n",
              "\n",
              "    [theme=dark] .colab-df-convert {\n",
              "      background-color: #3B4455;\n",
              "      fill: #D2E3FC;\n",
              "    }\n",
              "\n",
              "    [theme=dark] .colab-df-convert:hover {\n",
              "      background-color: #434B5C;\n",
              "      box-shadow: 0px 1px 3px 1px rgba(0, 0, 0, 0.15);\n",
              "      filter: drop-shadow(0px 1px 2px rgba(0, 0, 0, 0.3));\n",
              "      fill: #FFFFFF;\n",
              "    }\n",
              "  </style>\n",
              "\n",
              "      <script>\n",
              "        const buttonEl =\n",
              "          document.querySelector('#df-032a34ff-f8f9-416e-ae01-375c4cfdaf81 button.colab-df-convert');\n",
              "        buttonEl.style.display =\n",
              "          google.colab.kernel.accessAllowed ? 'block' : 'none';\n",
              "\n",
              "        async function convertToInteractive(key) {\n",
              "          const element = document.querySelector('#df-032a34ff-f8f9-416e-ae01-375c4cfdaf81');\n",
              "          const dataTable =\n",
              "            await google.colab.kernel.invokeFunction('convertToInteractive',\n",
              "                                                     [key], {});\n",
              "          if (!dataTable) return;\n",
              "\n",
              "          const docLinkHtml = 'Like what you see? Visit the ' +\n",
              "            '<a target=\"_blank\" href=https://colab.research.google.com/notebooks/data_table.ipynb>data table notebook</a>'\n",
              "            + ' to learn more about interactive tables.';\n",
              "          element.innerHTML = '';\n",
              "          dataTable['output_type'] = 'display_data';\n",
              "          await google.colab.output.renderOutput(dataTable, element);\n",
              "          const docLink = document.createElement('div');\n",
              "          docLink.innerHTML = docLinkHtml;\n",
              "          element.appendChild(docLink);\n",
              "        }\n",
              "      </script>\n",
              "    </div>\n",
              "  </div>\n",
              "  "
            ]
          },
          "metadata": {},
          "execution_count": 70
        }
      ]
    },
    {
      "cell_type": "code",
      "source": [
        "# log값으로 변환하기 전에 value가 0인 값들은 모두 제거함.\n",
        "# log를 취하는 이유는 정규성을 높이고 분석 시 정확한 값을 얻기 위해서이다.\n",
        "# 편차가 큰 데이터일수록 log를 취해서 의미있는 결과를 도출해내야함.\n",
        "# 0에 가까운 수일 수록 log를 취하면 기하급수적으로 음수값에 다가가기 때문에 변경하거나 제거해줘야함.\n",
        "\n",
        "# 여기서는 0.0은 작은 소수점으로 표현된 것이 아닌 해당 지역에는 게임이 아예 출고되지 않았다는 zero(0)으로 생각하고 \n",
        "# 데이터 분석 시 이상치 제거를 위해 완전 제거를 해줌.\n",
        "\n",
        "# 필요가 없는 JP_Sales 와 Other_Sales Columns 또한 제거했다.\n",
        "\n",
        "zero = game_old[game_old.NA_Sales == game_old.NA_Sales.min()]\n",
        "game_old = game_old.drop(zero.index)"
      ],
      "metadata": {
        "id": "3wfCkXTpCxRe"
      },
      "execution_count": 71,
      "outputs": []
    },
    {
      "cell_type": "code",
      "source": [
        "zero_1 = game_old[game_old.EU_Sales == game_old.EU_Sales.min()]\n",
        "game_old = game_old.drop(zero_1.index)"
      ],
      "metadata": {
        "id": "QD93Qr58DD8q"
      },
      "execution_count": 72,
      "outputs": []
    },
    {
      "cell_type": "code",
      "source": [
        "game_old = game_old.drop(['JP_Sales', 'Other_Sales'], axis = 'columns')\n",
        "game_old"
      ],
      "metadata": {
        "colab": {
          "base_uri": "https://localhost:8080/",
          "height": 467
        },
        "id": "QBS3WLA8hK5e",
        "outputId": "dbb684db-acef-4cf9-9569-4bf342276e7c"
      },
      "execution_count": 73,
      "outputs": [
        {
          "output_type": "execute_result",
          "data": {
            "text/plain": [
              "                                                    Name Platform  Year  \\\n",
              "4              Ben 10 Ultimate Alien: Cosmic Destruction      PS3  2010   \n",
              "6                  JASF: Jane's Advanced Strike Fighters       PC  2011   \n",
              "9      The Penguins of Madagascar: Dr. Blowhole Retur...      PS3  2011   \n",
              "10                                           Ford Racing       PS  2001   \n",
              "11            Harvest Moon: More Friends of Mineral Town      GBA  2003   \n",
              "...                                                  ...      ...   ...   \n",
              "16588                                           MindJack      PS3  2011   \n",
              "16591                                    Madden NFL 2005      PS2  2004   \n",
              "16593                            Ice Age 2: The Meltdown       GC  2006   \n",
              "16595                                           NBA 2K16      PS3  2015   \n",
              "16596                        Toukiden: The Age of Demons      PSV  2013   \n",
              "\n",
              "            Genre             Publisher  NA_Sales  EU_Sales  \n",
              "4        Platform           D3Publisher      0.12      0.09  \n",
              "6      Simulation           Deep Silver      0.02      0.01  \n",
              "9          Action                   THQ      0.04      0.03  \n",
              "10         Racing    Empire Interactive      0.48      0.33  \n",
              "11     Simulation               Ubisoft      0.14      0.05  \n",
              "...           ...                   ...       ...       ...  \n",
              "16588     Shooter           Square Enix      0.07      0.08  \n",
              "16591      Sports       Electronic Arts      4.18      0.26  \n",
              "16593    Platform         Vivendi Games      0.15      0.04  \n",
              "16595      Sports  Take-Two Interactive      0.44      0.19  \n",
              "16596      Action            Tecmo Koei      0.05      0.05  \n",
              "\n",
              "[9543 rows x 7 columns]"
            ],
            "text/html": [
              "\n",
              "  <div id=\"df-fe474448-7caf-4a50-b14b-e74b9f25af5c\">\n",
              "    <div class=\"colab-df-container\">\n",
              "      <div>\n",
              "<style scoped>\n",
              "    .dataframe tbody tr th:only-of-type {\n",
              "        vertical-align: middle;\n",
              "    }\n",
              "\n",
              "    .dataframe tbody tr th {\n",
              "        vertical-align: top;\n",
              "    }\n",
              "\n",
              "    .dataframe thead th {\n",
              "        text-align: right;\n",
              "    }\n",
              "</style>\n",
              "<table border=\"1\" class=\"dataframe\">\n",
              "  <thead>\n",
              "    <tr style=\"text-align: right;\">\n",
              "      <th></th>\n",
              "      <th>Name</th>\n",
              "      <th>Platform</th>\n",
              "      <th>Year</th>\n",
              "      <th>Genre</th>\n",
              "      <th>Publisher</th>\n",
              "      <th>NA_Sales</th>\n",
              "      <th>EU_Sales</th>\n",
              "    </tr>\n",
              "  </thead>\n",
              "  <tbody>\n",
              "    <tr>\n",
              "      <th>4</th>\n",
              "      <td>Ben 10 Ultimate Alien: Cosmic Destruction</td>\n",
              "      <td>PS3</td>\n",
              "      <td>2010</td>\n",
              "      <td>Platform</td>\n",
              "      <td>D3Publisher</td>\n",
              "      <td>0.12</td>\n",
              "      <td>0.09</td>\n",
              "    </tr>\n",
              "    <tr>\n",
              "      <th>6</th>\n",
              "      <td>JASF: Jane's Advanced Strike Fighters</td>\n",
              "      <td>PC</td>\n",
              "      <td>2011</td>\n",
              "      <td>Simulation</td>\n",
              "      <td>Deep Silver</td>\n",
              "      <td>0.02</td>\n",
              "      <td>0.01</td>\n",
              "    </tr>\n",
              "    <tr>\n",
              "      <th>9</th>\n",
              "      <td>The Penguins of Madagascar: Dr. Blowhole Retur...</td>\n",
              "      <td>PS3</td>\n",
              "      <td>2011</td>\n",
              "      <td>Action</td>\n",
              "      <td>THQ</td>\n",
              "      <td>0.04</td>\n",
              "      <td>0.03</td>\n",
              "    </tr>\n",
              "    <tr>\n",
              "      <th>10</th>\n",
              "      <td>Ford Racing</td>\n",
              "      <td>PS</td>\n",
              "      <td>2001</td>\n",
              "      <td>Racing</td>\n",
              "      <td>Empire Interactive</td>\n",
              "      <td>0.48</td>\n",
              "      <td>0.33</td>\n",
              "    </tr>\n",
              "    <tr>\n",
              "      <th>11</th>\n",
              "      <td>Harvest Moon: More Friends of Mineral Town</td>\n",
              "      <td>GBA</td>\n",
              "      <td>2003</td>\n",
              "      <td>Simulation</td>\n",
              "      <td>Ubisoft</td>\n",
              "      <td>0.14</td>\n",
              "      <td>0.05</td>\n",
              "    </tr>\n",
              "    <tr>\n",
              "      <th>...</th>\n",
              "      <td>...</td>\n",
              "      <td>...</td>\n",
              "      <td>...</td>\n",
              "      <td>...</td>\n",
              "      <td>...</td>\n",
              "      <td>...</td>\n",
              "      <td>...</td>\n",
              "    </tr>\n",
              "    <tr>\n",
              "      <th>16588</th>\n",
              "      <td>MindJack</td>\n",
              "      <td>PS3</td>\n",
              "      <td>2011</td>\n",
              "      <td>Shooter</td>\n",
              "      <td>Square Enix</td>\n",
              "      <td>0.07</td>\n",
              "      <td>0.08</td>\n",
              "    </tr>\n",
              "    <tr>\n",
              "      <th>16591</th>\n",
              "      <td>Madden NFL 2005</td>\n",
              "      <td>PS2</td>\n",
              "      <td>2004</td>\n",
              "      <td>Sports</td>\n",
              "      <td>Electronic Arts</td>\n",
              "      <td>4.18</td>\n",
              "      <td>0.26</td>\n",
              "    </tr>\n",
              "    <tr>\n",
              "      <th>16593</th>\n",
              "      <td>Ice Age 2: The Meltdown</td>\n",
              "      <td>GC</td>\n",
              "      <td>2006</td>\n",
              "      <td>Platform</td>\n",
              "      <td>Vivendi Games</td>\n",
              "      <td>0.15</td>\n",
              "      <td>0.04</td>\n",
              "    </tr>\n",
              "    <tr>\n",
              "      <th>16595</th>\n",
              "      <td>NBA 2K16</td>\n",
              "      <td>PS3</td>\n",
              "      <td>2015</td>\n",
              "      <td>Sports</td>\n",
              "      <td>Take-Two Interactive</td>\n",
              "      <td>0.44</td>\n",
              "      <td>0.19</td>\n",
              "    </tr>\n",
              "    <tr>\n",
              "      <th>16596</th>\n",
              "      <td>Toukiden: The Age of Demons</td>\n",
              "      <td>PSV</td>\n",
              "      <td>2013</td>\n",
              "      <td>Action</td>\n",
              "      <td>Tecmo Koei</td>\n",
              "      <td>0.05</td>\n",
              "      <td>0.05</td>\n",
              "    </tr>\n",
              "  </tbody>\n",
              "</table>\n",
              "<p>9543 rows × 7 columns</p>\n",
              "</div>\n",
              "      <button class=\"colab-df-convert\" onclick=\"convertToInteractive('df-fe474448-7caf-4a50-b14b-e74b9f25af5c')\"\n",
              "              title=\"Convert this dataframe to an interactive table.\"\n",
              "              style=\"display:none;\">\n",
              "        \n",
              "  <svg xmlns=\"http://www.w3.org/2000/svg\" height=\"24px\"viewBox=\"0 0 24 24\"\n",
              "       width=\"24px\">\n",
              "    <path d=\"M0 0h24v24H0V0z\" fill=\"none\"/>\n",
              "    <path d=\"M18.56 5.44l.94 2.06.94-2.06 2.06-.94-2.06-.94-.94-2.06-.94 2.06-2.06.94zm-11 1L8.5 8.5l.94-2.06 2.06-.94-2.06-.94L8.5 2.5l-.94 2.06-2.06.94zm10 10l.94 2.06.94-2.06 2.06-.94-2.06-.94-.94-2.06-.94 2.06-2.06.94z\"/><path d=\"M17.41 7.96l-1.37-1.37c-.4-.4-.92-.59-1.43-.59-.52 0-1.04.2-1.43.59L10.3 9.45l-7.72 7.72c-.78.78-.78 2.05 0 2.83L4 21.41c.39.39.9.59 1.41.59.51 0 1.02-.2 1.41-.59l7.78-7.78 2.81-2.81c.8-.78.8-2.07 0-2.86zM5.41 20L4 18.59l7.72-7.72 1.47 1.35L5.41 20z\"/>\n",
              "  </svg>\n",
              "      </button>\n",
              "      \n",
              "  <style>\n",
              "    .colab-df-container {\n",
              "      display:flex;\n",
              "      flex-wrap:wrap;\n",
              "      gap: 12px;\n",
              "    }\n",
              "\n",
              "    .colab-df-convert {\n",
              "      background-color: #E8F0FE;\n",
              "      border: none;\n",
              "      border-radius: 50%;\n",
              "      cursor: pointer;\n",
              "      display: none;\n",
              "      fill: #1967D2;\n",
              "      height: 32px;\n",
              "      padding: 0 0 0 0;\n",
              "      width: 32px;\n",
              "    }\n",
              "\n",
              "    .colab-df-convert:hover {\n",
              "      background-color: #E2EBFA;\n",
              "      box-shadow: 0px 1px 2px rgba(60, 64, 67, 0.3), 0px 1px 3px 1px rgba(60, 64, 67, 0.15);\n",
              "      fill: #174EA6;\n",
              "    }\n",
              "\n",
              "    [theme=dark] .colab-df-convert {\n",
              "      background-color: #3B4455;\n",
              "      fill: #D2E3FC;\n",
              "    }\n",
              "\n",
              "    [theme=dark] .colab-df-convert:hover {\n",
              "      background-color: #434B5C;\n",
              "      box-shadow: 0px 1px 3px 1px rgba(0, 0, 0, 0.15);\n",
              "      filter: drop-shadow(0px 1px 2px rgba(0, 0, 0, 0.3));\n",
              "      fill: #FFFFFF;\n",
              "    }\n",
              "  </style>\n",
              "\n",
              "      <script>\n",
              "        const buttonEl =\n",
              "          document.querySelector('#df-fe474448-7caf-4a50-b14b-e74b9f25af5c button.colab-df-convert');\n",
              "        buttonEl.style.display =\n",
              "          google.colab.kernel.accessAllowed ? 'block' : 'none';\n",
              "\n",
              "        async function convertToInteractive(key) {\n",
              "          const element = document.querySelector('#df-fe474448-7caf-4a50-b14b-e74b9f25af5c');\n",
              "          const dataTable =\n",
              "            await google.colab.kernel.invokeFunction('convertToInteractive',\n",
              "                                                     [key], {});\n",
              "          if (!dataTable) return;\n",
              "\n",
              "          const docLinkHtml = 'Like what you see? Visit the ' +\n",
              "            '<a target=\"_blank\" href=https://colab.research.google.com/notebooks/data_table.ipynb>data table notebook</a>'\n",
              "            + ' to learn more about interactive tables.';\n",
              "          element.innerHTML = '';\n",
              "          dataTable['output_type'] = 'display_data';\n",
              "          await google.colab.output.renderOutput(dataTable, element);\n",
              "          const docLink = document.createElement('div');\n",
              "          docLink.innerHTML = docLinkHtml;\n",
              "          element.appendChild(docLink);\n",
              "        }\n",
              "      </script>\n",
              "    </div>\n",
              "  </div>\n",
              "  "
            ]
          },
          "metadata": {},
          "execution_count": 73
        }
      ]
    },
    {
      "cell_type": "code",
      "source": [
        "game_old['Total_Sales'] = game_old['NA_Sales'] + game_old['EU_Sales']"
      ],
      "metadata": {
        "id": "bqMT-CZZAIex"
      },
      "execution_count": 74,
      "outputs": []
    },
    {
      "cell_type": "code",
      "source": [
        "game_old.head(5)"
      ],
      "metadata": {
        "colab": {
          "base_uri": "https://localhost:8080/",
          "height": 302
        },
        "id": "gc9pW3KOAVud",
        "outputId": "49786126-4f41-4e9d-d217-254ecea7597e"
      },
      "execution_count": 75,
      "outputs": [
        {
          "output_type": "execute_result",
          "data": {
            "text/plain": [
              "                                                 Name Platform  Year  \\\n",
              "4           Ben 10 Ultimate Alien: Cosmic Destruction      PS3  2010   \n",
              "6               JASF: Jane's Advanced Strike Fighters       PC  2011   \n",
              "9   The Penguins of Madagascar: Dr. Blowhole Retur...      PS3  2011   \n",
              "10                                        Ford Racing       PS  2001   \n",
              "11         Harvest Moon: More Friends of Mineral Town      GBA  2003   \n",
              "\n",
              "         Genre           Publisher  NA_Sales  EU_Sales  Total_Sales  \n",
              "4     Platform         D3Publisher      0.12      0.09         0.21  \n",
              "6   Simulation         Deep Silver      0.02      0.01         0.03  \n",
              "9       Action                 THQ      0.04      0.03         0.07  \n",
              "10      Racing  Empire Interactive      0.48      0.33         0.81  \n",
              "11  Simulation             Ubisoft      0.14      0.05         0.19  "
            ],
            "text/html": [
              "\n",
              "  <div id=\"df-d5ebadf5-4f11-4311-be3d-3cff48e9ef80\">\n",
              "    <div class=\"colab-df-container\">\n",
              "      <div>\n",
              "<style scoped>\n",
              "    .dataframe tbody tr th:only-of-type {\n",
              "        vertical-align: middle;\n",
              "    }\n",
              "\n",
              "    .dataframe tbody tr th {\n",
              "        vertical-align: top;\n",
              "    }\n",
              "\n",
              "    .dataframe thead th {\n",
              "        text-align: right;\n",
              "    }\n",
              "</style>\n",
              "<table border=\"1\" class=\"dataframe\">\n",
              "  <thead>\n",
              "    <tr style=\"text-align: right;\">\n",
              "      <th></th>\n",
              "      <th>Name</th>\n",
              "      <th>Platform</th>\n",
              "      <th>Year</th>\n",
              "      <th>Genre</th>\n",
              "      <th>Publisher</th>\n",
              "      <th>NA_Sales</th>\n",
              "      <th>EU_Sales</th>\n",
              "      <th>Total_Sales</th>\n",
              "    </tr>\n",
              "  </thead>\n",
              "  <tbody>\n",
              "    <tr>\n",
              "      <th>4</th>\n",
              "      <td>Ben 10 Ultimate Alien: Cosmic Destruction</td>\n",
              "      <td>PS3</td>\n",
              "      <td>2010</td>\n",
              "      <td>Platform</td>\n",
              "      <td>D3Publisher</td>\n",
              "      <td>0.12</td>\n",
              "      <td>0.09</td>\n",
              "      <td>0.21</td>\n",
              "    </tr>\n",
              "    <tr>\n",
              "      <th>6</th>\n",
              "      <td>JASF: Jane's Advanced Strike Fighters</td>\n",
              "      <td>PC</td>\n",
              "      <td>2011</td>\n",
              "      <td>Simulation</td>\n",
              "      <td>Deep Silver</td>\n",
              "      <td>0.02</td>\n",
              "      <td>0.01</td>\n",
              "      <td>0.03</td>\n",
              "    </tr>\n",
              "    <tr>\n",
              "      <th>9</th>\n",
              "      <td>The Penguins of Madagascar: Dr. Blowhole Retur...</td>\n",
              "      <td>PS3</td>\n",
              "      <td>2011</td>\n",
              "      <td>Action</td>\n",
              "      <td>THQ</td>\n",
              "      <td>0.04</td>\n",
              "      <td>0.03</td>\n",
              "      <td>0.07</td>\n",
              "    </tr>\n",
              "    <tr>\n",
              "      <th>10</th>\n",
              "      <td>Ford Racing</td>\n",
              "      <td>PS</td>\n",
              "      <td>2001</td>\n",
              "      <td>Racing</td>\n",
              "      <td>Empire Interactive</td>\n",
              "      <td>0.48</td>\n",
              "      <td>0.33</td>\n",
              "      <td>0.81</td>\n",
              "    </tr>\n",
              "    <tr>\n",
              "      <th>11</th>\n",
              "      <td>Harvest Moon: More Friends of Mineral Town</td>\n",
              "      <td>GBA</td>\n",
              "      <td>2003</td>\n",
              "      <td>Simulation</td>\n",
              "      <td>Ubisoft</td>\n",
              "      <td>0.14</td>\n",
              "      <td>0.05</td>\n",
              "      <td>0.19</td>\n",
              "    </tr>\n",
              "  </tbody>\n",
              "</table>\n",
              "</div>\n",
              "      <button class=\"colab-df-convert\" onclick=\"convertToInteractive('df-d5ebadf5-4f11-4311-be3d-3cff48e9ef80')\"\n",
              "              title=\"Convert this dataframe to an interactive table.\"\n",
              "              style=\"display:none;\">\n",
              "        \n",
              "  <svg xmlns=\"http://www.w3.org/2000/svg\" height=\"24px\"viewBox=\"0 0 24 24\"\n",
              "       width=\"24px\">\n",
              "    <path d=\"M0 0h24v24H0V0z\" fill=\"none\"/>\n",
              "    <path d=\"M18.56 5.44l.94 2.06.94-2.06 2.06-.94-2.06-.94-.94-2.06-.94 2.06-2.06.94zm-11 1L8.5 8.5l.94-2.06 2.06-.94-2.06-.94L8.5 2.5l-.94 2.06-2.06.94zm10 10l.94 2.06.94-2.06 2.06-.94-2.06-.94-.94-2.06-.94 2.06-2.06.94z\"/><path d=\"M17.41 7.96l-1.37-1.37c-.4-.4-.92-.59-1.43-.59-.52 0-1.04.2-1.43.59L10.3 9.45l-7.72 7.72c-.78.78-.78 2.05 0 2.83L4 21.41c.39.39.9.59 1.41.59.51 0 1.02-.2 1.41-.59l7.78-7.78 2.81-2.81c.8-.78.8-2.07 0-2.86zM5.41 20L4 18.59l7.72-7.72 1.47 1.35L5.41 20z\"/>\n",
              "  </svg>\n",
              "      </button>\n",
              "      \n",
              "  <style>\n",
              "    .colab-df-container {\n",
              "      display:flex;\n",
              "      flex-wrap:wrap;\n",
              "      gap: 12px;\n",
              "    }\n",
              "\n",
              "    .colab-df-convert {\n",
              "      background-color: #E8F0FE;\n",
              "      border: none;\n",
              "      border-radius: 50%;\n",
              "      cursor: pointer;\n",
              "      display: none;\n",
              "      fill: #1967D2;\n",
              "      height: 32px;\n",
              "      padding: 0 0 0 0;\n",
              "      width: 32px;\n",
              "    }\n",
              "\n",
              "    .colab-df-convert:hover {\n",
              "      background-color: #E2EBFA;\n",
              "      box-shadow: 0px 1px 2px rgba(60, 64, 67, 0.3), 0px 1px 3px 1px rgba(60, 64, 67, 0.15);\n",
              "      fill: #174EA6;\n",
              "    }\n",
              "\n",
              "    [theme=dark] .colab-df-convert {\n",
              "      background-color: #3B4455;\n",
              "      fill: #D2E3FC;\n",
              "    }\n",
              "\n",
              "    [theme=dark] .colab-df-convert:hover {\n",
              "      background-color: #434B5C;\n",
              "      box-shadow: 0px 1px 3px 1px rgba(0, 0, 0, 0.15);\n",
              "      filter: drop-shadow(0px 1px 2px rgba(0, 0, 0, 0.3));\n",
              "      fill: #FFFFFF;\n",
              "    }\n",
              "  </style>\n",
              "\n",
              "      <script>\n",
              "        const buttonEl =\n",
              "          document.querySelector('#df-d5ebadf5-4f11-4311-be3d-3cff48e9ef80 button.colab-df-convert');\n",
              "        buttonEl.style.display =\n",
              "          google.colab.kernel.accessAllowed ? 'block' : 'none';\n",
              "\n",
              "        async function convertToInteractive(key) {\n",
              "          const element = document.querySelector('#df-d5ebadf5-4f11-4311-be3d-3cff48e9ef80');\n",
              "          const dataTable =\n",
              "            await google.colab.kernel.invokeFunction('convertToInteractive',\n",
              "                                                     [key], {});\n",
              "          if (!dataTable) return;\n",
              "\n",
              "          const docLinkHtml = 'Like what you see? Visit the ' +\n",
              "            '<a target=\"_blank\" href=https://colab.research.google.com/notebooks/data_table.ipynb>data table notebook</a>'\n",
              "            + ' to learn more about interactive tables.';\n",
              "          element.innerHTML = '';\n",
              "          dataTable['output_type'] = 'display_data';\n",
              "          await google.colab.output.renderOutput(dataTable, element);\n",
              "          const docLink = document.createElement('div');\n",
              "          docLink.innerHTML = docLinkHtml;\n",
              "          element.appendChild(docLink);\n",
              "        }\n",
              "      </script>\n",
              "    </div>\n",
              "  </div>\n",
              "  "
            ]
          },
          "metadata": {},
          "execution_count": 75
        }
      ]
    },
    {
      "cell_type": "code",
      "source": [
        "# 북미 판매량, 유럽 판매량, 총 판매량을 각각 로그 값을 취해 --_log에 저장.\n",
        "\n",
        "Total_log = np.log(game_old['Total_Sales'])\n",
        "\n",
        "# 로그 스케일은 상대적인 비율을 뜻하므로 각각이 기준 0으로부터 2배 1.5배 증가하거나 감소한 값이다 라는 것을 의미한다.\n",
        "sns.displot(Total_log)"
      ],
      "metadata": {
        "colab": {
          "base_uri": "https://localhost:8080/",
          "height": 387
        },
        "id": "JJwO0Zo1BuUf",
        "outputId": "c31cf1b8-d66e-4f69-cd85-3339f26cf7d8"
      },
      "execution_count": 76,
      "outputs": [
        {
          "output_type": "execute_result",
          "data": {
            "text/plain": [
              "<seaborn.axisgrid.FacetGrid at 0x7f0b73ad2280>"
            ]
          },
          "metadata": {},
          "execution_count": 76
        },
        {
          "output_type": "display_data",
          "data": {
            "text/plain": [
              "<Figure size 360x360 with 1 Axes>"
            ],
            "image/png": "[encoded data removed]"
          },
          "metadata": {
            "needs_background": "light"
          }
        }
      ]
    },
    {
      "cell_type": "code",
      "source": [
        "NA_log = np.log(game_old['NA_Sales'])\n",
        "\n",
        "sns.displot(NA_log)"
      ],
      "metadata": {
        "colab": {
          "base_uri": "https://localhost:8080/",
          "height": 387
        },
        "id": "pKEwwmadDMEz",
        "outputId": "ecbeaa68-6576-4107-e267-47b75a72f07a"
      },
      "execution_count": 77,
      "outputs": [
        {
          "output_type": "execute_result",
          "data": {
            "text/plain": [
              "<seaborn.axisgrid.FacetGrid at 0x7f0b73bfc5e0>"
            ]
          },
          "metadata": {},
          "execution_count": 77
        },
        {
          "output_type": "display_data",
          "data": {
            "text/plain": [
              "<Figure size 360x360 with 1 Axes>"
            ],
            "image/png": "[encoded data removed]"
          },
          "metadata": {
            "needs_background": "light"
          }
        }
      ]
    },
    {
      "cell_type": "code",
      "source": [
        "EU_log = np.log(game_old['EU_Sales'])\n",
        "\n",
        "sns.displot(EU_log)"
      ],
      "metadata": {
        "colab": {
          "base_uri": "https://localhost:8080/",
          "height": 387
        },
        "id": "O7T-S7dSDQRh",
        "outputId": "07451aa1-344f-4690-f5fd-59c528041e81"
      },
      "execution_count": 78,
      "outputs": [
        {
          "output_type": "execute_result",
          "data": {
            "text/plain": [
              "<seaborn.axisgrid.FacetGrid at 0x7f0b73d30b20>"
            ]
          },
          "metadata": {},
          "execution_count": 78
        },
        {
          "output_type": "display_data",
          "data": {
            "text/plain": [
              "<Figure size 360x360 with 1 Axes>"
            ],
            "image/png": "[encoded data removed]"
          },
          "metadata": {
            "needs_background": "light"
          }
        }
      ]
    },
    {
      "cell_type": "code",
      "source": [
        "game_log = pd.concat([NA_log, EU_log, Total_log], axis = 1)"
      ],
      "metadata": {
        "id": "hIp1ZIOODYC7"
      },
      "execution_count": 79,
      "outputs": []
    },
    {
      "cell_type": "code",
      "source": [
        "# 로그변환을 마친 지역별 판매량과 총 판매량을 보여주는 표\n",
        "\n",
        "game_log"
      ],
      "metadata": {
        "colab": {
          "base_uri": "https://localhost:8080/",
          "height": 423
        },
        "id": "tbOd_o3dDngs",
        "outputId": "4337db83-be7f-4ff9-dee2-fc01a5aa946a"
      },
      "execution_count": 80,
      "outputs": [
        {
          "output_type": "execute_result",
          "data": {
            "text/plain": [
              "       NA_Sales  EU_Sales  Total_Sales\n",
              "4     -2.120264 -2.407946    -1.560648\n",
              "6     -3.912023 -4.605170    -3.506558\n",
              "9     -3.218876 -3.506558    -2.659260\n",
              "10    -0.733969 -1.108663    -0.210721\n",
              "11    -1.966113 -2.995732    -1.660731\n",
              "...         ...       ...          ...\n",
              "16588 -2.659260 -2.525729    -1.897120\n",
              "16591  1.430311 -1.347074     1.490654\n",
              "16593 -1.897120 -3.218876    -1.660731\n",
              "16595 -0.820981 -1.660731    -0.462035\n",
              "16596 -2.995732 -2.995732    -2.302585\n",
              "\n",
              "[9543 rows x 3 columns]"
            ],
            "text/html": [
              "\n",
              "  <div id=\"df-6853c786-61e1-49bc-b941-3aed41177abe\">\n",
              "    <div class=\"colab-df-container\">\n",
              "      <div>\n",
              "<style scoped>\n",
              "    .dataframe tbody tr th:only-of-type {\n",
              "        vertical-align: middle;\n",
              "    }\n",
              "\n",
              "    .dataframe tbody tr th {\n",
              "        vertical-align: top;\n",
              "    }\n",
              "\n",
              "    .dataframe thead th {\n",
              "        text-align: right;\n",
              "    }\n",
              "</style>\n",
              "<table border=\"1\" class=\"dataframe\">\n",
              "  <thead>\n",
              "    <tr style=\"text-align: right;\">\n",
              "      <th></th>\n",
              "      <th>NA_Sales</th>\n",
              "      <th>EU_Sales</th>\n",
              "      <th>Total_Sales</th>\n",
              "    </tr>\n",
              "  </thead>\n",
              "  <tbody>\n",
              "    <tr>\n",
              "      <th>4</th>\n",
              "      <td>-2.120264</td>\n",
              "      <td>-2.407946</td>\n",
              "      <td>-1.560648</td>\n",
              "    </tr>\n",
              "    <tr>\n",
              "      <th>6</th>\n",
              "      <td>-3.912023</td>\n",
              "      <td>-4.605170</td>\n",
              "      <td>-3.506558</td>\n",
              "    </tr>\n",
              "    <tr>\n",
              "      <th>9</th>\n",
              "      <td>-3.218876</td>\n",
              "      <td>-3.506558</td>\n",
              "      <td>-2.659260</td>\n",
              "    </tr>\n",
              "    <tr>\n",
              "      <th>10</th>\n",
              "      <td>-0.733969</td>\n",
              "      <td>-1.108663</td>\n",
              "      <td>-0.210721</td>\n",
              "    </tr>\n",
              "    <tr>\n",
              "      <th>11</th>\n",
              "      <td>-1.966113</td>\n",
              "      <td>-2.995732</td>\n",
              "      <td>-1.660731</td>\n",
              "    </tr>\n",
              "    <tr>\n",
              "      <th>...</th>\n",
              "      <td>...</td>\n",
              "      <td>...</td>\n",
              "      <td>...</td>\n",
              "    </tr>\n",
              "    <tr>\n",
              "      <th>16588</th>\n",
              "      <td>-2.659260</td>\n",
              "      <td>-2.525729</td>\n",
              "      <td>-1.897120</td>\n",
              "    </tr>\n",
              "    <tr>\n",
              "      <th>16591</th>\n",
              "      <td>1.430311</td>\n",
              "      <td>-1.347074</td>\n",
              "      <td>1.490654</td>\n",
              "    </tr>\n",
              "    <tr>\n",
              "      <th>16593</th>\n",
              "      <td>-1.897120</td>\n",
              "      <td>-3.218876</td>\n",
              "      <td>-1.660731</td>\n",
              "    </tr>\n",
              "    <tr>\n",
              "      <th>16595</th>\n",
              "      <td>-0.820981</td>\n",
              "      <td>-1.660731</td>\n",
              "      <td>-0.462035</td>\n",
              "    </tr>\n",
              "    <tr>\n",
              "      <th>16596</th>\n",
              "      <td>-2.995732</td>\n",
              "      <td>-2.995732</td>\n",
              "      <td>-2.302585</td>\n",
              "    </tr>\n",
              "  </tbody>\n",
              "</table>\n",
              "<p>9543 rows × 3 columns</p>\n",
              "</div>\n",
              "      <button class=\"colab-df-convert\" onclick=\"convertToInteractive('df-6853c786-61e1-49bc-b941-3aed41177abe')\"\n",
              "              title=\"Convert this dataframe to an interactive table.\"\n",
              "              style=\"display:none;\">\n",
              "        \n",
              "  <svg xmlns=\"http://www.w3.org/2000/svg\" height=\"24px\"viewBox=\"0 0 24 24\"\n",
              "       width=\"24px\">\n",
              "    <path d=\"M0 0h24v24H0V0z\" fill=\"none\"/>\n",
              "    <path d=\"M18.56 5.44l.94 2.06.94-2.06 2.06-.94-2.06-.94-.94-2.06-.94 2.06-2.06.94zm-11 1L8.5 8.5l.94-2.06 2.06-.94-2.06-.94L8.5 2.5l-.94 2.06-2.06.94zm10 10l.94 2.06.94-2.06 2.06-.94-2.06-.94-.94-2.06-.94 2.06-2.06.94z\"/><path d=\"M17.41 7.96l-1.37-1.37c-.4-.4-.92-.59-1.43-.59-.52 0-1.04.2-1.43.59L10.3 9.45l-7.72 7.72c-.78.78-.78 2.05 0 2.83L4 21.41c.39.39.9.59 1.41.59.51 0 1.02-.2 1.41-.59l7.78-7.78 2.81-2.81c.8-.78.8-2.07 0-2.86zM5.41 20L4 18.59l7.72-7.72 1.47 1.35L5.41 20z\"/>\n",
              "  </svg>\n",
              "      </button>\n",
              "      \n",
              "  <style>\n",
              "    .colab-df-container {\n",
              "      display:flex;\n",
              "      flex-wrap:wrap;\n",
              "      gap: 12px;\n",
              "    }\n",
              "\n",
              "    .colab-df-convert {\n",
              "      background-color: #E8F0FE;\n",
              "      border: none;\n",
              "      border-radius: 50%;\n",
              "      cursor: pointer;\n",
              "      display: none;\n",
              "      fill: #1967D2;\n",
              "      height: 32px;\n",
              "      padding: 0 0 0 0;\n",
              "      width: 32px;\n",
              "    }\n",
              "\n",
              "    .colab-df-convert:hover {\n",
              "      background-color: #E2EBFA;\n",
              "      box-shadow: 0px 1px 2px rgba(60, 64, 67, 0.3), 0px 1px 3px 1px rgba(60, 64, 67, 0.15);\n",
              "      fill: #174EA6;\n",
              "    }\n",
              "\n",
              "    [theme=dark] .colab-df-convert {\n",
              "      background-color: #3B4455;\n",
              "      fill: #D2E3FC;\n",
              "    }\n",
              "\n",
              "    [theme=dark] .colab-df-convert:hover {\n",
              "      background-color: #434B5C;\n",
              "      box-shadow: 0px 1px 3px 1px rgba(0, 0, 0, 0.15);\n",
              "      filter: drop-shadow(0px 1px 2px rgba(0, 0, 0, 0.3));\n",
              "      fill: #FFFFFF;\n",
              "    }\n",
              "  </style>\n",
              "\n",
              "      <script>\n",
              "        const buttonEl =\n",
              "          document.querySelector('#df-6853c786-61e1-49bc-b941-3aed41177abe button.colab-df-convert');\n",
              "        buttonEl.style.display =\n",
              "          google.colab.kernel.accessAllowed ? 'block' : 'none';\n",
              "\n",
              "        async function convertToInteractive(key) {\n",
              "          const element = document.querySelector('#df-6853c786-61e1-49bc-b941-3aed41177abe');\n",
              "          const dataTable =\n",
              "            await google.colab.kernel.invokeFunction('convertToInteractive',\n",
              "                                                     [key], {});\n",
              "          if (!dataTable) return;\n",
              "\n",
              "          const docLinkHtml = 'Like what you see? Visit the ' +\n",
              "            '<a target=\"_blank\" href=https://colab.research.google.com/notebooks/data_table.ipynb>data table notebook</a>'\n",
              "            + ' to learn more about interactive tables.';\n",
              "          element.innerHTML = '';\n",
              "          dataTable['output_type'] = 'display_data';\n",
              "          await google.colab.output.renderOutput(dataTable, element);\n",
              "          const docLink = document.createElement('div');\n",
              "          docLink.innerHTML = docLinkHtml;\n",
              "          element.appendChild(docLink);\n",
              "        }\n",
              "      </script>\n",
              "    </div>\n",
              "  </div>\n",
              "  "
            ]
          },
          "metadata": {},
          "execution_count": 80
        }
      ]
    },
    {
      "cell_type": "markdown",
      "source": [
        "# 몇개의 군집으로 나누는 것이 좋을까?"
      ],
      "metadata": {
        "id": "LEDzIhwQkBIk"
      }
    },
    {
      "cell_type": "code",
      "source": [
        "scaler = StandardScaler()\n",
        "game_scaled = scaler.fit_transform(game_log)"
      ],
      "metadata": {
        "id": "w4IRVOYxDuQl"
      },
      "execution_count": 81,
      "outputs": []
    },
    {
      "cell_type": "code",
      "source": [
        "print('mean: ', game_scaled.mean(axis=0).round(2))\n",
        "print('std: ', game_scaled.std(axis=0).round(2))"
      ],
      "metadata": {
        "colab": {
          "base_uri": "https://localhost:8080/"
        },
        "id": "73DvekCFEEly",
        "outputId": "5aac9467-68c2-4e00-d96b-dce7f636047e"
      },
      "execution_count": 82,
      "outputs": [
        {
          "output_type": "stream",
          "name": "stdout",
          "text": [
            "mean:  [-0.  0. -0.]\n",
            "std:  [1. 1. 1.]\n"
          ]
        }
      ]
    },
    {
      "cell_type": "code",
      "source": [
        "sse = {}\n",
        "\n",
        "for k in range(1,10):\n",
        "  kmeans = KMeans(n_clusters=k, random_state=1)\n",
        "  kmeans.fit(game_scaled)\n",
        "  sse[k] = kmeans.inertia_"
      ],
      "metadata": {
        "id": "suP6z6ilEJis"
      },
      "execution_count": 83,
      "outputs": []
    },
    {
      "cell_type": "code",
      "source": [
        "# 결과 시각화\n",
        "\n",
        "# 엘보우 메소드는 군집수에 따라 군집내 제곱합을 플롯팅하여 일반적으로 적절한 군집 수으로 선택하는 방법입니다. \n",
        "# 엘보우 메소드를 통해 최적의 군집 수가 3인 것을 알게 되었다.\n",
        "\n",
        "plt.title('The Elbow Method')\n",
        "plt.xlabel('Values of k')\n",
        "plt.ylabel('SSE')\n",
        "sns.pointplot(x=list(sse.keys()), y=list(sse.values()))\n",
        "plt.show()"
      ],
      "metadata": {
        "colab": {
          "base_uri": "https://localhost:8080/",
          "height": 295
        },
        "id": "_uv3pxhxEOj7",
        "outputId": "2fe47853-d5a4-43f2-f197-220523f138ea"
      },
      "execution_count": 84,
      "outputs": [
        {
          "output_type": "display_data",
          "data": {
            "text/plain": [
              "<Figure size 432x288 with 1 Axes>"
            ],
            "image/png": "[encoded data removed]"
          },
          "metadata": {
            "needs_background": "light"
          }
        }
      ]
    },
    {
      "cell_type": "markdown",
      "source": [
        "# 북미, 유럽 판매량에 따른 전체 판매량의 상관관계\n",
        "\n"
      ],
      "metadata": {
        "id": "Li5Slc-xESj9"
      }
    },
    {
      "cell_type": "code",
      "source": [
        "# 최종 모델 학습\n",
        "kmeans = KMeans(n_clusters=3, max_iter=50, random_state=42)\n",
        "kmeans.fit(game_scaled)\n",
        "\n",
        "# 고객별 클러스터 지정\n",
        "cluster_labels = kmeans.labels_\n",
        "\n",
        "game_k3 = game_old.assign(Cluster = cluster_labels)"
      ],
      "metadata": {
        "id": "LIbrJV9IEnIx"
      },
      "execution_count": 85,
      "outputs": []
    },
    {
      "cell_type": "code",
      "source": [
        "game_k3.head(5)"
      ],
      "metadata": {
        "colab": {
          "base_uri": "https://localhost:8080/",
          "height": 206
        },
        "id": "sewreDLKExD9",
        "outputId": "088e0cc0-410f-4727-902f-eb13ed97d540"
      },
      "execution_count": null,
      "outputs": [
        {
          "output_type": "execute_result",
          "data": {
            "text/plain": [
              "                                                 Name Platform  Year  \\\n",
              "4           Ben 10 Ultimate Alien: Cosmic Destruction      PS3  2010   \n",
              "6               JASF: Jane's Advanced Strike Fighters       PC  2011   \n",
              "9   The Penguins of Madagascar: Dr. Blowhole Retur...      PS3  2011   \n",
              "10                                        Ford Racing       PS  2001   \n",
              "11         Harvest Moon: More Friends of Mineral Town      GBA  2003   \n",
              "\n",
              "         Genre           Publisher  NA_Sales  EU_Sales  Total_Sales  Cluster  \n",
              "4     Platform         D3Publisher      0.12      0.09         0.21        2  \n",
              "6   Simulation         Deep Silver      0.02      0.01         0.03        1  \n",
              "9       Action                 THQ      0.04      0.03         0.07        1  \n",
              "10      Racing  Empire Interactive      0.48      0.33         0.81        0  \n",
              "11  Simulation             Ubisoft      0.14      0.05         0.19        2  "
            ],
            "text/html": [
              "\n",
              "  <div id=\"df-454953d9-83b8-4dc0-872b-0d9b655be634\">\n",
              "    <div class=\"colab-df-container\">\n",
              "      <div>\n",
              "<style scoped>\n",
              "    .dataframe tbody tr th:only-of-type {\n",
              "        vertical-align: middle;\n",
              "    }\n",
              "\n",
              "    .dataframe tbody tr th {\n",
              "        vertical-align: top;\n",
              "    }\n",
              "\n",
              "    .dataframe thead th {\n",
              "        text-align: right;\n",
              "    }\n",
              "</style>\n",
              "<table border=\"1\" class=\"dataframe\">\n",
              "  <thead>\n",
              "    <tr style=\"text-align: right;\">\n",
              "      <th></th>\n",
              "      <th>Name</th>\n",
              "      <th>Platform</th>\n",
              "      <th>Year</th>\n",
              "      <th>Genre</th>\n",
              "      <th>Publisher</th>\n",
              "      <th>NA_Sales</th>\n",
              "      <th>EU_Sales</th>\n",
              "      <th>Total_Sales</th>\n",
              "      <th>Cluster</th>\n",
              "    </tr>\n",
              "  </thead>\n",
              "  <tbody>\n",
              "    <tr>\n",
              "      <th>4</th>\n",
              "      <td>Ben 10 Ultimate Alien: Cosmic Destruction</td>\n",
              "      <td>PS3</td>\n",
              "      <td>2010</td>\n",
              "      <td>Platform</td>\n",
              "      <td>D3Publisher</td>\n",
              "      <td>0.12</td>\n",
              "      <td>0.09</td>\n",
              "      <td>0.21</td>\n",
              "      <td>2</td>\n",
              "    </tr>\n",
              "    <tr>\n",
              "      <th>6</th>\n",
              "      <td>JASF: Jane's Advanced Strike Fighters</td>\n",
              "      <td>PC</td>\n",
              "      <td>2011</td>\n",
              "      <td>Simulation</td>\n",
              "      <td>Deep Silver</td>\n",
              "      <td>0.02</td>\n",
              "      <td>0.01</td>\n",
              "      <td>0.03</td>\n",
              "      <td>1</td>\n",
              "    </tr>\n",
              "    <tr>\n",
              "      <th>9</th>\n",
              "      <td>The Penguins of Madagascar: Dr. Blowhole Retur...</td>\n",
              "      <td>PS3</td>\n",
              "      <td>2011</td>\n",
              "      <td>Action</td>\n",
              "      <td>THQ</td>\n",
              "      <td>0.04</td>\n",
              "      <td>0.03</td>\n",
              "      <td>0.07</td>\n",
              "      <td>1</td>\n",
              "    </tr>\n",
              "    <tr>\n",
              "      <th>10</th>\n",
              "      <td>Ford Racing</td>\n",
              "      <td>PS</td>\n",
              "      <td>2001</td>\n",
              "      <td>Racing</td>\n",
              "      <td>Empire Interactive</td>\n",
              "      <td>0.48</td>\n",
              "      <td>0.33</td>\n",
              "      <td>0.81</td>\n",
              "      <td>0</td>\n",
              "    </tr>\n",
              "    <tr>\n",
              "      <th>11</th>\n",
              "      <td>Harvest Moon: More Friends of Mineral Town</td>\n",
              "      <td>GBA</td>\n",
              "      <td>2003</td>\n",
              "      <td>Simulation</td>\n",
              "      <td>Ubisoft</td>\n",
              "      <td>0.14</td>\n",
              "      <td>0.05</td>\n",
              "      <td>0.19</td>\n",
              "      <td>2</td>\n",
              "    </tr>\n",
              "  </tbody>\n",
              "</table>\n",
              "</div>\n",
              "      <button class=\"colab-df-convert\" onclick=\"convertToInteractive('df-454953d9-83b8-4dc0-872b-0d9b655be634')\"\n",
              "              title=\"Convert this dataframe to an interactive table.\"\n",
              "              style=\"display:none;\">\n",
              "        \n",
              "  <svg xmlns=\"http://www.w3.org/2000/svg\" height=\"24px\"viewBox=\"0 0 24 24\"\n",
              "       width=\"24px\">\n",
              "    <path d=\"M0 0h24v24H0V0z\" fill=\"none\"/>\n",
              "    <path d=\"M18.56 5.44l.94 2.06.94-2.06 2.06-.94-2.06-.94-.94-2.06-.94 2.06-2.06.94zm-11 1L8.5 8.5l.94-2.06 2.06-.94-2.06-.94L8.5 2.5l-.94 2.06-2.06.94zm10 10l.94 2.06.94-2.06 2.06-.94-2.06-.94-.94-2.06-.94 2.06-2.06.94z\"/><path d=\"M17.41 7.96l-1.37-1.37c-.4-.4-.92-.59-1.43-.59-.52 0-1.04.2-1.43.59L10.3 9.45l-7.72 7.72c-.78.78-.78 2.05 0 2.83L4 21.41c.39.39.9.59 1.41.59.51 0 1.02-.2 1.41-.59l7.78-7.78 2.81-2.81c.8-.78.8-2.07 0-2.86zM5.41 20L4 18.59l7.72-7.72 1.47 1.35L5.41 20z\"/>\n",
              "  </svg>\n",
              "      </button>\n",
              "      \n",
              "  <style>\n",
              "    .colab-df-container {\n",
              "      display:flex;\n",
              "      flex-wrap:wrap;\n",
              "      gap: 12px;\n",
              "    }\n",
              "\n",
              "    .colab-df-convert {\n",
              "      background-color: #E8F0FE;\n",
              "      border: none;\n",
              "      border-radius: 50%;\n",
              "      cursor: pointer;\n",
              "      display: none;\n",
              "      fill: #1967D2;\n",
              "      height: 32px;\n",
              "      padding: 0 0 0 0;\n",
              "      width: 32px;\n",
              "    }\n",
              "\n",
              "    .colab-df-convert:hover {\n",
              "      background-color: #E2EBFA;\n",
              "      box-shadow: 0px 1px 2px rgba(60, 64, 67, 0.3), 0px 1px 3px 1px rgba(60, 64, 67, 0.15);\n",
              "      fill: #174EA6;\n",
              "    }\n",
              "\n",
              "    [theme=dark] .colab-df-convert {\n",
              "      background-color: #3B4455;\n",
              "      fill: #D2E3FC;\n",
              "    }\n",
              "\n",
              "    [theme=dark] .colab-df-convert:hover {\n",
              "      background-color: #434B5C;\n",
              "      box-shadow: 0px 1px 3px 1px rgba(0, 0, 0, 0.15);\n",
              "      filter: drop-shadow(0px 1px 2px rgba(0, 0, 0, 0.3));\n",
              "      fill: #FFFFFF;\n",
              "    }\n",
              "  </style>\n",
              "\n",
              "      <script>\n",
              "        const buttonEl =\n",
              "          document.querySelector('#df-454953d9-83b8-4dc0-872b-0d9b655be634 button.colab-df-convert');\n",
              "        buttonEl.style.display =\n",
              "          google.colab.kernel.accessAllowed ? 'block' : 'none';\n",
              "\n",
              "        async function convertToInteractive(key) {\n",
              "          const element = document.querySelector('#df-454953d9-83b8-4dc0-872b-0d9b655be634');\n",
              "          const dataTable =\n",
              "            await google.colab.kernel.invokeFunction('convertToInteractive',\n",
              "                                                     [key], {});\n",
              "          if (!dataTable) return;\n",
              "\n",
              "          const docLinkHtml = 'Like what you see? Visit the ' +\n",
              "            '<a target=\"_blank\" href=https://colab.research.google.com/notebooks/data_table.ipynb>data table notebook</a>'\n",
              "            + ' to learn more about interactive tables.';\n",
              "          element.innerHTML = '';\n",
              "          dataTable['output_type'] = 'display_data';\n",
              "          await google.colab.output.renderOutput(dataTable, element);\n",
              "          const docLink = document.createElement('div');\n",
              "          docLink.innerHTML = docLinkHtml;\n",
              "          element.appendChild(docLink);\n",
              "        }\n",
              "      </script>\n",
              "    </div>\n",
              "  </div>\n",
              "  "
            ]
          },
          "metadata": {},
          "execution_count": 326
        }
      ]
    },
    {
      "cell_type": "code",
      "source": [
        "game_k3.groupby(['Cluster']).agg({\n",
        "    'NA_Sales': 'mean',\n",
        "    'EU_Sales': 'mean',\n",
        "    'Total_Sales': ['mean','count']\n",
        "}).round(4)"
      ],
      "metadata": {
        "colab": {
          "base_uri": "https://localhost:8080/",
          "height": 206
        },
        "id": "Uo9pf1BKE7z2",
        "outputId": "db19fc97-7c4a-493e-a671-3ffafc41d0a7"
      },
      "execution_count": 86,
      "outputs": [
        {
          "output_type": "execute_result",
          "data": {
            "text/plain": [
              "        NA_Sales EU_Sales Total_Sales      \n",
              "            mean     mean        mean count\n",
              "Cluster                                    \n",
              "0         1.3191   0.8090      2.1281  2108\n",
              "1         0.0611   0.0275      0.0886  3276\n",
              "2         0.2478   0.1237      0.3715  4159"
            ],
            "text/html": [
              "\n",
              "  <div id=\"df-10aa37f5-f8ff-466a-9afb-4513c4f3cb47\">\n",
              "    <div class=\"colab-df-container\">\n",
              "      <div>\n",
              "<style scoped>\n",
              "    .dataframe tbody tr th:only-of-type {\n",
              "        vertical-align: middle;\n",
              "    }\n",
              "\n",
              "    .dataframe tbody tr th {\n",
              "        vertical-align: top;\n",
              "    }\n",
              "\n",
              "    .dataframe thead tr th {\n",
              "        text-align: left;\n",
              "    }\n",
              "\n",
              "    .dataframe thead tr:last-of-type th {\n",
              "        text-align: right;\n",
              "    }\n",
              "</style>\n",
              "<table border=\"1\" class=\"dataframe\">\n",
              "  <thead>\n",
              "    <tr>\n",
              "      <th></th>\n",
              "      <th>NA_Sales</th>\n",
              "      <th>EU_Sales</th>\n",
              "      <th colspan=\"2\" halign=\"left\">Total_Sales</th>\n",
              "    </tr>\n",
              "    <tr>\n",
              "      <th></th>\n",
              "      <th>mean</th>\n",
              "      <th>mean</th>\n",
              "      <th>mean</th>\n",
              "      <th>count</th>\n",
              "    </tr>\n",
              "    <tr>\n",
              "      <th>Cluster</th>\n",
              "      <th></th>\n",
              "      <th></th>\n",
              "      <th></th>\n",
              "      <th></th>\n",
              "    </tr>\n",
              "  </thead>\n",
              "  <tbody>\n",
              "    <tr>\n",
              "      <th>0</th>\n",
              "      <td>1.3191</td>\n",
              "      <td>0.8090</td>\n",
              "      <td>2.1281</td>\n",
              "      <td>2108</td>\n",
              "    </tr>\n",
              "    <tr>\n",
              "      <th>1</th>\n",
              "      <td>0.0611</td>\n",
              "      <td>0.0275</td>\n",
              "      <td>0.0886</td>\n",
              "      <td>3276</td>\n",
              "    </tr>\n",
              "    <tr>\n",
              "      <th>2</th>\n",
              "      <td>0.2478</td>\n",
              "      <td>0.1237</td>\n",
              "      <td>0.3715</td>\n",
              "      <td>4159</td>\n",
              "    </tr>\n",
              "  </tbody>\n",
              "</table>\n",
              "</div>\n",
              "      <button class=\"colab-df-convert\" onclick=\"convertToInteractive('df-10aa37f5-f8ff-466a-9afb-4513c4f3cb47')\"\n",
              "              title=\"Convert this dataframe to an interactive table.\"\n",
              "              style=\"display:none;\">\n",
              "        \n",
              "  <svg xmlns=\"http://www.w3.org/2000/svg\" height=\"24px\"viewBox=\"0 0 24 24\"\n",
              "       width=\"24px\">\n",
              "    <path d=\"M0 0h24v24H0V0z\" fill=\"none\"/>\n",
              "    <path d=\"M18.56 5.44l.94 2.06.94-2.06 2.06-.94-2.06-.94-.94-2.06-.94 2.06-2.06.94zm-11 1L8.5 8.5l.94-2.06 2.06-.94-2.06-.94L8.5 2.5l-.94 2.06-2.06.94zm10 10l.94 2.06.94-2.06 2.06-.94-2.06-.94-.94-2.06-.94 2.06-2.06.94z\"/><path d=\"M17.41 7.96l-1.37-1.37c-.4-.4-.92-.59-1.43-.59-.52 0-1.04.2-1.43.59L10.3 9.45l-7.72 7.72c-.78.78-.78 2.05 0 2.83L4 21.41c.39.39.9.59 1.41.59.51 0 1.02-.2 1.41-.59l7.78-7.78 2.81-2.81c.8-.78.8-2.07 0-2.86zM5.41 20L4 18.59l7.72-7.72 1.47 1.35L5.41 20z\"/>\n",
              "  </svg>\n",
              "      </button>\n",
              "      \n",
              "  <style>\n",
              "    .colab-df-container {\n",
              "      display:flex;\n",
              "      flex-wrap:wrap;\n",
              "      gap: 12px;\n",
              "    }\n",
              "\n",
              "    .colab-df-convert {\n",
              "      background-color: #E8F0FE;\n",
              "      border: none;\n",
              "      border-radius: 50%;\n",
              "      cursor: pointer;\n",
              "      display: none;\n",
              "      fill: #1967D2;\n",
              "      height: 32px;\n",
              "      padding: 0 0 0 0;\n",
              "      width: 32px;\n",
              "    }\n",
              "\n",
              "    .colab-df-convert:hover {\n",
              "      background-color: #E2EBFA;\n",
              "      box-shadow: 0px 1px 2px rgba(60, 64, 67, 0.3), 0px 1px 3px 1px rgba(60, 64, 67, 0.15);\n",
              "      fill: #174EA6;\n",
              "    }\n",
              "\n",
              "    [theme=dark] .colab-df-convert {\n",
              "      background-color: #3B4455;\n",
              "      fill: #D2E3FC;\n",
              "    }\n",
              "\n",
              "    [theme=dark] .colab-df-convert:hover {\n",
              "      background-color: #434B5C;\n",
              "      box-shadow: 0px 1px 3px 1px rgba(0, 0, 0, 0.15);\n",
              "      filter: drop-shadow(0px 1px 2px rgba(0, 0, 0, 0.3));\n",
              "      fill: #FFFFFF;\n",
              "    }\n",
              "  </style>\n",
              "\n",
              "      <script>\n",
              "        const buttonEl =\n",
              "          document.querySelector('#df-10aa37f5-f8ff-466a-9afb-4513c4f3cb47 button.colab-df-convert');\n",
              "        buttonEl.style.display =\n",
              "          google.colab.kernel.accessAllowed ? 'block' : 'none';\n",
              "\n",
              "        async function convertToInteractive(key) {\n",
              "          const element = document.querySelector('#df-10aa37f5-f8ff-466a-9afb-4513c4f3cb47');\n",
              "          const dataTable =\n",
              "            await google.colab.kernel.invokeFunction('convertToInteractive',\n",
              "                                                     [key], {});\n",
              "          if (!dataTable) return;\n",
              "\n",
              "          const docLinkHtml = 'Like what you see? Visit the ' +\n",
              "            '<a target=\"_blank\" href=https://colab.research.google.com/notebooks/data_table.ipynb>data table notebook</a>'\n",
              "            + ' to learn more about interactive tables.';\n",
              "          element.innerHTML = '';\n",
              "          dataTable['output_type'] = 'display_data';\n",
              "          await google.colab.output.renderOutput(dataTable, element);\n",
              "          const docLink = document.createElement('div');\n",
              "          docLink.innerHTML = docLinkHtml;\n",
              "          element.appendChild(docLink);\n",
              "        }\n",
              "      </script>\n",
              "    </div>\n",
              "  </div>\n",
              "  "
            ]
          },
          "metadata": {},
          "execution_count": 86
        }
      ]
    },
    {
      "cell_type": "markdown",
      "source": [
        "Cluster 0: 게임들의 전체 판매량의 평균과 북미와 유럽 모두에서 판매량의 평균이 높다. 특히 북미가 높다.<br>\n",
        "Cluster 1: 북미와 유럽 모두 낮은 성적을 내고 전체 판매량의 평균도 낮은 성적을 낸다.<br>\n",
        "Cluster 2: 북미, 유럽, 전체 판매량에서 모두 중간 정도의 성적을 낸다.\n",
        "<br><br>\n",
        "\n",
        "모든 Cluster의 공통점은 북미의 평균이 더 높다는 것이다."
      ],
      "metadata": {
        "id": "vf_DgyKLFoI8"
      }
    },
    {
      "cell_type": "markdown",
      "source": [
        "# 이로써 우리는 당연하게 Cluster 0에 가까운 game들을 개발해야 한다는 것을 알 수 있다. Cluster 0에 포함되는 게임은 어떤 것들이 있을까"
      ],
      "metadata": {
        "id": "SIRqB6u0H6sG"
      }
    },
    {
      "cell_type": "code",
      "source": [
        "# Cluster 0에 포함되는 게임들의 샘플\n",
        "\n",
        "game_k3_c = game_k3[game_k3['Cluster'] == 0]\n",
        "game_k3_c.sample(20)"
      ],
      "metadata": {
        "colab": {
          "base_uri": "https://localhost:8080/",
          "height": 911
        },
        "id": "Nu7909m-Lwip",
        "outputId": "8278e4cd-13ac-4dc2-b542-8e93b440ed2f"
      },
      "execution_count": 95,
      "outputs": [
        {
          "output_type": "execute_result",
          "data": {
            "text/plain": [
              "                                               Name Platform  Year  \\\n",
              "2028                     Luigi's Mansion: Dark Moon      3DS  2013   \n",
              "456                                         FIFA 14     XOne  2013   \n",
              "11175                                 Dead Rising 2      PS3  2010   \n",
              "2389   Call of Duty: Modern Warfare: Reflex Edition      Wii  2009   \n",
              "7616                                 Medal of Honor      PS3  2010   \n",
              "14142            High School Musical 3: Senior Year       DS  2008   \n",
              "4992                 Call of Duty: Modern Warfare 3      Wii  2011   \n",
              "13822                                 Ford Racing 2      PS2  2003   \n",
              "13229  Brain Age: Train Your Brain in Minutes a Day       DS  2005   \n",
              "5189                                  Madden NFL 06      PS2  2005   \n",
              "16513                         Sonic Mega Collection       GC  2002   \n",
              "13014                 World Soccer Winning Eleven 9      PS2  2005   \n",
              "4923                   Need for Speed Underground 2      PS2  2004   \n",
              "6449           Dirge of Cerberus: Final Fantasy VII      PS2  2006   \n",
              "16380                 Final Fantasy Tactics Advance      GBA  2003   \n",
              "4692                               Crash Nitro Kart      PS2  2003   \n",
              "5642                     Sonic and the Black Knight      Wii  2009   \n",
              "7814                           Kirby: Triple Deluxe      3DS  2014   \n",
              "6808   Street Fighter II': Special Champion Edition      GEN  1992   \n",
              "5565                        Guitar Hero: World Tour     X360  2008   \n",
              "\n",
              "              Genre                     Publisher  NA_Sales  EU_Sales  \\\n",
              "2028         Action                      Nintendo      1.78      1.39   \n",
              "456          Sports               Electronic Arts      0.41      0.66   \n",
              "11175        Action                        Capcom      0.43      0.57   \n",
              "2389        Shooter                    Activision      0.95      0.43   \n",
              "7616        Shooter               Electronic Arts      1.28      1.05   \n",
              "14142          Misc    Disney Interactive Studios      0.64      0.76   \n",
              "4992        Shooter                    Activision      0.60      0.21   \n",
              "13822        Racing            Empire Interactive      0.49      0.38   \n",
              "13229          Misc                      Nintendo      4.75      9.26   \n",
              "5189         Sports               Electronic Arts      3.98      0.26   \n",
              "16513          Misc                    Infogrames      1.47      0.48   \n",
              "13014        Sports  Konami Digital Entertainment      0.12      2.26   \n",
              "4923         Racing               Electronic Arts      2.71      3.02   \n",
              "6449        Shooter                   Square Enix      0.47      0.37   \n",
              "16380  Role-Playing                    SquareSoft      0.82      0.37   \n",
              "4692         Racing                 Vivendi Games      0.74      1.01   \n",
              "5642       Platform                          Sega      0.69      0.35   \n",
              "7814       Platform                      Nintendo      0.61      0.34   \n",
              "6808       Fighting                          Sega      1.00      0.30   \n",
              "5565           Misc                    Activision      1.78      0.64   \n",
              "\n",
              "       Total_Sales  Cluster  \n",
              "2028          3.17        0  \n",
              "456           1.07        0  \n",
              "11175         1.00        0  \n",
              "2389          1.38        0  \n",
              "7616          2.33        0  \n",
              "14142         1.40        0  \n",
              "4992          0.81        0  \n",
              "13822         0.87        0  \n",
              "13229        14.01        0  \n",
              "5189          4.24        0  \n",
              "16513         1.95        0  \n",
              "13014         2.38        0  \n",
              "4923          5.73        0  \n",
              "6449          0.84        0  \n",
              "16380         1.19        0  \n",
              "4692          1.75        0  \n",
              "5642          1.04        0  \n",
              "7814          0.95        0  \n",
              "6808          1.30        0  \n",
              "5565          2.42        0  "
            ],
            "text/html": [
              "\n",
              "  <div id=\"df-474c785c-e881-4f53-b631-34bf30c437e8\">\n",
              "    <div class=\"colab-df-container\">\n",
              "      <div>\n",
              "<style scoped>\n",
              "    .dataframe tbody tr th:only-of-type {\n",
              "        vertical-align: middle;\n",
              "    }\n",
              "\n",
              "    .dataframe tbody tr th {\n",
              "        vertical-align: top;\n",
              "    }\n",
              "\n",
              "    .dataframe thead th {\n",
              "        text-align: right;\n",
              "    }\n",
              "</style>\n",
              "<table border=\"1\" class=\"dataframe\">\n",
              "  <thead>\n",
              "    <tr style=\"text-align: right;\">\n",
              "      <th></th>\n",
              "      <th>Name</th>\n",
              "      <th>Platform</th>\n",
              "      <th>Year</th>\n",
              "      <th>Genre</th>\n",
              "      <th>Publisher</th>\n",
              "      <th>NA_Sales</th>\n",
              "      <th>EU_Sales</th>\n",
              "      <th>Total_Sales</th>\n",
              "      <th>Cluster</th>\n",
              "    </tr>\n",
              "  </thead>\n",
              "  <tbody>\n",
              "    <tr>\n",
              "      <th>2028</th>\n",
              "      <td>Luigi's Mansion: Dark Moon</td>\n",
              "      <td>3DS</td>\n",
              "      <td>2013</td>\n",
              "      <td>Action</td>\n",
              "      <td>Nintendo</td>\n",
              "      <td>1.78</td>\n",
              "      <td>1.39</td>\n",
              "      <td>3.17</td>\n",
              "      <td>0</td>\n",
              "    </tr>\n",
              "    <tr>\n",
              "      <th>456</th>\n",
              "      <td>FIFA 14</td>\n",
              "      <td>XOne</td>\n",
              "      <td>2013</td>\n",
              "      <td>Sports</td>\n",
              "      <td>Electronic Arts</td>\n",
              "      <td>0.41</td>\n",
              "      <td>0.66</td>\n",
              "      <td>1.07</td>\n",
              "      <td>0</td>\n",
              "    </tr>\n",
              "    <tr>\n",
              "      <th>11175</th>\n",
              "      <td>Dead Rising 2</td>\n",
              "      <td>PS3</td>\n",
              "      <td>2010</td>\n",
              "      <td>Action</td>\n",
              "      <td>Capcom</td>\n",
              "      <td>0.43</td>\n",
              "      <td>0.57</td>\n",
              "      <td>1.00</td>\n",
              "      <td>0</td>\n",
              "    </tr>\n",
              "    <tr>\n",
              "      <th>2389</th>\n",
              "      <td>Call of Duty: Modern Warfare: Reflex Edition</td>\n",
              "      <td>Wii</td>\n",
              "      <td>2009</td>\n",
              "      <td>Shooter</td>\n",
              "      <td>Activision</td>\n",
              "      <td>0.95</td>\n",
              "      <td>0.43</td>\n",
              "      <td>1.38</td>\n",
              "      <td>0</td>\n",
              "    </tr>\n",
              "    <tr>\n",
              "      <th>7616</th>\n",
              "      <td>Medal of Honor</td>\n",
              "      <td>PS3</td>\n",
              "      <td>2010</td>\n",
              "      <td>Shooter</td>\n",
              "      <td>Electronic Arts</td>\n",
              "      <td>1.28</td>\n",
              "      <td>1.05</td>\n",
              "      <td>2.33</td>\n",
              "      <td>0</td>\n",
              "    </tr>\n",
              "    <tr>\n",
              "      <th>14142</th>\n",
              "      <td>High School Musical 3: Senior Year</td>\n",
              "      <td>DS</td>\n",
              "      <td>2008</td>\n",
              "      <td>Misc</td>\n",
              "      <td>Disney Interactive Studios</td>\n",
              "      <td>0.64</td>\n",
              "      <td>0.76</td>\n",
              "      <td>1.40</td>\n",
              "      <td>0</td>\n",
              "    </tr>\n",
              "    <tr>\n",
              "      <th>4992</th>\n",
              "      <td>Call of Duty: Modern Warfare 3</td>\n",
              "      <td>Wii</td>\n",
              "      <td>2011</td>\n",
              "      <td>Shooter</td>\n",
              "      <td>Activision</td>\n",
              "      <td>0.60</td>\n",
              "      <td>0.21</td>\n",
              "      <td>0.81</td>\n",
              "      <td>0</td>\n",
              "    </tr>\n",
              "    <tr>\n",
              "      <th>13822</th>\n",
              "      <td>Ford Racing 2</td>\n",
              "      <td>PS2</td>\n",
              "      <td>2003</td>\n",
              "      <td>Racing</td>\n",
              "      <td>Empire Interactive</td>\n",
              "      <td>0.49</td>\n",
              "      <td>0.38</td>\n",
              "      <td>0.87</td>\n",
              "      <td>0</td>\n",
              "    </tr>\n",
              "    <tr>\n",
              "      <th>13229</th>\n",
              "      <td>Brain Age: Train Your Brain in Minutes a Day</td>\n",
              "      <td>DS</td>\n",
              "      <td>2005</td>\n",
              "      <td>Misc</td>\n",
              "      <td>Nintendo</td>\n",
              "      <td>4.75</td>\n",
              "      <td>9.26</td>\n",
              "      <td>14.01</td>\n",
              "      <td>0</td>\n",
              "    </tr>\n",
              "    <tr>\n",
              "      <th>5189</th>\n",
              "      <td>Madden NFL 06</td>\n",
              "      <td>PS2</td>\n",
              "      <td>2005</td>\n",
              "      <td>Sports</td>\n",
              "      <td>Electronic Arts</td>\n",
              "      <td>3.98</td>\n",
              "      <td>0.26</td>\n",
              "      <td>4.24</td>\n",
              "      <td>0</td>\n",
              "    </tr>\n",
              "    <tr>\n",
              "      <th>16513</th>\n",
              "      <td>Sonic Mega Collection</td>\n",
              "      <td>GC</td>\n",
              "      <td>2002</td>\n",
              "      <td>Misc</td>\n",
              "      <td>Infogrames</td>\n",
              "      <td>1.47</td>\n",
              "      <td>0.48</td>\n",
              "      <td>1.95</td>\n",
              "      <td>0</td>\n",
              "    </tr>\n",
              "    <tr>\n",
              "      <th>13014</th>\n",
              "      <td>World Soccer Winning Eleven 9</td>\n",
              "      <td>PS2</td>\n",
              "      <td>2005</td>\n",
              "      <td>Sports</td>\n",
              "      <td>Konami Digital Entertainment</td>\n",
              "      <td>0.12</td>\n",
              "      <td>2.26</td>\n",
              "      <td>2.38</td>\n",
              "      <td>0</td>\n",
              "    </tr>\n",
              "    <tr>\n",
              "      <th>4923</th>\n",
              "      <td>Need for Speed Underground 2</td>\n",
              "      <td>PS2</td>\n",
              "      <td>2004</td>\n",
              "      <td>Racing</td>\n",
              "      <td>Electronic Arts</td>\n",
              "      <td>2.71</td>\n",
              "      <td>3.02</td>\n",
              "      <td>5.73</td>\n",
              "      <td>0</td>\n",
              "    </tr>\n",
              "    <tr>\n",
              "      <th>6449</th>\n",
              "      <td>Dirge of Cerberus: Final Fantasy VII</td>\n",
              "      <td>PS2</td>\n",
              "      <td>2006</td>\n",
              "      <td>Shooter</td>\n",
              "      <td>Square Enix</td>\n",
              "      <td>0.47</td>\n",
              "      <td>0.37</td>\n",
              "      <td>0.84</td>\n",
              "      <td>0</td>\n",
              "    </tr>\n",
              "    <tr>\n",
              "      <th>16380</th>\n",
              "      <td>Final Fantasy Tactics Advance</td>\n",
              "      <td>GBA</td>\n",
              "      <td>2003</td>\n",
              "      <td>Role-Playing</td>\n",
              "      <td>SquareSoft</td>\n",
              "      <td>0.82</td>\n",
              "      <td>0.37</td>\n",
              "      <td>1.19</td>\n",
              "      <td>0</td>\n",
              "    </tr>\n",
              "    <tr>\n",
              "      <th>4692</th>\n",
              "      <td>Crash Nitro Kart</td>\n",
              "      <td>PS2</td>\n",
              "      <td>2003</td>\n",
              "      <td>Racing</td>\n",
              "      <td>Vivendi Games</td>\n",
              "      <td>0.74</td>\n",
              "      <td>1.01</td>\n",
              "      <td>1.75</td>\n",
              "      <td>0</td>\n",
              "    </tr>\n",
              "    <tr>\n",
              "      <th>5642</th>\n",
              "      <td>Sonic and the Black Knight</td>\n",
              "      <td>Wii</td>\n",
              "      <td>2009</td>\n",
              "      <td>Platform</td>\n",
              "      <td>Sega</td>\n",
              "      <td>0.69</td>\n",
              "      <td>0.35</td>\n",
              "      <td>1.04</td>\n",
              "      <td>0</td>\n",
              "    </tr>\n",
              "    <tr>\n",
              "      <th>7814</th>\n",
              "      <td>Kirby: Triple Deluxe</td>\n",
              "      <td>3DS</td>\n",
              "      <td>2014</td>\n",
              "      <td>Platform</td>\n",
              "      <td>Nintendo</td>\n",
              "      <td>0.61</td>\n",
              "      <td>0.34</td>\n",
              "      <td>0.95</td>\n",
              "      <td>0</td>\n",
              "    </tr>\n",
              "    <tr>\n",
              "      <th>6808</th>\n",
              "      <td>Street Fighter II': Special Champion Edition</td>\n",
              "      <td>GEN</td>\n",
              "      <td>1992</td>\n",
              "      <td>Fighting</td>\n",
              "      <td>Sega</td>\n",
              "      <td>1.00</td>\n",
              "      <td>0.30</td>\n",
              "      <td>1.30</td>\n",
              "      <td>0</td>\n",
              "    </tr>\n",
              "    <tr>\n",
              "      <th>5565</th>\n",
              "      <td>Guitar Hero: World Tour</td>\n",
              "      <td>X360</td>\n",
              "      <td>2008</td>\n",
              "      <td>Misc</td>\n",
              "      <td>Activision</td>\n",
              "      <td>1.78</td>\n",
              "      <td>0.64</td>\n",
              "      <td>2.42</td>\n",
              "      <td>0</td>\n",
              "    </tr>\n",
              "  </tbody>\n",
              "</table>\n",
              "</div>\n",
              "      <button class=\"colab-df-convert\" onclick=\"convertToInteractive('df-474c785c-e881-4f53-b631-34bf30c437e8')\"\n",
              "              title=\"Convert this dataframe to an interactive table.\"\n",
              "              style=\"display:none;\">\n",
              "        \n",
              "  <svg xmlns=\"http://www.w3.org/2000/svg\" height=\"24px\"viewBox=\"0 0 24 24\"\n",
              "       width=\"24px\">\n",
              "    <path d=\"M0 0h24v24H0V0z\" fill=\"none\"/>\n",
              "    <path d=\"M18.56 5.44l.94 2.06.94-2.06 2.06-.94-2.06-.94-.94-2.06-.94 2.06-2.06.94zm-11 1L8.5 8.5l.94-2.06 2.06-.94-2.06-.94L8.5 2.5l-.94 2.06-2.06.94zm10 10l.94 2.06.94-2.06 2.06-.94-2.06-.94-.94-2.06-.94 2.06-2.06.94z\"/><path d=\"M17.41 7.96l-1.37-1.37c-.4-.4-.92-.59-1.43-.59-.52 0-1.04.2-1.43.59L10.3 9.45l-7.72 7.72c-.78.78-.78 2.05 0 2.83L4 21.41c.39.39.9.59 1.41.59.51 0 1.02-.2 1.41-.59l7.78-7.78 2.81-2.81c.8-.78.8-2.07 0-2.86zM5.41 20L4 18.59l7.72-7.72 1.47 1.35L5.41 20z\"/>\n",
              "  </svg>\n",
              "      </button>\n",
              "      \n",
              "  <style>\n",
              "    .colab-df-container {\n",
              "      display:flex;\n",
              "      flex-wrap:wrap;\n",
              "      gap: 12px;\n",
              "    }\n",
              "\n",
              "    .colab-df-convert {\n",
              "      background-color: #E8F0FE;\n",
              "      border: none;\n",
              "      border-radius: 50%;\n",
              "      cursor: pointer;\n",
              "      display: none;\n",
              "      fill: #1967D2;\n",
              "      height: 32px;\n",
              "      padding: 0 0 0 0;\n",
              "      width: 32px;\n",
              "    }\n",
              "\n",
              "    .colab-df-convert:hover {\n",
              "      background-color: #E2EBFA;\n",
              "      box-shadow: 0px 1px 2px rgba(60, 64, 67, 0.3), 0px 1px 3px 1px rgba(60, 64, 67, 0.15);\n",
              "      fill: #174EA6;\n",
              "    }\n",
              "\n",
              "    [theme=dark] .colab-df-convert {\n",
              "      background-color: #3B4455;\n",
              "      fill: #D2E3FC;\n",
              "    }\n",
              "\n",
              "    [theme=dark] .colab-df-convert:hover {\n",
              "      background-color: #434B5C;\n",
              "      box-shadow: 0px 1px 3px 1px rgba(0, 0, 0, 0.15);\n",
              "      filter: drop-shadow(0px 1px 2px rgba(0, 0, 0, 0.3));\n",
              "      fill: #FFFFFF;\n",
              "    }\n",
              "  </style>\n",
              "\n",
              "      <script>\n",
              "        const buttonEl =\n",
              "          document.querySelector('#df-474c785c-e881-4f53-b631-34bf30c437e8 button.colab-df-convert');\n",
              "        buttonEl.style.display =\n",
              "          google.colab.kernel.accessAllowed ? 'block' : 'none';\n",
              "\n",
              "        async function convertToInteractive(key) {\n",
              "          const element = document.querySelector('#df-474c785c-e881-4f53-b631-34bf30c437e8');\n",
              "          const dataTable =\n",
              "            await google.colab.kernel.invokeFunction('convertToInteractive',\n",
              "                                                     [key], {});\n",
              "          if (!dataTable) return;\n",
              "\n",
              "          const docLinkHtml = 'Like what you see? Visit the ' +\n",
              "            '<a target=\"_blank\" href=https://colab.research.google.com/notebooks/data_table.ipynb>data table notebook</a>'\n",
              "            + ' to learn more about interactive tables.';\n",
              "          element.innerHTML = '';\n",
              "          dataTable['output_type'] = 'display_data';\n",
              "          await google.colab.output.renderOutput(dataTable, element);\n",
              "          const docLink = document.createElement('div');\n",
              "          docLink.innerHTML = docLinkHtml;\n",
              "          element.appendChild(docLink);\n",
              "        }\n",
              "      </script>\n",
              "    </div>\n",
              "  </div>\n",
              "  "
            ]
          },
          "metadata": {},
          "execution_count": 95
        }
      ]
    },
    {
      "cell_type": "code",
      "source": [
        "# Cluster 0에 들어가는 장르별 게임 수\n",
        "\n",
        "game_k3_c.groupby('Genre')['Name'].count()"
      ],
      "metadata": {
        "colab": {
          "base_uri": "https://localhost:8080/"
        },
        "id": "_clJptONIDDh",
        "outputId": "502427b5-3575-4caa-ce78-c18e35b593b3"
      },
      "execution_count": 96,
      "outputs": [
        {
          "output_type": "execute_result",
          "data": {
            "text/plain": [
              "Genre\n",
              "Action          475\n",
              "Adventure        44\n",
              "Fighting        126\n",
              "Misc            167\n",
              "Platform        192\n",
              "Puzzle           50\n",
              "Racing          199\n",
              "Role-Playing    153\n",
              "Shooter         279\n",
              "Simulation       87\n",
              "Sports          310\n",
              "Strategy         26\n",
              "Name: Name, dtype: int64"
            ]
          },
          "metadata": {},
          "execution_count": 96
        }
      ]
    },
    {
      "cell_type": "markdown",
      "source": [
        "# 1위가 Action, 2위가 Sports, 3위가 Shooter장르이다. 하지만 앞서 설명했듯 Action장르와 Sports장르는 최근 판매율이 부진하므로 Shooter장르가 적절하다고 생각한다."
      ],
      "metadata": {
        "id": "AL1f7U5NJDbQ"
      }
    },
    {
      "cell_type": "markdown",
      "source": [
        "# 최종 결과\n",
        "\n",
        "  - 지금까지 다음 분기에 개발할 게임을 데이터를 분석해 정해보았고 검증까지 진행하였다. 그 결과 북미지역에 Shooter 게임을 PS4나 PC 크로스플렛폼 기반으로 출시하는 것이 가장 높은 수익을 거둘 것으로 예상하는 것은 타당하다는 결론이 도출되었고, 그에 맞춰 개발을 진행하면 될 것이다.\n",
        "  - 시각화를 통해 가장 꼼꼼하게 살펴본 것은 최근 장르별 판매량 차트이다. 어느 장르가 어느 지역에서 최신 트렌드로 각광받고 있는지 확인하기 위해서다. 기본적으로 기업은 이윤을 추구한다. 이윤이란, 총 수입에서 내가 투자한 비용을 제 한 수익으로 대부분 \"손익분기점\"이라는 단어로 수익성을 들어 보았을 것이다. 물론 게임에 투자한 비용은 게임마다, 장르마다, 연도의 트렌드마다 다르겠지만 출고량, 판매량이 높다는 것은 그 게임에 대한 기대와 흥미가 높다는 것을 뜻하고 해당 회사에 대한 주가 PER이 증가하여 장기적으로 보았을 때도 이 회사의 차기작의 수익성에 큰 기대를 걸 수 있게 된다."
      ],
      "metadata": {
        "id": "2EEX7nRRoVxC"
      }
    },
    {
      "cell_type": "markdown",
      "source": [
        "# 추가분석\n",
        "\n",
        "  - 위에서 인기의 척도를 정의했다.회사의 자체개발이 아닌 이미 시장에 나와 다른 시리즈들로 인기와 기대치의 기반을 잡은 게임들의 후속작들이 판매량이 높다는 것을 파악(ex : GTA, 포켓몬, 심즈, 스트리트파이터, 디즈니, 레고 등)\n",
        "  - Shooter장르의 대표회사인 엑티비전블리자드, EA 등과 협업하여 게임에 들어가는 리소스를 같이 개발해나가는 방향으로 진행되어야 할 것이다.\n",
        "  - 게임기업의 수익은 개발비용이 얼마나 들어서 얼마의 수입을 냈냐에 따라서 게임의 성적을 평가한다. 절반 정도가 인건비로 개발비용이 사용되지만 정확한 데이터를 위해 출시된 게임들의 총 개발비용을 찾아보았다. 로스트아크 약 1000억원, 리니지2 약 500억원, GTA5 약 3200억원, 배틀필드4 약 1180억원, 파이널판타지 14 약 1000억원, 위쳐3 약 500억원, 배틀그라운드 약 40억원, 콜오브듀티:모던워페어2가 약 3290억원으로 1등을 차지했다. 평균적으로 Action장르나 RPG장르가 평균적으로 개발비용이 많이 들지만 Shooter장르도 특정 게임에서 높은 개발비용을 보이고 있다."
      ],
      "metadata": {
        "id": "hVT5xlOlo1dL"
      }
    },
    {
      "cell_type": "markdown",
      "source": [
        "# 2023년의 시점으로 보았을 때 결과분석\n",
        "\n",
        "  - 우리는 이미 결과를 알고 있다. 콘솔시장에서는 역시 플레이스테이션4가 전체 콘솔게임의 판매량 중 55%를 차지하였다. 대표적인 플레이스테이션4의 2016년 출시 게임으로는 다크소울3, 언챠티드4, 파이널 판타지15, 문명6, 콜오브듀티:인피니트 워페어, 디스아너드2 등이 있다. 대부분 Action, RPG, Adventure 장르의 대작이다. 하지만 Shooter 장르에서 역사에 남을 게임이 등장했다. 시리즈들로 인기와 기대치의 기반을 잡은 게임들의 후속작들이 판매량이 높다는 것을 파악했고, Shooter장르의 대표회사인 엑티비전블리자드, EA와 협업하여야 한다는 결론을 도출했으며, 플레이스테이션4와 PC 크로스플렛폼이 가능하게 설계해야한다고 분석했었다. 이 3가지 조건을 만족하는 게임으로 오버워치1이 등장하면서 전 세계를 휩쓸며 세계 게임시장의 부동의 1위 League of Legend(속칭 LOL,롤)을 2위로 끌어내렸다.<br><br>\n",
        "\n",
        "결과론적으로 보았을 때, 데이터 분석을 잘 되었다고 생각한다.<br>\n",
        "감사합니다."
      ],
      "metadata": {
        "id": "l2Lc7ezcwIWT"
      }
    }
  ],
  "metadata": {
    "colab": {
      "provenance": []
    },
    "kernelspec": {
      "display_name": "Python 3",
      "name": "python3"
    }
  },
  "nbformat": 4,
  "nbformat_minor": 0
}